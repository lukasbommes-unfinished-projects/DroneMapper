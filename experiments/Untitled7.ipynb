{
 "cells": [
  {
   "cell_type": "code",
   "execution_count": 124,
   "metadata": {},
   "outputs": [],
   "source": [
    "%matplotlib ipympl\n",
    "import cv2\n",
    "import numpy as np\n",
    "import matplotlib.pyplot as plt\n",
    "from mpl_toolkits.mplot3d import Axes3D\n",
    "from pytransform3d.rotations import *"
   ]
  },
  {
   "cell_type": "code",
   "execution_count": 125,
   "metadata": {},
   "outputs": [],
   "source": [
    "# create two views of points\n",
    "pts1 = np.array([[0.5, 0.5],\n",
    "                 [0.6, 0.6],\n",
    "                 [0.7, 0.7],\n",
    "                 [0.65, 0.75]])\n",
    "pts2 = np.array([[0.4, 0.5],\n",
    "                 [0.5, 0.6],\n",
    "                 [0.6, 0.4],\n",
    "                 [0.6, 0.65]])"
   ]
  },
  {
   "cell_type": "code",
   "execution_count": 137,
   "metadata": {},
   "outputs": [
    {
     "data": {
      "text/plain": [
       "array([[0.5 , 0.6 , 0.7 , 0.65],\n",
       "       [0.5 , 0.6 , 0.7 , 0.75]])"
      ]
     },
     "execution_count": 137,
     "metadata": {},
     "output_type": "execute_result"
    }
   ],
   "source": [
    "pts1.T"
   ]
  },
  {
   "cell_type": "code",
   "execution_count": 127,
   "metadata": {},
   "outputs": [],
   "source": [
    "# camera matrix\n",
    "K = np.array([[1,0,0.5],[0,1,0.5],[0,0,1]])"
   ]
  },
  {
   "cell_type": "code",
   "execution_count": 128,
   "metadata": {},
   "outputs": [],
   "source": [
    "# relative camera pose\n",
    "R1 = np.array([[1, 0, 0], [0, 1, 0], [0, 0, 1]]).astype(np.float64)\n",
    "t1 = np.array([[0], [0], [0]]).astype(np.float64)\n",
    "R2 = np.array([[1, 0, 0], [0, 1, 0], [0, 0, 1]]).astype(np.float64)\n",
    "t2 = np.array([[1], [0], [0]]).astype(np.float64)"
   ]
  },
  {
   "cell_type": "code",
   "execution_count": 129,
   "metadata": {},
   "outputs": [],
   "source": [
    "# create projection matrices\n",
    "proj_matrix1 = np.hstack([R1.T, -R1.T.dot(t1)])\n",
    "proj_matrix2 = np.hstack([R2.T, -R2.T.dot(t2)])\n",
    "proj_matrix1 = K.dot(proj_matrix1)\n",
    "proj_matrix2 = K.dot(proj_matrix2)"
   ]
  },
  {
   "cell_type": "code",
   "execution_count": 130,
   "metadata": {},
   "outputs": [
    {
     "data": {
      "text/plain": [
       "array([[1. , 0. , 0.5, 0. ],\n",
       "       [0. , 1. , 0.5, 0. ],\n",
       "       [0. , 0. , 1. , 0. ]])"
      ]
     },
     "execution_count": 130,
     "metadata": {},
     "output_type": "execute_result"
    }
   ],
   "source": [
    "proj_matrix1"
   ]
  },
  {
   "cell_type": "code",
   "execution_count": 131,
   "metadata": {},
   "outputs": [
    {
     "data": {
      "text/plain": [
       "array([[ 1. ,  0. ,  0.5, -1. ],\n",
       "       [ 0. ,  1. ,  0.5,  0. ],\n",
       "       [ 0. ,  0. ,  1. ,  0. ]])"
      ]
     },
     "execution_count": 131,
     "metadata": {},
     "output_type": "execute_result"
    }
   ],
   "source": [
    "proj_matrix2"
   ]
  },
  {
   "cell_type": "code",
   "execution_count": 132,
   "metadata": {},
   "outputs": [],
   "source": [
    "pts = cv2.triangulatePoints(proj_matrix1, proj_matrix2, pts1.T, pts2.T).T"
   ]
  },
  {
   "cell_type": "code",
   "execution_count": 133,
   "metadata": {},
   "outputs": [],
   "source": [
    "pts = cv2.convertPointsFromHomogeneous(pts).reshape(-1, 3)"
   ]
  },
  {
   "cell_type": "code",
   "execution_count": 134,
   "metadata": {},
   "outputs": [
    {
     "data": {
      "text/plain": [
       "array([[-4.94065646e-323, -0.00000000e+000,  1.00000000e+001],\n",
       "       [ 1.00000000e+000,  1.00000000e+000,  1.00000000e+001],\n",
       "       [ 1.79588498e+000,  4.28337839e-001,  8.38445426e+000],\n",
       "       [ 2.94885129e+000,  3.91628023e+000,  1.95354482e+001]])"
      ]
     },
     "execution_count": 134,
     "metadata": {},
     "output_type": "execute_result"
    }
   ],
   "source": [
    "pts"
   ]
  },
  {
   "cell_type": "code",
   "execution_count": 141,
   "metadata": {},
   "outputs": [
    {
     "name": "stdout",
     "output_type": "stream",
     "text": [
      "2\n",
      "[[-0.04427829 -0.02911439  0.99859491]\n",
      " [ 0.65984986  0.74965689  0.05111465]\n",
      " [-0.75009173  0.66118597 -0.0139824 ]] [[-6.17432281]\n",
      " [ 0.09153759]\n",
      " [ 9.62433663]]\n"
     ]
    }
   ],
   "source": [
    "# pt1\n",
    "#img_points = np.array([[0.5, 0.5],\n",
    "#                 [0.6, 0.6],\n",
    "#                 [0.7, 0.7],\n",
    "#                 [0.65, 0.75]])\n",
    "# pt2\n",
    "img_points = np.array([[0.4, 0.5],\n",
    "                 [0.5, 0.6],\n",
    "                 [0.6, 0.4],\n",
    "                 [0.6, 0.65]])\n",
    "\n",
    "retval, rvec, tvec, inliers = cv2.solvePnPRansac(pts.reshape(-1, 1, 3), img_points.reshape(-1, 1, 2), K, None, reprojectionError=8, iterationsCount=100)#, flags=cv2.SOLVEPNP_EPNP)\n",
    "#retval, rvec, tvec = cv2.solveP3P(pts.reshape(-1, 1, 3), img_points.reshape(-1, 1, 2), K, None, flags=cv2.SOLVEPNP_P3P)\n",
    "#rvec = rvec[0]\n",
    "#tvec = tvec[0]\n",
    "print(retval)\n",
    "\n",
    "# convert t vector from camera coords to world coords\n",
    "R_recovered = cv2.Rodrigues(rvec)[0].T\n",
    "t_recovered = -np.matmul(cv2.Rodrigues(rvec)[0].T, tvec)\n",
    "\n",
    "print(R_recovered, t_recovered)\n",
    "\n",
    "# expected:\n",
    "# rvec, tvec is the position and orientation of the world coords w.r.t. the coordinate system of the second camera\n",
    "# to get pose of second camera w.r.t. world coords compute -Rodrigues(rvec).T*tvec"
   ]
  },
  {
   "cell_type": "code",
   "execution_count": 142,
   "metadata": {},
   "outputs": [
    {
     "data": {
      "text/plain": [
       "array([[ 1.04427829,  0.02911439, -0.99859491],\n",
       "       [-0.65984986,  0.25034311, -0.05111465],\n",
       "       [ 0.75009173, -0.66118597,  1.0139824 ]])"
      ]
     },
     "execution_count": 142,
     "metadata": {},
     "output_type": "execute_result"
    }
   ],
   "source": [
    "R2-R_recovered"
   ]
  },
  {
   "cell_type": "code",
   "execution_count": 143,
   "metadata": {},
   "outputs": [
    {
     "data": {
      "text/plain": [
       "array([[ 7.17432281],\n",
       "       [-0.09153759],\n",
       "       [-9.62433663]])"
      ]
     },
     "execution_count": 143,
     "metadata": {},
     "output_type": "execute_result"
    }
   ],
   "source": [
    "t2-t_recovered"
   ]
  },
  {
   "cell_type": "code",
   "execution_count": 116,
   "metadata": {},
   "outputs": [
    {
     "name": "stdout",
     "output_type": "stream",
     "text": [
      "world [-5.e-323 -0.e+000  1.e+001] reprojected image [[[0.40000002 0.49999999]]]\n",
      "world [ 1.  1. 10.] reprojected image [[[0.50000002 0.59999999]]]\n",
      "world [1.79588498 0.42833784 8.38445426] reprojected image [[[0.59999998 0.40000002]]]\n",
      "world [ 2.94885129  3.91628023 19.53544818] reprojected image [[[0.70099566 1.22408603]]]\n"
     ]
    }
   ],
   "source": [
    "# map a world point to a camera point for testing\n",
    "for pt in pts:\n",
    "    test_pts = cv2.convertPointsToHomogeneous(pt.reshape(1, 3))\n",
    "    R_recovered = cv2.Rodrigues(rvec)[0]\n",
    "    t_recovered = tvec\n",
    "    proj_matric_recovered = np.zeros((3, 4))\n",
    "    proj_matric_recovered[:, :3] = R_recovered\n",
    "    proj_matric_recovered[:, -1] = t_recovered.reshape(3,)\n",
    "    proj_matric_recovered = np.matmul(K, proj_matric_recovered)\n",
    "    img_pts = np.matmul(proj_matric_recovered, test_pts[0, 0, :]) \n",
    "    img_pts = cv2.convertPointsFromHomogeneous(img_pts.reshape(1, 3))\n",
    "    print(\"world\", pt, \"reprojected image\", img_pts)"
   ]
  },
  {
   "cell_type": "code",
   "execution_count": 117,
   "metadata": {},
   "outputs": [
    {
     "name": "stdout",
     "output_type": "stream",
     "text": [
      "[[[0.4        0.5       ]]\n",
      "\n",
      " [[0.5        0.6       ]]\n",
      "\n",
      " [[0.59492389 0.55108715]]\n",
      "\n",
      " [[0.59975974 0.70047046]]]\n"
     ]
    }
   ],
   "source": [
    "rvec2, _ = cv2.Rodrigues(R2.T)\n",
    "p2, _ = cv2.projectPoints(pts, rvec2, -t2, K, distCoeffs=None)\n",
    "print(p2)"
   ]
  },
  {
   "cell_type": "code",
   "execution_count": 118,
   "metadata": {},
   "outputs": [
    {
     "name": "stdout",
     "output_type": "stream",
     "text": [
      "[[[0.40000002 0.49999999]]\n",
      "\n",
      " [[0.50000002 0.59999999]]\n",
      "\n",
      " [[0.59999998 0.40000002]]\n",
      "\n",
      " [[0.70099566 1.22408603]]]\n"
     ]
    }
   ],
   "source": [
    "p2, _ = cv2.projectPoints(pts, rvec, tvec, K, distCoeffs=None)\n",
    "print(p2)"
   ]
  },
  {
   "cell_type": "code",
   "execution_count": 119,
   "metadata": {},
   "outputs": [
    {
     "data": {
      "application/vnd.jupyter.widget-view+json": {
       "model_id": "",
       "version_major": 2,
       "version_minor": 0
      },
      "text/plain": [
       "FigureCanvasNbAgg()"
      ]
     },
     "metadata": {},
     "output_type": "display_data"
    }
   ],
   "source": [
    "fig = plt.figure()\n",
    "ax = fig.add_subplot(111, projection='3d')\n",
    "ax.scatter(pts[:, 0], pts[:, 1], pts[:, 2])\n",
    "plot_basis(ax, R1, t1.reshape(3,))\n",
    "plot_basis(ax, R2, t2.reshape(3,))\n",
    "plot_basis(ax, R_recovered, t_recovered.reshape(3,))\n",
    "ax.set_xlim([-10,10])\n",
    "ax.set_ylim([-10,10])\n",
    "ax.set_zlim([-10,10])\n",
    "plt.show()"
   ]
  },
  {
   "cell_type": "code",
   "execution_count": null,
   "metadata": {},
   "outputs": [],
   "source": []
  },
  {
   "cell_type": "code",
   "execution_count": null,
   "metadata": {},
   "outputs": [],
   "source": []
  }
 ],
 "metadata": {
  "kernelspec": {
   "display_name": "Python 3",
   "language": "python",
   "name": "python3"
  },
  "language_info": {
   "codemirror_mode": {
    "name": "ipython",
    "version": 3
   },
   "file_extension": ".py",
   "mimetype": "text/x-python",
   "name": "python",
   "nbconvert_exporter": "python",
   "pygments_lexer": "ipython3",
   "version": "3.7.4"
  }
 },
 "nbformat": 4,
 "nbformat_minor": 2
}
