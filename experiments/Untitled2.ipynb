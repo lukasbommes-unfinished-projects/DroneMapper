{
 "cells": [
  {
   "cell_type": "code",
   "execution_count": 1,
   "metadata": {},
   "outputs": [],
   "source": [
    "%matplotlib ipympl\n",
    "import numpy as np\n",
    "from matplotlib import pyplot as plt\n",
    "from mpl_toolkits.mplot3d import Axes3D"
   ]
  },
  {
   "cell_type": "code",
   "execution_count": 2,
   "metadata": {},
   "outputs": [
    {
     "data": {
      "application/vnd.jupyter.widget-view+json": {
       "model_id": "6d382c004b7b46c6bf77dda57b6a6314",
       "version_major": 2,
       "version_minor": 0
      },
      "text/plain": [
       "FigureCanvasNbAgg()"
      ]
     },
     "metadata": {},
     "output_type": "display_data"
    },
    {
     "name": "stdout",
     "output_type": "stream",
     "text": [
      "[[ 1.          0.          0.        ]\n",
      " [ 0.          0.70710678  0.70710678]\n",
      " [ 0.         -0.70710678  0.70710678]]\n",
      "[[ 0.70710678  0.         -0.70710678]\n",
      " [ 0.          1.          0.        ]\n",
      " [ 0.70710678  0.          0.70710678]]\n",
      "[[ 0.70710678  0.70710678  0.        ]\n",
      " [-0.70710678  0.70710678  0.        ]\n",
      " [ 0.          0.          1.        ]]\n",
      "[[ 0.70710678 -0.70710678  0.        ]\n",
      " [ 0.70710678  0.70710678  0.        ]\n",
      " [ 0.          0.          1.        ]]\n"
     ]
    }
   ],
   "source": [
    "from pytransform3d.rotations import *\n",
    "\n",
    "fig = plt.figure()\n",
    "ax = fig.add_subplot(111, projection='3d')\n",
    "ax.set_xlim(0,2)\n",
    "ax.set_ylim(0,2)\n",
    "ax.set_zlim(0,2)\n",
    "plot_basis(ax)\n",
    "\n",
    "angle = 45*np.pi/180\n",
    "t = [0, 0, 0]\n",
    "\n",
    "R = matrix_from_euler_xyz([angle, 0, 0])\n",
    "print(R)\n",
    "#plot_basis(ax, R, t)\n",
    "\n",
    "R = matrix_from_euler_xyz([0, angle, 0])\n",
    "print(R)\n",
    "plot_basis(ax, R, t)\n",
    "\n",
    "R = matrix_from_euler_xyz([0, 0, angle])\n",
    "print(R)\n",
    "print(np.linalg.inv(R))\n",
    "#plot_basis(ax, R, t)\n",
    "\n",
    "plt.show()"
   ]
  },
  {
   "cell_type": "code",
   "execution_count": 3,
   "metadata": {},
   "outputs": [],
   "source": [
    "import pickle\n",
    "\n",
    "Rs = pickle.load(open(\"DroneMapper/Rs.pkl\", \"rb\"))\n",
    "ts = pickle.load(open(\"DroneMapper/ts.pkl\", \"rb\"))"
   ]
  },
  {
   "cell_type": "code",
   "execution_count": 4,
   "metadata": {},
   "outputs": [
    {
     "data": {
      "application/vnd.jupyter.widget-view+json": {
       "model_id": "6913500ee9474d42b046297d9477f156",
       "version_major": 2,
       "version_minor": 0
      },
      "text/plain": [
       "FigureCanvasNbAgg()"
      ]
     },
     "metadata": {},
     "output_type": "display_data"
    }
   ],
   "source": [
    "fig = plt.figure()\n",
    "ax = fig.add_subplot(111, projection='3d')\n",
    "ax.set_xlim(0,2)\n",
    "ax.set_ylim(0,2)\n",
    "ax.set_zlim(0,2)\n",
    "ax.set_xlabel(\"x\")\n",
    "ax.set_ylabel(\"y\")\n",
    "ax.set_zlabel(\"z\")\n",
    "plot_basis(ax)\n",
    "\n",
    "#for R, t in zip(Rs, ts):   \n",
    "plot_basis(ax, Rs[0], ts[0].reshape(3,))\n",
    "plot_basis(ax, Rs[1], ts[1].reshape(3,))\n",
    "plot_basis(ax, Rs[2], ts[2].reshape(3,))\n",
    "plt.show()"
   ]
  },
  {
   "cell_type": "code",
   "execution_count": 5,
   "metadata": {},
   "outputs": [],
   "source": [
    "map_points = pickle.load(open(\"DroneMapper/map_points.pkl\", \"rb\"))"
   ]
  },
  {
   "cell_type": "code",
   "execution_count": 6,
   "metadata": {},
   "outputs": [
    {
     "data": {
      "application/vnd.jupyter.widget-view+json": {
       "model_id": "c51e130344f14b10bb238ae6a6a767c4",
       "version_major": 2,
       "version_minor": 0
      },
      "text/plain": [
       "FigureCanvasNbAgg()"
      ]
     },
     "metadata": {},
     "output_type": "display_data"
    }
   ],
   "source": [
    "fig = plt.figure()\n",
    "ax = fig.add_subplot(111)\n",
    "ax.set_xlabel(\"x\")\n",
    "ax.set_ylabel(\"y\")\n",
    "\n",
    "for pts in map_points[:2]:\n",
    "    ax.scatter(pts.reshape(-1, 2)[:, 0], pts.reshape(-1, 2)[:, 1])\n",
    "plt.show()"
   ]
  },
  {
   "cell_type": "code",
   "execution_count": 13,
   "metadata": {},
   "outputs": [
    {
     "data": {
      "application/vnd.jupyter.widget-view+json": {
       "model_id": "48cd81d55ac348cf8016bdb7d7265ed2",
       "version_major": 2,
       "version_minor": 0
      },
      "text/plain": [
       "FigureCanvasNbAgg()"
      ]
     },
     "metadata": {},
     "output_type": "display_data"
    },
    {
     "name": "stdout",
     "output_type": "stream",
     "text": [
      "[ 0.77062242 -0.29022966 -0.2505754  -0.5090381 ]\n",
      "[[ 0.35618436  0.93000118 -0.09072214]\n",
      " [-0.63910352  0.31329391  0.70241983]\n",
      " [ 0.68167397 -0.19221012  0.70595742]]\n"
     ]
    }
   ],
   "source": [
    "fig = plt.figure()\n",
    "ax = fig.add_subplot(111, projection='3d')\n",
    "\n",
    "p = p = np.array([0,0,0])\n",
    "q = random_quaternion(np.random.RandomState(1))\n",
    "print(q)\n",
    "R = matrix_from_quaternion(q)\n",
    "print(R)\n",
    "plot_basis(ax, R, p)\n",
    "\n",
    "plt.show()"
   ]
  },
  {
   "cell_type": "code",
   "execution_count": null,
   "metadata": {},
   "outputs": [],
   "source": []
  }
 ],
 "metadata": {
  "kernelspec": {
   "display_name": "Python 3",
   "language": "python",
   "name": "python3"
  },
  "language_info": {
   "codemirror_mode": {
    "name": "ipython",
    "version": 3
   },
   "file_extension": ".py",
   "mimetype": "text/x-python",
   "name": "python",
   "nbconvert_exporter": "python",
   "pygments_lexer": "ipython3",
   "version": "3.7.4"
  }
 },
 "nbformat": 4,
 "nbformat_minor": 2
}
