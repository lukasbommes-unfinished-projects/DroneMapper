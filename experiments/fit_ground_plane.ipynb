{
 "cells": [
  {
   "cell_type": "code",
   "execution_count": 1,
   "metadata": {},
   "outputs": [],
   "source": [
    "%matplotlib ipympl\n",
    "import pickle\n",
    "import numpy as np\n",
    "import cv2\n",
    "import matplotlib.pyplot as plt\n",
    "from mpl_toolkits.mplot3d import Axes3D"
   ]
  },
  {
   "cell_type": "code",
   "execution_count": 2,
   "metadata": {},
   "outputs": [],
   "source": [
    "map_points = pickle.load(open(\"../map_points.pkl\", \"rb\"))\n",
    "kf_visible_map_points = pickle.load(open(\"../kf_visible_map_points.pkl\", \"rb\"))\n",
    "kf_poses = pickle.load(open(\"../kf_poses.pkl\", \"rb\"))"
   ]
  },
  {
   "cell_type": "raw",
   "metadata": {},
   "source": [
    "map_points = map_points[:1000]"
   ]
  },
  {
   "cell_type": "code",
   "execution_count": 3,
   "metadata": {},
   "outputs": [],
   "source": [
    "import numpy as np\n",
    "import numpy.linalg as la\n",
    "\n",
    "eps = 0.00001\n",
    "\n",
    "def svd(A):\n",
    "    u, s, vh = la.svd(A)\n",
    "    S = np.zeros(A.shape)\n",
    "    S[:s.shape[0], :s.shape[0]] = np.diag(s)\n",
    "    return u, S, vh\n",
    "\n",
    "#def inverse_sigma(S):\n",
    "#    inv_S = S.copy().transpose()\n",
    "#    for i in range(min(S.shape)):\n",
    "#        if abs(inv_S[i, i]) > eps :\n",
    "#            inv_S[i, i] = 1.0/inv_S[i, i]\n",
    "#    return inv_S\n",
    "\n",
    "#def svd_solve(A, b):\n",
    "#    U, S, Vt = svd(A)\n",
    "#    inv_S = inverse_sigma(S)\n",
    "#    svd_solution = Vt.transpose() @ inv_S @ U.transpose() @ b\n",
    "#    \n",
    "#    print('U:')\n",
    "#    print(U)\n",
    "#    print('Sigma:')\n",
    "#    print(S)\n",
    "#    print('V_transpose:')\n",
    "#    print(Vt)\n",
    "#    print('--------------')\n",
    "#    print('SVD solution:')\n",
    "#    print(svd_solution)\n",
    "#    print('A multiplies SVD solution:')\n",
    "#    print(A @ svd_solution)\n",
    "#\n",
    "#    return svd_solution\n",
    "\n",
    "#############################################\n",
    "\n",
    "def fit_plane_LSE(points):\n",
    "    # points: Nx4 homogeneous 3d points\n",
    "    # return: 1d array of four elements [a, b, c, d] of\n",
    "    # ax+by+cz+d = 0\n",
    "    assert points.shape[0] >= 3 # at least 3 points needed\n",
    "    U, S, Vt = svd(points)\n",
    "    null_space = Vt[-1, :]\n",
    "    return null_space\n",
    "\n",
    "def get_point_dist(points, plane):\n",
    "    # return: 1d array of size N (number of points)\n",
    "    dists = np.abs(points @ plane) / np.sqrt(plane[0]**2 + plane[1]**2 + plane[2]**2)\n",
    "    return dists\n",
    "\n",
    "def fit_plane_LSE_RANSAC(points, iters=1000, inlier_thresh=0.05, return_outlier_list=False):\n",
    "    # points: Nx4 homogeneous 3d points\n",
    "    # return: \n",
    "    #   plane: 1d array of four elements [a, b, c, d] of ax+by+cz+d = 0\n",
    "    #   inlier_list: 1d array of size N of inlier points\n",
    "    max_inlier_num = -1\n",
    "    max_inlier_list = None\n",
    "    \n",
    "    N = points.shape[0]\n",
    "    assert N >= 3\n",
    "\n",
    "    for i in range(iters):\n",
    "        chose_id = np.random.choice(N, 3, replace=False)\n",
    "        chose_points = points[chose_id, :]\n",
    "        tmp_plane = fit_plane_LSE(chose_points)\n",
    "        \n",
    "        dists = get_point_dist(points, tmp_plane)\n",
    "        tmp_inlier_list = np.where(dists < inlier_thresh)[0]\n",
    "        tmp_inliers = points[tmp_inlier_list, :]\n",
    "        num_inliers = tmp_inliers.shape[0]\n",
    "        if num_inliers > max_inlier_num:\n",
    "            max_inlier_num = num_inliers\n",
    "            max_inlier_list = tmp_inlier_list\n",
    "        \n",
    "        #print('iter %d, %d inliers' % (i, max_inlier_num))\n",
    "\n",
    "    final_points = points[max_inlier_list, :]\n",
    "    plane = fit_plane_LSE(final_points)\n",
    "    \n",
    "    fit_variance = np.var(get_point_dist(final_points, plane))\n",
    "    print('RANSAC fit variance: %f' % fit_variance)\n",
    "    print(plane)\n",
    "\n",
    "    dists = get_point_dist(points, plane)\n",
    "\n",
    "    select_thresh = inlier_thresh * 1\n",
    "\n",
    "    inlier_list = np.where(dists < select_thresh)[0]\n",
    "    if not return_outlier_list:\n",
    "        return plane, inlier_list\n",
    "    else:\n",
    "        outlier_list = np.where(dists >= select_thresh)[0]\n",
    "        return plane, inlier_list, outlier_list"
   ]
  },
  {
   "cell_type": "code",
   "execution_count": 4,
   "metadata": {},
   "outputs": [],
   "source": [
    "map_points_h = cv2.convertPointsToHomogeneous(map_points).reshape(-1, 4)"
   ]
  },
  {
   "cell_type": "code",
   "execution_count": 5,
   "metadata": {},
   "outputs": [
    {
     "name": "stdout",
     "output_type": "stream",
     "text": [
      "RANSAC fit variance: 0.049652\n",
      "[-1.40588749e-04  2.26389812e-04 -5.04696927e-02  9.98725557e-01]\n",
      "(28460,)\n"
     ]
    }
   ],
   "source": [
    "plane, inlier_list = fit_plane_LSE_RANSAC(map_points_h, iters=1000, inlier_thresh=1, return_outlier_list=False)\n",
    "print(inlier_list.shape)"
   ]
  },
  {
   "cell_type": "code",
   "execution_count": 6,
   "metadata": {},
   "outputs": [],
   "source": [
    "# project all map points onto the plane\n",
    "def plane_to_hessian(plane):\n",
    "    \"\"\"Convert plane to Hessian normal form (n.x + p = 0)\"\"\"\n",
    "    a, b, c, d = plane\n",
    "    nn = np.sqrt(a**2+b**2+c**2)\n",
    "    n = np.array([a/nn, b/nn, c/nn])\n",
    "    p = d/nn\n",
    "    return n, p\n",
    "\n",
    "def project_points(plane, points):\n",
    "    \"\"\"Project points with shape (-1, 3) onto plane (given as coefficients a, b, c, d with ax+by+cz+d=0).\"\"\"\n",
    "    n, p = plane_to_hessian(plane)\n",
    "    p_orig = -n*p\n",
    "    points_proj = points.reshape(-1, 3) - (np.sum(n*(points.reshape(-1, 3) - p_orig.reshape(1, 3)), axis=1)*n.reshape(3, 1)).T\n",
    "    return points_proj"
   ]
  },
  {
   "cell_type": "code",
   "execution_count": 7,
   "metadata": {},
   "outputs": [],
   "source": [
    "map_points_proj = project_points(plane, map_points[inlier_list])"
   ]
  },
  {
   "cell_type": "code",
   "execution_count": 8,
   "metadata": {},
   "outputs": [
    {
     "data": {
      "text/plain": [
       "array([[ -8.23593863,  -0.72612257,  19.80830471],\n",
       "       [-15.15437065,  -3.60306988,  19.81467175],\n",
       "       [  4.93939079,   7.37889237,  19.80795975],\n",
       "       ...,\n",
       "       [ 13.64901245,   6.10554681,  19.77798637],\n",
       "       [  0.04279526,   6.05080549,  19.8156424 ],\n",
       "       [  2.51661845,  -0.69291404,  19.77850127]])"
      ]
     },
     "execution_count": 8,
     "metadata": {},
     "output_type": "execute_result"
    }
   ],
   "source": [
    "map_points_proj"
   ]
  },
  {
   "cell_type": "code",
   "execution_count": 17,
   "metadata": {},
   "outputs": [],
   "source": [
    "# transform points from world to plane coordinates\n",
    "def get_world2plane_transformation(plane, points, return_base=True):\n",
    "    \"\"\"Yields an affine transformation M from 3D world to 2D plane coordinates.\n",
    "\n",
    "    Args:\n",
    "    \n",
    "        plane (`numpy.ndarray`): Shape (4,). Plane coefficients [a, b, c, d] which fullfill\n",
    "            ax + by + cz + d = 0.\n",
    "\n",
    "        points (`numpy.ndarray`): Shape (-1, 3). 3D points on the plane in (x, y, z) world coordinates.\n",
    "        \n",
    "        return_base (`bool`): Wether to return the orthonormal base or not.\n",
    "    \n",
    "    Returns:\n",
    "    \n",
    "        M (`numpy.ndarray`): Shape (4, 4). Affine transformation matrix which maps points on the plane\n",
    "        from 3D world coordinates to 2D points with respect to a randomly chosen orthonormal base on the plane.\n",
    "        Compute point2D = M @ point3D to map a 3D point to 2D coordinates. To retrieve a 3D point from 2D \n",
    "        planes coordinates compute point3D = inv(M) @ point2D.\n",
    "        \n",
    "        base (`numpy.ndarray`) Shape (3, 4). right-handend orthonormal base in which 2D plane points are \n",
    "        expressed. Column vectors of the array correspond to the origin point O of the base, the first and \n",
    "        second base vector u, v and the third base vector n which is the plane normal.  \n",
    "    \"\"\"\n",
    "    # pick a random point on the plane as origin and another one to from first base vector\n",
    "    point_idx = np.arange(0, 100)#points.shape[0])\n",
    "    np.random.seed(0)\n",
    "    plane_O, plane_U = points[np.random.choice(point_idx, 2, replace=False), :]\n",
    "    u = (plane_U - plane_O)/np.linalg.norm(plane_U - plane_O)\n",
    "    n, _ = plane_to_hessian(plane)  # plane normal\n",
    "    # compute third base vector\n",
    "    v = np.cross(u, n)/np.linalg.norm(np.cross(u, n))\n",
    "    # get end points of base vectors\n",
    "    U = plane_O + u\n",
    "    V = plane_O + v\n",
    "    N = plane_O + n\n",
    "    # form base quadruplet\n",
    "    D = np.array([[0, 1, 0, 0],\n",
    "                  [0, 0, 1, 0],\n",
    "                  [0, 0, 0, 1],\n",
    "                  [1, 1, 1, 1]])\n",
    "    # form transformation matrix S with M * S = D\n",
    "    S = np.stack((np.append(plane_O, 1), np.append(U, 1), np.append(V, 1), np.append(N, 1)), axis=1)\n",
    "    # compute affine transformation M which maps points from world to plane coordinates\n",
    "    M = np.matmul(D, np.linalg.inv(S))\n",
    "    if return_base:\n",
    "        base = np.stack([plane_O.T, u.T, v.T, n.T], axis=1)\n",
    "        return M, base, plane_O, U, V, N\n",
    "    else:\n",
    "        return M\n",
    "\n",
    "\n",
    "def map_points_world2plane(points_world, M):\n",
    "    \"\"\"Transforms 3D points on a plane to 2D plane coordinates given the transformation matrix M.\n",
    "    \n",
    "    Args:\n",
    "    \n",
    "        points_world (`numpy.ndarrray`): Shape (-1, 3). 3D points on the plane in (x, y, z) world coordinates.\n",
    "\n",
    "        M (`nnumpy.ndarray`): Shape (4, 4). Affine transformation matrix computed with `get_world2plane_transformation`.\n",
    "    \n",
    "    Returns:\n",
    "    \n",
    "        points_plane (`numpy.ndarrray`): Shape (-1, 2). 2D points on the plane in (xp, yp, z=0) plane coordinates \n",
    "        w.r.t. to a randomly chosen orthonormal base.\n",
    "    \"\"\"\n",
    "    points_world_h = cv2.convertPointsToHomogeneous(points_world).reshape(-1, 4)\n",
    "    points_plane_h = (M @ points_world_h.T).T\n",
    "    points_plane = cv2.convertPointsFromHomogeneous(points_plane_h).reshape(-1, 3)\n",
    "    points_plane = points_plane[:, :2]\n",
    "    return points_plane\n",
    "\n",
    "\n",
    "def map_points_plane2world(points_plane, M):\n",
    "    \"\"\"Transforms 2D plane points into 3D world coordinates given the transformation matrix M.\n",
    "    \n",
    "    Args:\n",
    "    \n",
    "        points_plane (`numpy.ndarrray`): Shape (-1, 2). 2D points on the plane in (xp, yp, z=0) plane coordinates \n",
    "        w.r.t. to a randomly chosen orthonormal base.\n",
    "\n",
    "        M (`nnumpy.ndarray`) Shape (4, 4). Affine transformation matrix computed with `get_world2plane_transformation`.\n",
    "    \n",
    "    Returns:\n",
    "    \n",
    "        points_world (`numpy.ndarrray`): Shape (-1, 3). 3D points on the plane in (x, y, z) world coordinates.\n",
    "    \"\"\"\n",
    "    points_plane_tmp = np.zeros((points_plane.shape[0], 3))\n",
    "    points_plane_tmp[:, :2] = points_plane\n",
    "    points_plane_h = cv2.convertPointsToHomogeneous(points_plane_tmp).reshape(-1, 4)\n",
    "    points_world_h = (np.linalg.inv(M) @ points_plane_h.T).T\n",
    "    points_world = cv2.convertPointsFromHomogeneous(points_world_h).reshape(-1, 3)\n",
    "    return points_world"
   ]
  },
  {
   "cell_type": "code",
   "execution_count": 18,
   "metadata": {},
   "outputs": [
    {
     "name": "stdout",
     "output_type": "stream",
     "text": [
      "[[ -8.23593863  -0.72612257  19.80830471]\n",
      " [-15.15437065  -3.60306988  19.81467175]\n",
      " [  4.93939079   7.37889237  19.80795975]\n",
      " ...\n",
      " [ 13.64901245   6.10554681  19.77798637]\n",
      " [  0.04279526   6.05080549  19.8156424 ]\n",
      " [  2.51661845  -0.69291404  19.77850127]]\n",
      "[[20.42317923 -2.6266948 ]\n",
      " [27.85412305 -3.58723734]\n",
      " [ 4.96092596 -3.07312093]\n",
      " ...\n",
      " [-1.95042845  2.37784201]\n",
      " [ 9.86679842 -4.36654156]\n",
      " [11.0894213   2.71188531]]\n"
     ]
    }
   ],
   "source": [
    "# test functions\n",
    "points_world = map_points_proj\n",
    "print(points_world)\n",
    "M, base, plane_O, U, V, N = get_world2plane_transformation(plane, points_world)\n",
    "points_plane = map_points_world2plane(points_world, M)\n",
    "print(points_plane)\n",
    "#points_world = map_points_plane2world(points_plane, M)\n",
    "#print(points_world)"
   ]
  },
  {
   "cell_type": "code",
   "execution_count": 14,
   "metadata": {},
   "outputs": [
    {
     "data": {
      "text/plain": [
       "array([[ 1.07720378e+01, -8.66507956e-01,  4.99155490e-01,\n",
       "        -2.78556857e-03],\n",
       "       [ 7.19235610e+00, -4.99163232e-01, -8.66496363e-01,\n",
       "         4.48559609e-03],\n",
       "       [ 1.97908755e+01,  1.74675117e-04, -5.27725811e-03,\n",
       "        -9.99986060e-01]])"
      ]
     },
     "execution_count": 14,
     "metadata": {},
     "output_type": "execute_result"
    }
   ],
   "source": [
    "base"
   ]
  },
  {
   "cell_type": "code",
   "execution_count": 614,
   "metadata": {},
   "outputs": [],
   "source": [
    "# method to map from image plane to estimated groud plane (GP)\n",
    "# 1) for each KF, select visible points from map_points\n",
    "# 2) get four map_points from subset with smallest distance from GP\n",
    "# 3) project these points onto the GP\n",
    "# 4) use cv2.getPerspectiveTransform() to compute a homography between the four selected and projected GP points and their correpsonding image points in the KF\n",
    "# 5) project KF image onto GP by using cv2.warpPerspective()\n",
    "\n",
    "# alternatives:\n",
    "# 2b) get N>4 (e.g. N=10) map_points with smallest distance from GP\n",
    "# 3b) project points onto GP\n",
    "# 4b) use cv2.findHomography() to estimate the best fit homography via RANSAC"
   ]
  },
  {
   "cell_type": "code",
   "execution_count": null,
   "metadata": {},
   "outputs": [],
   "source": []
  },
  {
   "cell_type": "code",
   "execution_count": 40,
   "metadata": {},
   "outputs": [
    {
     "name": "stderr",
     "output_type": "stream",
     "text": [
      "/home/lukas/anaconda3/lib/python3.7/site-packages/matplotlib/pyplot.py:514: RuntimeWarning: More than 20 figures have been opened. Figures created through the pyplot interface (`matplotlib.pyplot.figure`) are retained until explicitly closed and may consume too much memory. (To control this warning, see the rcParam `figure.max_open_warning`).\n",
      "  max_open_warning, RuntimeWarning)\n"
     ]
    },
    {
     "data": {
      "application/vnd.jupyter.widget-view+json": {
       "model_id": "7c582d53b02a4fb7af1fcc22f9d9f99c",
       "version_major": 2,
       "version_minor": 0
      },
      "text/plain": [
       "FigureCanvasNbAgg()"
      ]
     },
     "metadata": {},
     "output_type": "display_data"
    }
   ],
   "source": [
    "fig = plt.figure(figsize=(15, 8))\n",
    "ax = fig.add_subplot(111, projection='3d')\n",
    "ax.scatter(points_world[:1000, 0], points_world[:1000, 1], points_world[:1000, 2], s=1, c=\"red\")\n",
    "ax.scatter(points_plane[:1000, 0], points_plane[:1000, 1], s=1, c=\"green\")\n",
    "ax.set_xlim([-20,20])\n",
    "ax.set_ylim([-20,20])\n",
    "ax.set_zlim([0,40])\n",
    "ax.set_xlabel(\"x\")\n",
    "ax.set_ylabel(\"y\")\n",
    "ax.set_zlabel(\"z\")\n",
    "\n",
    "ax.scatter(base[0, 0], base[1, 0], base[2, 0], c=\"orange\")\n",
    "ax.scatter(base[0, 0]+base[0, 1], base[1, 0]+base[1, 1], base[2, 0]+base[2, 1], c=\"red\")\n",
    "ax.scatter(base[0, 0]+base[0, 2], base[1, 0]+base[1, 2], base[2, 0]+base[2, 2], c=\"green\") \n",
    "ax.scatter(base[0, 0]+base[0, 3], base[1, 0]+base[1, 3], base[2, 0]+base[2, 3], c=\"blue\")\n",
    "\n",
    "ax.scatter(0, 0, 0, c=\"black\", s=5)\n",
    "plt.show() "
   ]
  },
  {
   "cell_type": "code",
   "execution_count": 38,
   "metadata": {},
   "outputs": [
    {
     "name": "stderr",
     "output_type": "stream",
     "text": [
      "/home/lukas/anaconda3/lib/python3.7/site-packages/matplotlib/pyplot.py:514: RuntimeWarning: More than 20 figures have been opened. Figures created through the pyplot interface (`matplotlib.pyplot.figure`) are retained until explicitly closed and may consume too much memory. (To control this warning, see the rcParam `figure.max_open_warning`).\n",
      "  max_open_warning, RuntimeWarning)\n"
     ]
    },
    {
     "data": {
      "application/vnd.jupyter.widget-view+json": {
       "model_id": "daff0a62ff304db2958bc9e3309b2d45",
       "version_major": 2,
       "version_minor": 0
      },
      "text/plain": [
       "FigureCanvasNbAgg()"
      ]
     },
     "metadata": {},
     "output_type": "display_data"
    }
   ],
   "source": [
    "fig = plt.figure(figsize=(8, 8))\n",
    "ax = fig.add_subplot(111)\n",
    "ax.scatter(points_world[:1000, 0], points_world[:1000, 1], s=1, c=\"red\")\n",
    "ax.scatter(points_plane[:1000, 0], points_plane[:1000, 1], s=1, c=\"green\")\n",
    "ax.set_xlim([-20,30])\n",
    "ax.set_ylim([-20,20])\n",
    "ax.set_xlabel(\"x\")\n",
    "ax.set_ylabel(\"y\")\n",
    "ax.set_aspect(1.0)\n",
    "ax.scatter(base[0, 0], base[1, 0], c=\"orange\")\n",
    "ax.scatter(base[0, 0]+base[0, 1], base[1, 0]+base[1, 1], c=\"red\")\n",
    "ax.scatter(base[0, 0]+base[0, 2], base[1, 0]+base[1, 2], c=\"green\") \n",
    "#ax.scatter(base[0, 0]+base[0, 3], base[1, 0]+base[1, 3], c=\"blue\")\n",
    "\n",
    "#ax.scatter(plane_O[0], plane_O[1], c=\"orange\")\n",
    "#ax.scatter(U[0], U[1], c=\"red\")\n",
    "#ax.scatter(V[0], V[1], c=\"green\") \n",
    "#ax.scatter(N[0], N[1], c=\"blue\")\n",
    "ax.scatter(0, 0, c=\"black\", s=5)\n",
    "\n",
    "# base [[Ox, ux, vx, nx],\n",
    "#       [Oy, uy, vy, ny],\n",
    "#       [Oz, uz, vz, nz]]\n",
    "\n",
    "ax.grid()\n",
    "plt.show() "
   ]
  },
  {
   "cell_type": "code",
   "execution_count": null,
   "metadata": {},
   "outputs": [],
   "source": []
  }
 ],
 "metadata": {
  "kernelspec": {
   "display_name": "Python 3",
   "language": "python",
   "name": "python3"
  },
  "language_info": {
   "codemirror_mode": {
    "name": "ipython",
    "version": 3
   },
   "file_extension": ".py",
   "mimetype": "text/x-python",
   "name": "python",
   "nbconvert_exporter": "python",
   "pygments_lexer": "ipython3",
   "version": "3.7.4"
  }
 },
 "nbformat": 4,
 "nbformat_minor": 2
}
