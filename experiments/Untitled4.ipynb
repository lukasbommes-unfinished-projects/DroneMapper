{
 "cells": [
  {
   "cell_type": "code",
   "execution_count": 77,
   "metadata": {},
   "outputs": [],
   "source": [
    "%matplotlib ipympl\n",
    "import cv2\n",
    "import numpy as np\n",
    "import matplotlib.pyplot as plt\n",
    "from mpl_toolkits.mplot3d import Axes3D\n",
    "from pytransform3d.rotations import *"
   ]
  },
  {
   "cell_type": "code",
   "execution_count": 78,
   "metadata": {},
   "outputs": [],
   "source": [
    "import pickle\n",
    "data = pickle.load(open(\"DroneMapper/data.pkl\", \"rb\"))\n",
    "pts1 = data[\"last_pts\"][0]\n",
    "pts2 = data[\"current_pts\"][0]\n",
    "# pose of second camera relative to first camera\n",
    "R = data[\"pose_R\"]\n",
    "t = data[\"pose_t\"].reshape(3,)"
   ]
  },
  {
   "cell_type": "code",
   "execution_count": 66,
   "metadata": {},
   "outputs": [],
   "source": [
    "# camera matrix\n",
    "w = 1920\n",
    "h = 1080\n",
    "fx = 1184.51770\n",
    "fy = 1183.63810\n",
    "cx = 978.30778\n",
    "cy = 533.85598\n",
    "# camera matrix\n",
    "K = np.array([[fx, 0, cx], [0, fy, cy], [0, 0, 1]])\n",
    "dist_coeffs = np.array([-0.01581, 0.01052, -0.00075, 0.00245, 0.00000])"
   ]
  },
  {
   "cell_type": "code",
   "execution_count": 67,
   "metadata": {},
   "outputs": [],
   "source": [
    "# create projection matrices\n",
    "proj_matrix1 = np.array([[1, 0, 0, 0],[0, 1, 0, 0],[0, 0, 1, 0]])\n",
    "proj_matrix2 = np.zeros((3, 4))\n",
    "proj_matrix2[:, :3] = R\n",
    "proj_matrix2[:, -1] = t\n",
    "proj_matrix1 = np.matmul(K, proj_matrix1)\n",
    "proj_matrix2 = np.matmul(K, proj_matrix2)"
   ]
  },
  {
   "cell_type": "code",
   "execution_count": 68,
   "metadata": {},
   "outputs": [
    {
     "data": {
      "text/plain": [
       "array([[1.1845177e+03, 0.0000000e+00, 9.7830778e+02, 0.0000000e+00],\n",
       "       [0.0000000e+00, 1.1836381e+03, 5.3385598e+02, 0.0000000e+00],\n",
       "       [0.0000000e+00, 0.0000000e+00, 1.0000000e+00, 0.0000000e+00]])"
      ]
     },
     "execution_count": 68,
     "metadata": {},
     "output_type": "execute_result"
    }
   ],
   "source": [
    "proj_matrix1"
   ]
  },
  {
   "cell_type": "code",
   "execution_count": 69,
   "metadata": {},
   "outputs": [
    {
     "data": {
      "text/plain": [
       "array([[ 1.17881857e+03, -2.07477566e+00,  9.85165355e+02,\n",
       "         7.58200734e+01],\n",
       "       [-5.16180359e+00,  1.18138248e+03,  5.38804364e+02,\n",
       "         1.22484395e+03],\n",
       "       [-5.80327284e-03, -4.20228711e-03,  9.99974331e-01,\n",
       "         8.53154185e-02]])"
      ]
     },
     "execution_count": 69,
     "metadata": {},
     "output_type": "execute_result"
    }
   ],
   "source": [
    "proj_matrix2"
   ]
  },
  {
   "cell_type": "code",
   "execution_count": 70,
   "metadata": {},
   "outputs": [],
   "source": [
    "pts = cv2.triangulatePoints(proj_matrix1, proj_matrix2, pts1.T, pts2.T).reshape(-1, 4)"
   ]
  },
  {
   "cell_type": "code",
   "execution_count": 71,
   "metadata": {},
   "outputs": [],
   "source": [
    "pts = cv2.convertPointsFromHomogeneous(pts).reshape(-1, 3)"
   ]
  },
  {
   "cell_type": "code",
   "execution_count": 76,
   "metadata": {},
   "outputs": [
    {
     "data": {
      "text/plain": [
       "array([[-1.40927046, -1.57137809, -2.09440025],\n",
       "       [-1.53452458, -1.88051861, -1.82899073],\n",
       "       [ 1.03870196,  0.85903676,  0.48402249],\n",
       "       ...,\n",
       "       [ 5.51969547,  1.07468217,  2.13239235],\n",
       "       [ 0.26600276,  0.25655879,  0.25867327],\n",
       "       [ 0.45922068,  0.46500108,  0.62653361]])"
      ]
     },
     "execution_count": 76,
     "metadata": {},
     "output_type": "execute_result"
    }
   ],
   "source": [
    "pts"
   ]
  },
  {
   "cell_type": "code",
   "execution_count": 73,
   "metadata": {},
   "outputs": [
    {
     "data": {
      "application/vnd.jupyter.widget-view+json": {
       "model_id": "",
       "version_major": 2,
       "version_minor": 0
      },
      "text/plain": [
       "FigureCanvasNbAgg()"
      ]
     },
     "metadata": {},
     "output_type": "display_data"
    }
   ],
   "source": [
    "fig = plt.figure()\n",
    "ax = fig.add_subplot(111, projection='3d')\n",
    "ax.scatter(pts[:, 0], pts[:, 1], pts[:, 2])\n",
    "plot_basis(ax, np.eye(3), np.zeros(3))\n",
    "plot_basis(ax, R, t)\n",
    "ax.set_xlim([-1,1])\n",
    "ax.set_ylim([-1,1])\n",
    "ax.set_zlim([-10,10])\n",
    "plt.show()"
   ]
  }
 ],
 "metadata": {
  "kernelspec": {
   "display_name": "Python 3",
   "language": "python",
   "name": "python3"
  },
  "language_info": {
   "codemirror_mode": {
    "name": "ipython",
    "version": 3
   },
   "file_extension": ".py",
   "mimetype": "text/x-python",
   "name": "python",
   "nbconvert_exporter": "python",
   "pygments_lexer": "ipython3",
   "version": "3.7.4"
  }
 },
 "nbformat": 4,
 "nbformat_minor": 2
}
