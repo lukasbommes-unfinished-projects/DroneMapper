{
 "cells": [
  {
   "cell_type": "code",
   "execution_count": 43,
   "metadata": {},
   "outputs": [],
   "source": [
    "%matplotlib ipympl\n",
    "import cv2\n",
    "import numpy as np\n",
    "import matplotlib.pyplot as plt"
   ]
  },
  {
   "cell_type": "code",
   "execution_count": 44,
   "metadata": {},
   "outputs": [],
   "source": [
    "img = np.zeros((100, 100, 3), dtype=np.uint8)"
   ]
  },
  {
   "cell_type": "code",
   "execution_count": 45,
   "metadata": {},
   "outputs": [],
   "source": [
    "img0 = img.copy()\n",
    "img0[:, :, :] = (0, 0, 255)\n",
    "\n",
    "img1 = img.copy()\n",
    "img1[:, :, :] = (255, 0, 0)\n",
    "\n",
    "img2 = img.copy()\n",
    "img2[:, :, :] = (0, 255, 0)\n",
    "\n",
    "img3 = img.copy()\n",
    "img3[:, :, :] = (255, 255, 0)\n",
    "\n",
    "img4 = img.copy()\n",
    "img4[:, :, :] = (0, 255, 255)"
   ]
  },
  {
   "cell_type": "code",
   "execution_count": 46,
   "metadata": {},
   "outputs": [],
   "source": [
    "frames = [img0, img1, img2, img3, img4]"
   ]
  },
  {
   "cell_type": "code",
   "execution_count": 47,
   "metadata": {},
   "outputs": [],
   "source": [
    "corners = [np.array([0, 0]),\n",
    "           np.array([70, 20]),\n",
    "           np.array([140, 40]),\n",
    "           np.array([200, 0]),\n",
    "           np.array([0, 50])]"
   ]
  },
  {
   "cell_type": "code",
   "execution_count": 48,
   "metadata": {},
   "outputs": [
    {
     "data": {
      "application/vnd.jupyter.widget-view+json": {
       "model_id": "56f83ae717c14b45a966157080d683ee",
       "version_major": 2,
       "version_minor": 0
      },
      "text/plain": [
       "FigureCanvasNbAgg()"
      ]
     },
     "metadata": {},
     "output_type": "display_data"
    },
    {
     "data": {
      "text/plain": [
       "<matplotlib.image.AxesImage at 0x7f6fb01fba50>"
      ]
     },
     "execution_count": 48,
     "metadata": {},
     "output_type": "execute_result"
    }
   ],
   "source": [
    "plt.imshow(img0[:, :, ::-1])"
   ]
  },
  {
   "cell_type": "code",
   "execution_count": 49,
   "metadata": {},
   "outputs": [],
   "source": [
    "# blender"
   ]
  },
  {
   "cell_type": "code",
   "execution_count": 50,
   "metadata": {},
   "outputs": [],
   "source": [
    "result_roi = np.array([0, 0, 300, 150])  # for all images"
   ]
  },
  {
   "cell_type": "code",
   "execution_count": 51,
   "metadata": {},
   "outputs": [
    {
     "name": "stdout",
     "output_type": "stream",
     "text": [
      "10.606601717798211\n"
     ]
    }
   ],
   "source": [
    "blend_strength = 5\n",
    "result_roi_area = (result_roi[2] - result_roi[0]) * (result_roi[3] - result_roi[1])\n",
    "blend_width = np.sqrt(result_roi_area) * blend_strength/100\n",
    "print(blend_width)"
   ]
  },
  {
   "cell_type": "code",
   "execution_count": 52,
   "metadata": {},
   "outputs": [
    {
     "name": "stdout",
     "output_type": "stream",
     "text": [
      "3\n"
     ]
    }
   ],
   "source": [
    "num_bands = int(np.ceil(np.log(blend_width)/np.log(2)) - 1)\n",
    "print(num_bands)\n",
    "blender = cv2.detail_MultiBandBlender(try_gpu=False, num_bands=num_bands)\n",
    "blender.prepare(result_roi)\n",
    "\n",
    "for idx, frame in enumerate(frames):\n",
    "    mask = np.full(frame.shape[0:2], 255, dtype=np.uint8)\n",
    "    blender.feed(frame, mask, tuple(corners[idx]))\n",
    "    \n",
    "result, result_mask = blender.blend(None, None)"
   ]
  },
  {
   "cell_type": "raw",
   "metadata": {},
   "source": [
    "blender = cv2.detail_FeatherBlender()\n",
    "result_roi = np.array([0, 0, 300, 150])\n",
    "blender.prepare(result_roi)\n",
    "\n",
    "for idx, frame in enumerate(frames):\n",
    "    blender.feed(frame.astype(np.int16), None, tuple(corners[idx]))\n",
    "    \n",
    "result, result_mask = blender.blend(None, None)"
   ]
  },
  {
   "cell_type": "code",
   "execution_count": 53,
   "metadata": {},
   "outputs": [
    {
     "data": {
      "application/vnd.jupyter.widget-view+json": {
       "model_id": "83b631cb21ed45da84ea5e255affd5c1",
       "version_major": 2,
       "version_minor": 0
      },
      "text/plain": [
       "FigureCanvasNbAgg()"
      ]
     },
     "metadata": {},
     "output_type": "display_data"
    }
   ],
   "source": [
    "fig = plt.figure(figsize=(10, 6))\n",
    "ax = fig.add_subplot(111)\n",
    "ax.imshow(result.astype(np.uint8))\n",
    "plt.show()"
   ]
  },
  {
   "cell_type": "code",
   "execution_count": null,
   "metadata": {},
   "outputs": [],
   "source": []
  }
 ],
 "metadata": {
  "kernelspec": {
   "display_name": "Python 3",
   "language": "python",
   "name": "python3"
  },
  "language_info": {
   "codemirror_mode": {
    "name": "ipython",
    "version": 3
   },
   "file_extension": ".py",
   "mimetype": "text/x-python",
   "name": "python",
   "nbconvert_exporter": "python",
   "pygments_lexer": "ipython3",
   "version": "3.7.4"
  }
 },
 "nbformat": 4,
 "nbformat_minor": 2
}
