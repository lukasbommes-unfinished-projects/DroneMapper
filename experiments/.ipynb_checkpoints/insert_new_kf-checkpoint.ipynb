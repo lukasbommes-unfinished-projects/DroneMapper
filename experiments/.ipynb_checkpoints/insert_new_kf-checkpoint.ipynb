{
 "cells": [
  {
   "cell_type": "code",
   "execution_count": 171,
   "metadata": {},
   "outputs": [],
   "source": [
    "%matplotlib ipympl\n",
    "import numpy as np\n",
    "import cv2\n",
    "import pickle\n",
    "from matplotlib import pyplot as plt\n",
    "from mpl_toolkits.mplot3d import Axes3D\n",
    "from pytransform3d.rotations import *\n",
    "import sys\n",
    "sys.path.append(\"..\")\n",
    "from ssc import ssc"
   ]
  },
  {
   "cell_type": "code",
   "execution_count": 172,
   "metadata": {},
   "outputs": [],
   "source": [
    "last_keyframe_dict = pickle.load(open(\"../last_keyframe.pkl\", \"rb\"))\n",
    "new_keyframe = pickle.load(open(\"../new_keyframe.pkl\", \"rb\"))\n",
    "new_kp = pickle.load(open(\"../new_kp.pkl\", \"rb\"))\n",
    "new_pose = pickle.load(open(\"../new_pose.pkl\", \"rb\"))"
   ]
  },
  {
   "cell_type": "code",
   "execution_count": 173,
   "metadata": {},
   "outputs": [],
   "source": [
    "last_keyframe = last_keyframe_dict[\"frame\"]\n",
    "last_kp = last_keyframe_dict[\"kp\"]\n",
    "last_des = last_keyframe_dict[\"des\"]\n",
    "last_pose = last_keyframe_dict[\"pose\"]"
   ]
  },
  {
   "cell_type": "code",
   "execution_count": 174,
   "metadata": {},
   "outputs": [],
   "source": [
    "vis_last_keyframe = cv2.drawKeypoints(np.copy(last_keyframe), cv2.KeyPoint_convert(last_kp.reshape(-1, 1, 2)), None, color=(0,0,255))\n",
    "vis_new_keyframe = cv2.drawKeypoints(np.copy(new_keyframe), cv2.KeyPoint_convert(new_kp.reshape(-1, 1, 2)), None, color=(0,0,255))"
   ]
  },
  {
   "cell_type": "code",
   "execution_count": 175,
   "metadata": {},
   "outputs": [],
   "source": [
    "# test if feature points correspond (-> result: they do)\n",
    "vis_last_keyframe = cv2.circle(vis_last_keyframe, tuple(last_kp[-1]), 20, (255,0,0), thickness=2)\n",
    "vis_new_keyframe = cv2.circle(vis_new_keyframe, tuple(new_kp[-1]), 20, (255,0,0), thickness=2)"
   ]
  },
  {
   "cell_type": "code",
   "execution_count": 176,
   "metadata": {},
   "outputs": [],
   "source": [
    "# extract more features in new keyframe\n",
    "num_ret_points = 3000\n",
    "tolerance = 0.1\n",
    "orb = cv2.ORB_create()\n",
    "fast = cv2.FastFeatureDetector_create(threshold=12)\n",
    "kp = fast.detect(new_keyframe, None)\n",
    "kp = sorted(kp, key = lambda x:x.response, reverse=True)\n",
    "kp = ssc(kp, num_ret_points, tolerance, new_keyframe.shape[1], new_keyframe.shape[0])\n",
    "kp, des = orb.compute(new_keyframe, kp)"
   ]
  },
  {
   "cell_type": "code",
   "execution_count": 177,
   "metadata": {},
   "outputs": [],
   "source": [
    "# draw new keypoints in blue\n",
    "vis_new_keyframe = cv2.drawKeypoints(vis_new_keyframe, kp, None, color=(255,0,0))"
   ]
  },
  {
   "cell_type": "code",
   "execution_count": 178,
   "metadata": {},
   "outputs": [
    {
     "data": {
      "application/vnd.jupyter.widget-view+json": {
       "model_id": "96f983f97b3345b3be8ff561a911acf6",
       "version_major": 2,
       "version_minor": 0
      },
      "text/plain": [
       "FigureCanvasNbAgg()"
      ]
     },
     "metadata": {},
     "output_type": "display_data"
    },
    {
     "data": {
      "text/plain": [
       "<matplotlib.image.AxesImage at 0x7efc503d9d90>"
      ]
     },
     "execution_count": 178,
     "metadata": {},
     "output_type": "execute_result"
    }
   ],
   "source": [
    "# draw frames and kps\n",
    "f, (ax1, ax2) = plt.subplots(1, 2, figsize=(18, 5))\n",
    "ax1.set_title(\"Last Keyframe\")\n",
    "ax1.imshow(vis_last_keyframe[:, :, ::-1])\n",
    "ax2.set_title(\"New Keyframe\")\n",
    "ax2.imshow(vis_new_keyframe[:, :, ::-1])"
   ]
  },
  {
   "cell_type": "code",
   "execution_count": 183,
   "metadata": {},
   "outputs": [
    {
     "name": "stdout",
     "output_type": "stream",
     "text": [
      "(array([[ 9.99997451e-01,  6.19493807e-04, -2.17136692e-03],\n",
      "       [-6.18710447e-04,  9.99999743e-01,  3.61421246e-04],\n",
      "       [ 2.17159026e-03, -3.60076878e-04,  9.99997577e-01]]), array([ 0.00762682, -0.99653823, -0.08278523]))\n",
      "(array([[ 0.99993232, -0.00628835, -0.00978844],\n",
      "       [ 0.00626896,  0.99997833, -0.00200981],\n",
      "       [ 0.00980087,  0.00194831,  0.99995007]]), array([[ 0.09403594],\n",
      "       [-3.81790881],\n",
      "       [-0.29770549]]))\n"
     ]
    }
   ],
   "source": [
    "def from_twist(twist):\n",
    "    \"\"\"Convert a 6D twist coordinate (shape (6,)) into a 3x3 rotation matrix\n",
    "    and translation vector (shape (3,)).\"\"\"\n",
    "    r = twist[:3]\n",
    "    t = twist[3:]\n",
    "    R, _ = cv2.Rodrigues(r)\n",
    "    return R, t\n",
    "\n",
    "print(from_twist(last_pose))\n",
    "print(from_twist(new_pose))"
   ]
  },
  {
   "cell_type": "code",
   "execution_count": null,
   "metadata": {},
   "outputs": [],
   "source": [
    "# compute fundamental matrix\n",
    "# (1) via matched feature points\n",
    "#F, F_mask = cv2.findFundamentalMat()\n",
    "\n",
    "# (2) from the essential matrix\n",
    "\n",
    "# (3) from the known relative pose of cameras\n",
    "fx = 1184.51770\n",
    "fy = 1183.63810\n",
    "cx = 978.30778\n",
    "cy = 533.85598\n",
    "camera_matrix = np.array([[fx, 0, cx], [0, fy, cy], [0, 0, 1]])\n",
    "K = camera_matrix\n"
   ]
  },
  {
   "cell_type": "code",
   "execution_count": 162,
   "metadata": {},
   "outputs": [
    {
     "ename": "NameError",
     "evalue": "name 'F' is not defined",
     "output_type": "error",
     "traceback": [
      "\u001b[0;31m---------------------------------------------------------------------------\u001b[0m",
      "\u001b[0;31mNameError\u001b[0m                                 Traceback (most recent call last)",
      "\u001b[0;32m<ipython-input-162-1dc8b49f1081>\u001b[0m in \u001b[0;36m<module>\u001b[0;34m\u001b[0m\n\u001b[1;32m      1\u001b[0m \u001b[0;31m# pick one feature point in the right image and draw its epiline in the left image\u001b[0m\u001b[0;34m\u001b[0m\u001b[0;34m\u001b[0m\u001b[0;34m\u001b[0m\u001b[0m\n\u001b[1;32m      2\u001b[0m \u001b[0mpoints\u001b[0m \u001b[0;34m=\u001b[0m \u001b[0mnew_kp\u001b[0m\u001b[0;34m.\u001b[0m\u001b[0mreshape\u001b[0m\u001b[0;34m(\u001b[0m\u001b[0;34m-\u001b[0m\u001b[0;36m1\u001b[0m\u001b[0;34m,\u001b[0m \u001b[0;36m1\u001b[0m\u001b[0;34m,\u001b[0m \u001b[0;36m2\u001b[0m\u001b[0;34m)\u001b[0m\u001b[0;34m\u001b[0m\u001b[0;34m\u001b[0m\u001b[0m\n\u001b[0;32m----> 3\u001b[0;31m \u001b[0mlines\u001b[0m \u001b[0;34m=\u001b[0m \u001b[0mcv2\u001b[0m\u001b[0;34m.\u001b[0m\u001b[0mcomputeCorrespondEpilines\u001b[0m\u001b[0;34m(\u001b[0m\u001b[0mpoints\u001b[0m\u001b[0;34m,\u001b[0m \u001b[0;36m2\u001b[0m\u001b[0;34m,\u001b[0m \u001b[0mF\u001b[0m\u001b[0;34m)\u001b[0m\u001b[0;34m\u001b[0m\u001b[0;34m\u001b[0m\u001b[0m\n\u001b[0m",
      "\u001b[0;31mNameError\u001b[0m: name 'F' is not defined"
     ]
    }
   ],
   "source": [
    "# pick one feature point in the right image and draw its epiline in the left image\n",
    "points = new_kp.reshape(-1, 1, 2)\n",
    "lines = cv2.computeCorrespondEpilines(points, 2, F)"
   ]
  },
  {
   "cell_type": "code",
   "execution_count": null,
   "metadata": {},
   "outputs": [],
   "source": []
  }
 ],
 "metadata": {
  "kernelspec": {
   "display_name": "Python 3",
   "language": "python",
   "name": "python3"
  },
  "language_info": {
   "codemirror_mode": {
    "name": "ipython",
    "version": 3
   },
   "file_extension": ".py",
   "mimetype": "text/x-python",
   "name": "python",
   "nbconvert_exporter": "python",
   "pygments_lexer": "ipython3",
   "version": "3.7.4"
  }
 },
 "nbformat": 4,
 "nbformat_minor": 2
}
