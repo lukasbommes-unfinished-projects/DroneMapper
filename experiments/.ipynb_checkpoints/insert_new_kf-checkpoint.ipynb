{
 "cells": [
  {
   "cell_type": "code",
   "execution_count": 146,
   "metadata": {},
   "outputs": [],
   "source": [
    "%matplotlib ipympl\n",
    "import numpy as np\n",
    "import cv2\n",
    "import pickle\n",
    "from matplotlib import pyplot as plt\n",
    "from mpl_toolkits.mplot3d import Axes3D\n",
    "from pytransform3d.rotations import *\n",
    "import sys\n",
    "sys.path.append(\"..\")\n",
    "from ssc import ssc"
   ]
  },
  {
   "cell_type": "code",
   "execution_count": 147,
   "metadata": {},
   "outputs": [],
   "source": [
    "last_keyframe_dict = pickle.load(open(\"../last_keyframe.pkl\", \"rb\"))\n",
    "new_keyframe = pickle.load(open(\"../new_keyframe.pkl\", \"rb\"))\n",
    "new_kp = pickle.load(open(\"../new_kp.pkl\", \"rb\"))"
   ]
  },
  {
   "cell_type": "code",
   "execution_count": 148,
   "metadata": {},
   "outputs": [],
   "source": [
    "last_keyframe = last_keyframe_dict[\"frame\"]\n",
    "last_kp = last_keyframe_dict[\"kp\"]\n",
    "last_des = last_keyframe_dict[\"des\"]"
   ]
  },
  {
   "cell_type": "code",
   "execution_count": 149,
   "metadata": {},
   "outputs": [],
   "source": [
    "vis_last_keyframe = cv2.drawKeypoints(np.copy(last_keyframe), cv2.KeyPoint_convert(last_kp.reshape(-1, 1, 2)), None, color=(0,0,255))\n",
    "vis_new_keyframe = cv2.drawKeypoints(np.copy(new_keyframe), cv2.KeyPoint_convert(new_kp.reshape(-1, 1, 2)), None, color=(0,0,255))"
   ]
  },
  {
   "cell_type": "code",
   "execution_count": 150,
   "metadata": {},
   "outputs": [],
   "source": [
    "# test if feature points correspond (-> result: they do)\n",
    "vis_last_keyframe = cv2.circle(vis_last_keyframe, tuple(last_kp[-1]), 20, (255,0,0), thickness=2)\n",
    "vis_new_keyframe = cv2.circle(vis_new_keyframe, tuple(new_kp[-1]), 20, (255,0,0), thickness=2)"
   ]
  },
  {
   "cell_type": "code",
   "execution_count": 151,
   "metadata": {},
   "outputs": [],
   "source": [
    "# extract more features in new keyframe\n",
    "num_ret_points = 3000\n",
    "tolerance = 0.1\n",
    "orb = cv2.ORB_create()\n",
    "fast = cv2.FastFeatureDetector_create(threshold=12)\n",
    "kp = fast.detect(new_keyframe, None)\n",
    "kp = sorted(kp, key = lambda x:x.response, reverse=True)\n",
    "kp = ssc(kp, num_ret_points, tolerance, new_keyframe.shape[1], new_keyframe.shape[0])\n",
    "kp, des = orb.compute(new_keyframe, kp)"
   ]
  },
  {
   "cell_type": "code",
   "execution_count": 152,
   "metadata": {},
   "outputs": [],
   "source": [
    "# draw new keypoints in blue\n",
    "vis_new_keyframe = cv2.drawKeypoints(vis_new_keyframe, kp, None, color=(255,0,0))"
   ]
  },
  {
   "cell_type": "code",
   "execution_count": 153,
   "metadata": {},
   "outputs": [
    {
     "data": {
      "application/vnd.jupyter.widget-view+json": {
       "model_id": "023d218efb334f4b991d2a84c057d755",
       "version_major": 2,
       "version_minor": 0
      },
      "text/plain": [
       "FigureCanvasNbAgg()"
      ]
     },
     "metadata": {},
     "output_type": "display_data"
    },
    {
     "data": {
      "text/plain": [
       "<matplotlib.image.AxesImage at 0x7efc8c203e50>"
      ]
     },
     "execution_count": 153,
     "metadata": {},
     "output_type": "execute_result"
    }
   ],
   "source": [
    "# draw frames and kps\n",
    "f, (ax1, ax2) = plt.subplots(1, 2, figsize=(18, 5))\n",
    "ax1.set_title(\"Last Keyframe\")\n",
    "ax1.imshow(vis_last_keyframe[:, :, ::-1])\n",
    "ax2.set_title(\"New Keyframe\")\n",
    "ax2.imshow(vis_new_keyframe[:, :, ::-1])"
   ]
  },
  {
   "cell_type": "code",
   "execution_count": null,
   "metadata": {},
   "outputs": [],
   "source": []
  },
  {
   "cell_type": "code",
   "execution_count": null,
   "metadata": {},
   "outputs": [],
   "source": []
  }
 ],
 "metadata": {
  "kernelspec": {
   "display_name": "Python 3",
   "language": "python",
   "name": "python3"
  },
  "language_info": {
   "codemirror_mode": {
    "name": "ipython",
    "version": 3
   },
   "file_extension": ".py",
   "mimetype": "text/x-python",
   "name": "python",
   "nbconvert_exporter": "python",
   "pygments_lexer": "ipython3",
   "version": "3.7.4"
  }
 },
 "nbformat": 4,
 "nbformat_minor": 2
}
