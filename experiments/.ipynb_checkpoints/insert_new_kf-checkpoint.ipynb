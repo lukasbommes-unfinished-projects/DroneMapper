{
 "cells": [
  {
   "cell_type": "code",
   "execution_count": 169,
   "metadata": {},
   "outputs": [],
   "source": [
    "%matplotlib ipympl\n",
    "import numpy as np\n",
    "import cv2\n",
    "import pickle\n",
    "from matplotlib import pyplot as plt\n",
    "from mpl_toolkits.mplot3d import Axes3D\n",
    "from pytransform3d.rotations import *\n",
    "import sys\n",
    "sys.path.append(\"..\")\n",
    "from ssc import ssc"
   ]
  },
  {
   "cell_type": "code",
   "execution_count": 170,
   "metadata": {},
   "outputs": [],
   "source": [
    "last_keyframe_dict = pickle.load(open(\"../last_keyframe.pkl\", \"rb\"))\n",
    "new_keyframe = pickle.load(open(\"../new_keyframe.pkl\", \"rb\"))\n",
    "new_kp = pickle.load(open(\"../new_kp.pkl\", \"rb\"))\n",
    "new_pose = pickle.load(open(\"../new_pose.pkl\", \"rb\"))"
   ]
  },
  {
   "cell_type": "code",
   "execution_count": 171,
   "metadata": {},
   "outputs": [],
   "source": [
    "last_keyframe = last_keyframe_dict[\"frame\"]\n",
    "last_kp = last_keyframe_dict[\"kp\"]\n",
    "last_des = last_keyframe_dict[\"des\"]\n",
    "last_pose = last_keyframe_dict[\"pose\"]"
   ]
  },
  {
   "cell_type": "code",
   "execution_count": 172,
   "metadata": {},
   "outputs": [],
   "source": [
    "vis_last_keyframe = cv2.drawKeypoints(np.copy(last_keyframe), cv2.KeyPoint_convert(last_kp.reshape(-1, 1, 2)), None, color=(0,0,255))\n",
    "vis_new_keyframe = cv2.drawKeypoints(np.copy(new_keyframe), cv2.KeyPoint_convert(new_kp.reshape(-1, 1, 2)), None, color=(0,0,255))"
   ]
  },
  {
   "cell_type": "code",
   "execution_count": 173,
   "metadata": {},
   "outputs": [],
   "source": [
    "# test if feature points correspond (-> result: they do)\n",
    "vis_last_keyframe = cv2.circle(vis_last_keyframe, tuple(last_kp[-1]), 20, (255,0,0), thickness=2)\n",
    "vis_new_keyframe = cv2.circle(vis_new_keyframe, tuple(new_kp[-1]), 20, (255,0,0), thickness=2)"
   ]
  },
  {
   "cell_type": "code",
   "execution_count": 174,
   "metadata": {},
   "outputs": [],
   "source": [
    "# extract features in both keyframes\n",
    "num_ret_points = 3000\n",
    "tolerance = 0.1\n",
    "orb = cv2.ORB_create()\n",
    "fast = cv2.FastFeatureDetector_create(threshold=12)\n",
    "last_kp = fast.detect(last_keyframe, None)\n",
    "last_kp = sorted(last_kp, key = lambda x:x.response, reverse=True)\n",
    "last_kp = ssc(last_kp, num_ret_points, tolerance, last_keyframe.shape[1], last_keyframe.shape[0])\n",
    "last_kp, last_des = orb.compute(last_keyframe, last_kp)\n",
    "\n",
    "new_kp = fast.detect(new_keyframe, None)\n",
    "new_kp = sorted(new_kp, key = lambda x:x.response, reverse=True)\n",
    "new_kp = ssc(new_kp, num_ret_points, tolerance, new_keyframe.shape[1], new_keyframe.shape[0])\n",
    "new_kp, new_des = orb.compute(new_keyframe, new_kp)"
   ]
  },
  {
   "cell_type": "code",
   "execution_count": 175,
   "metadata": {},
   "outputs": [],
   "source": [
    "# draw new keypoints in blue\n",
    "vis_new_keyframe = cv2.drawKeypoints(vis_new_keyframe, new_kp, None, color=(255,0,0))\n",
    "vis_last_keyframe = cv2.drawKeypoints(vis_last_keyframe, last_kp, None, color=(255,0,0))"
   ]
  },
  {
   "cell_type": "code",
   "execution_count": 176,
   "metadata": {},
   "outputs": [
    {
     "data": {
      "application/vnd.jupyter.widget-view+json": {
       "model_id": "2b76aabfb851432280029e04967db491",
       "version_major": 2,
       "version_minor": 0
      },
      "text/plain": [
       "FigureCanvasNbAgg()"
      ]
     },
     "metadata": {},
     "output_type": "display_data"
    }
   ],
   "source": [
    "# draw frames and kps\n",
    "f, (ax1, ax2) = plt.subplots(1, 2, figsize=(18, 5))\n",
    "ax1.set_title(\"Last Keyframe\")\n",
    "ax1.imshow(vis_last_keyframe[:, :, ::-1])\n",
    "ax2.set_title(\"New Keyframe\")\n",
    "ax2.imshow(vis_new_keyframe[:, :, ::-1])\n",
    "plt.show()"
   ]
  },
  {
   "cell_type": "code",
   "execution_count": 177,
   "metadata": {},
   "outputs": [],
   "source": [
    "# match new key points with those of last KF\n",
    "num_matches = 3000\n",
    "bf = cv2.BFMatcher(cv2.NORM_HAMMING, crossCheck=True)\n",
    "matches = bf.match(last_des, new_des)\n",
    "matches = sorted(matches, key = lambda x:x.distance)\n",
    "last_pts = np.array([last_kp[m.queryIdx].pt for m in matches[:num_matches]]).reshape(1, -1, 2)\n",
    "current_pts = np.array([new_kp[m.trainIdx].pt for m in matches[:num_matches]]).reshape(1, -1, 2)\n",
    "last_des = [last_des[m.queryIdx] for m in matches[:num_matches]]\n",
    "current_des = [new_des[m.trainIdx] for m in matches[:num_matches]]\n",
    "\n",
    "match_frame = cv2.drawMatches(last_keyframe, last_kp, new_keyframe, new_kp, matches[:num_matches], None, matchColor=(0, 0, 0), flags=cv2.DrawMatchesFlags_NOT_DRAW_SINGLE_POINTS)"
   ]
  },
  {
   "cell_type": "code",
   "execution_count": 178,
   "metadata": {},
   "outputs": [
    {
     "data": {
      "application/vnd.jupyter.widget-view+json": {
       "model_id": "bb2d6ba3f0d8432cbf92a74a77aa6e40",
       "version_major": 2,
       "version_minor": 0
      },
      "text/plain": [
       "FigureCanvasNbAgg()"
      ]
     },
     "metadata": {},
     "output_type": "display_data"
    }
   ],
   "source": [
    "f, ax = plt.subplots(1,1, figsize=(13, 3))\n",
    "ax.imshow(match_frame[:, :, ::-1])\n",
    "plt.show()"
   ]
  },
  {
   "cell_type": "markdown",
   "metadata": {},
   "source": [
    "### Triangulate new map points from existing keypoint matches"
   ]
  },
  {
   "cell_type": "code",
   "execution_count": 179,
   "metadata": {},
   "outputs": [],
   "source": [
    "# when triangulating between last KF and new KF, map points will be expressed w.r.t. last KF\n",
    "# need to transform new map points with pose of last KF to transform new map points to world coords"
   ]
  },
  {
   "cell_type": "code",
   "execution_count": 180,
   "metadata": {},
   "outputs": [],
   "source": [
    "def from_twist(twist):\n",
    "    \"\"\"Convert a 6D twist coordinate (shape (6,)) into a 3x3 rotation matrix\n",
    "    and translation vector (shape (3,)).\"\"\"\n",
    "    r = twist[:3]\n",
    "    t = twist[3:].reshape(3, 1)\n",
    "    R, _ = cv2.Rodrigues(r)\n",
    "    return R, t\n",
    "\n",
    "R1, t1 = from_twist(last_pose)\n",
    "R2, t2 = from_twist(new_pose)"
   ]
  },
  {
   "cell_type": "code",
   "execution_count": 191,
   "metadata": {},
   "outputs": [
    {
     "data": {
      "text/plain": [
       "(array([[ 9.99978756e-01,  5.98865388e-03, -2.57373930e-03],\n",
       "        [-5.99045295e-03,  9.99981818e-01, -6.91872160e-04],\n",
       "        [ 2.56954912e-03,  7.07275326e-04,  9.99996449e-01]]),\n",
       " array([[ 0.04999866],\n",
       "        [ 0.09034506],\n",
       "        [-0.99465467]]))"
      ]
     },
     "execution_count": 191,
     "metadata": {},
     "output_type": "execute_result"
    }
   ],
   "source": [
    "R1, t1"
   ]
  },
  {
   "cell_type": "code",
   "execution_count": 192,
   "metadata": {},
   "outputs": [
    {
     "data": {
      "text/plain": [
       "(array([[ 0.99981753,  0.01242721, -0.01450733],\n",
       "        [-0.01269087,  0.99975334, -0.01822622],\n",
       "        [ 0.01427725,  0.01840701,  0.99972863]]), array([[ 0.21624381],\n",
       "        [ 0.54865665],\n",
       "        [-3.84001937]]))"
      ]
     },
     "execution_count": 192,
     "metadata": {},
     "output_type": "execute_result"
    }
   ],
   "source": [
    "R2, t2"
   ]
  },
  {
   "cell_type": "code",
   "execution_count": 181,
   "metadata": {},
   "outputs": [],
   "source": [
    "w = 1920\n",
    "h = 1080\n",
    "fx = 1184.51770\n",
    "fy = 1183.63810\n",
    "cx = 978.30778\n",
    "cy = 533.85598\n",
    "camera_matrix = np.array([[fx, 0, cx], [0, fy, cy], [0, 0, 1]])"
   ]
  },
  {
   "cell_type": "code",
   "execution_count": 182,
   "metadata": {},
   "outputs": [],
   "source": [
    "# create projection matrices needed for triangulation of initial 3D point cloud\n",
    "proj_matrix1 = np.hstack([R1.T, -R1.T.dot(t1)])\n",
    "proj_matrix2 = np.hstack([R2.T, -R2.T.dot(t2)])\n",
    "proj_matrix1 = camera_matrix.dot(proj_matrix1)\n",
    "proj_matrix2 = camera_matrix.dot(proj_matrix2)"
   ]
  },
  {
   "cell_type": "code",
   "execution_count": 183,
   "metadata": {},
   "outputs": [],
   "source": [
    "pts_3d = cv2.triangulatePoints(proj_matrix1, proj_matrix2, last_pts.reshape(-1, 2).T, current_pts.reshape(-1, 2).T).T\n",
    "pts_3d = cv2.convertPointsFromHomogeneous(pts_3d).reshape(-1, 3)"
   ]
  },
  {
   "cell_type": "code",
   "execution_count": 184,
   "metadata": {},
   "outputs": [],
   "source": [
    "# map points into world frame (equivalent to zero translation and rotation)\n",
    "pts_3d_transformed = np.zeros_like(pts_3d)\n",
    "for i, pt in enumerate(np.vsplit(pts_3d, pts_3d.shape[0])):\n",
    "    pt_transformed = np.matmul(R1, pt.reshape(3, 1)) + t1\n",
    "    pts_3d_transformed[i, :] = pt_transformed.reshape(1, 3)\n",
    "# TODO: vectorize this operation by using broadcasting"
   ]
  },
  {
   "cell_type": "code",
   "execution_count": 185,
   "metadata": {},
   "outputs": [],
   "source": [
    "#pts_3d_transformed = np.matmul(R1, pts_3d.reshape(3, -1)) + t1.reshape(3, 1)"
   ]
  },
  {
   "cell_type": "code",
   "execution_count": 186,
   "metadata": {},
   "outputs": [
    {
     "data": {
      "text/plain": [
       "array([[  3.48616672,  -1.4323183 ,   6.3291534 ],\n",
       "       [  0.43576013,  -0.05735713,  -1.1277168 ],\n",
       "       [  5.15940455,  -1.58112091,   9.54253765],\n",
       "       ...,\n",
       "       [  2.33086259,   0.63012551,   9.59638315],\n",
       "       [  0.67163416,   0.43351745,  -5.76949761],\n",
       "       [-13.31374826,  -3.37612181,  15.55041127]])"
      ]
     },
     "execution_count": 186,
     "metadata": {},
     "output_type": "execute_result"
    }
   ],
   "source": [
    "pts_3d_transformed.reshape(-1, 3)"
   ]
  },
  {
   "cell_type": "code",
   "execution_count": 187,
   "metadata": {},
   "outputs": [],
   "source": [
    "# load previous map points\n",
    "map_points = pickle.load(open(\"../map_points.pkl\", \"rb\"))"
   ]
  },
  {
   "cell_type": "code",
   "execution_count": 188,
   "metadata": {},
   "outputs": [
    {
     "data": {
      "text/plain": [
       "array([[ 3.34230901, -2.19069973, 10.37328378],\n",
       "       [ 3.7180698 , -2.16616196, 10.49661154],\n",
       "       [ 4.49060198, -2.12127174, 10.5411192 ],\n",
       "       ...,\n",
       "       [14.2450896 ,  4.35056299, 19.20302832],\n",
       "       [-0.14593682,  1.27739053,  3.22867664],\n",
       "       [ 1.29269421,  0.01992053,  2.51878075]])"
      ]
     },
     "execution_count": 188,
     "metadata": {},
     "output_type": "execute_result"
    }
   ],
   "source": [
    "m = map_points[0][\"mask\"]\n",
    "map_points[0][\"pts_3d\"][m, :]"
   ]
  },
  {
   "cell_type": "code",
   "execution_count": 189,
   "metadata": {},
   "outputs": [
    {
     "data": {
      "application/vnd.jupyter.widget-view+json": {
       "model_id": "e88af6bda897490d87e3be3e97f4b623",
       "version_major": 2,
       "version_minor": 0
      },
      "text/plain": [
       "FigureCanvasNbAgg()"
      ]
     },
     "metadata": {},
     "output_type": "display_data"
    }
   ],
   "source": [
    "fig = plt.figure(figsize=(15, 10))\n",
    "ax = fig.add_subplot(111, projection='3d')\n",
    "ax.set_xlim([-15,15])\n",
    "ax.set_ylim([-15,5])\n",
    "ax.set_zlim([-25,25])\n",
    "ax.set_xlabel(\"x\")\n",
    "ax.set_ylabel(\"y\")\n",
    "ax.set_zlabel(\"z\")\n",
    "#for R, t in zip(Rs, ts):\n",
    "#    plot_basis(ax, R, t.reshape(3,), s=0.1)   \n",
    "\n",
    "# previous map points\n",
    "m = map_points[0][\"mask\"]\n",
    "ax.scatter(map_points[0][\"pts_3d\"][m, 0], map_points[0][\"pts_3d\"][m, 1], map_points[0][\"pts_3d\"][m, 2], s=3, c=\"blue\")\n",
    "\n",
    "# new map points\n",
    "ax.scatter(pts_3d[:, 0], pts_3d[:, 1], pts_3d[:, 2], s=3, c=\"orange\")\n",
    "ax.scatter(pts_3d_transformed[:, 0], pts_3d_transformed[:, 1], pts_3d_transformed[:, 2], s=3, c=\"green\")\n",
    "\n",
    "#out_of_view = np.where(new_kp[:, 1]>=1080)\n",
    "#ax.scatter(pts_3d[out_of_view, 0], pts_3d[out_of_view, 1], pts_3d[out_of_view, 2], s=3)\n",
    "\n",
    "plt.show()"
   ]
  },
  {
   "cell_type": "raw",
   "metadata": {},
   "source": [
    "TODO:\n",
    "    - find new features in new KF\n",
    "    - search for correspdoning points in neighbouring KFs\n",
    "    - triangulate more map points from new matches\n",
    "    - merge & clean redundant map points"
   ]
  },
  {
   "cell_type": "code",
   "execution_count": null,
   "metadata": {},
   "outputs": [],
   "source": []
  },
  {
   "cell_type": "code",
   "execution_count": null,
   "metadata": {},
   "outputs": [],
   "source": []
  },
  {
   "cell_type": "code",
   "execution_count": null,
   "metadata": {},
   "outputs": [],
   "source": []
  },
  {
   "cell_type": "code",
   "execution_count": null,
   "metadata": {},
   "outputs": [],
   "source": []
  },
  {
   "cell_type": "code",
   "execution_count": null,
   "metadata": {},
   "outputs": [],
   "source": []
  },
  {
   "cell_type": "code",
   "execution_count": null,
   "metadata": {},
   "outputs": [],
   "source": [
    "# Below: Finding corresponding features along epilines"
   ]
  },
  {
   "cell_type": "code",
   "execution_count": 26,
   "metadata": {},
   "outputs": [],
   "source": [
    "# compute fundamental matrix\n",
    "# (1) via matched feature points\n",
    "#F, F_mask = cv2.findFundamentalMat()\n",
    "\n",
    "# (2) from the essential matrix\n",
    "\n",
    "# (3) from the known relative pose of cameras\n",
    "fx = 1184.51770\n",
    "fy = 1183.63810\n",
    "cx = 978.30778\n",
    "cy = 533.85598\n",
    "camera_matrix = np.array([[fx, 0, cx], [0, fy, cy], [0, 0, 1]])\n",
    "K = camera_matrix\n"
   ]
  },
  {
   "cell_type": "code",
   "execution_count": 27,
   "metadata": {},
   "outputs": [
    {
     "ename": "NameError",
     "evalue": "name 'F' is not defined",
     "output_type": "error",
     "traceback": [
      "\u001b[0;31m---------------------------------------------------------------------------\u001b[0m",
      "\u001b[0;31mNameError\u001b[0m                                 Traceback (most recent call last)",
      "\u001b[0;32m<ipython-input-27-1dc8b49f1081>\u001b[0m in \u001b[0;36m<module>\u001b[0;34m\u001b[0m\n\u001b[1;32m      1\u001b[0m \u001b[0;31m# pick one feature point in the right image and draw its epiline in the left image\u001b[0m\u001b[0;34m\u001b[0m\u001b[0;34m\u001b[0m\u001b[0;34m\u001b[0m\u001b[0m\n\u001b[1;32m      2\u001b[0m \u001b[0mpoints\u001b[0m \u001b[0;34m=\u001b[0m \u001b[0mnew_kp\u001b[0m\u001b[0;34m.\u001b[0m\u001b[0mreshape\u001b[0m\u001b[0;34m(\u001b[0m\u001b[0;34m-\u001b[0m\u001b[0;36m1\u001b[0m\u001b[0;34m,\u001b[0m \u001b[0;36m1\u001b[0m\u001b[0;34m,\u001b[0m \u001b[0;36m2\u001b[0m\u001b[0;34m)\u001b[0m\u001b[0;34m\u001b[0m\u001b[0;34m\u001b[0m\u001b[0m\n\u001b[0;32m----> 3\u001b[0;31m \u001b[0mlines\u001b[0m \u001b[0;34m=\u001b[0m \u001b[0mcv2\u001b[0m\u001b[0;34m.\u001b[0m\u001b[0mcomputeCorrespondEpilines\u001b[0m\u001b[0;34m(\u001b[0m\u001b[0mpoints\u001b[0m\u001b[0;34m,\u001b[0m \u001b[0;36m2\u001b[0m\u001b[0;34m,\u001b[0m \u001b[0mF\u001b[0m\u001b[0;34m)\u001b[0m\u001b[0;34m\u001b[0m\u001b[0;34m\u001b[0m\u001b[0m\n\u001b[0m",
      "\u001b[0;31mNameError\u001b[0m: name 'F' is not defined"
     ]
    }
   ],
   "source": [
    "# pick one feature point in the right image and draw its epiline in the left image\n",
    "points = new_kp.reshape(-1, 1, 2)\n",
    "lines = cv2.computeCorrespondEpilines(points, 2, F)"
   ]
  },
  {
   "cell_type": "code",
   "execution_count": null,
   "metadata": {},
   "outputs": [],
   "source": []
  }
 ],
 "metadata": {
  "kernelspec": {
   "display_name": "Python 3",
   "language": "python",
   "name": "python3"
  },
  "language_info": {
   "codemirror_mode": {
    "name": "ipython",
    "version": 3
   },
   "file_extension": ".py",
   "mimetype": "text/x-python",
   "name": "python",
   "nbconvert_exporter": "python",
   "pygments_lexer": "ipython3",
   "version": "3.7.4"
  }
 },
 "nbformat": 4,
 "nbformat_minor": 4
}
