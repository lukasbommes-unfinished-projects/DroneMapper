{
 "cells": [
  {
   "cell_type": "markdown",
   "metadata": {},
   "source": [
    "### Solve PnP Example\n",
    "\n",
    "In this example, we perform stereo calibration on a pair of images showing a chessboard at two different angles. Later, we use solvePnP to estimate the pose of the right camera (the left camera defines the zero-pose). We shows, that this estimated pose is close to the pose returned by stereoCalibrate. We operate on undistorted images."
   ]
  },
  {
   "cell_type": "code",
   "execution_count": 147,
   "metadata": {},
   "outputs": [],
   "source": [
    "%matplotlib ipympl\n",
    "import glob\n",
    "import cv2\n",
    "import numpy as np\n",
    "import matplotlib.pyplot as plt\n",
    "from mpl_toolkits.mplot3d import Axes3D\n",
    "from pytransform3d.rotations import *"
   ]
  },
  {
   "cell_type": "code",
   "execution_count": 148,
   "metadata": {},
   "outputs": [],
   "source": [
    "# load images and determine chessboard corners\n",
    "left_img = cv2.imread(\"left.jpg\", cv2.IMREAD_COLOR)\n",
    "right_img = cv2.imread(\"right.jpg\", cv2.IMREAD_COLOR)\n",
    "left_img = cv2.resize(left_img, None, fx=0.25, fy=0.25)\n",
    "right_img = cv2.resize(right_img, None, fx=0.25, fy=0.25)"
   ]
  },
  {
   "cell_type": "code",
   "execution_count": 149,
   "metadata": {},
   "outputs": [],
   "source": [
    "patternsize = (9, 6)\n",
    "\n",
    "def find_corners(img):\n",
    "    img_gray = cv2.cvtColor(img, cv2.COLOR_BGR2GRAY)\n",
    "    ret, corners = cv2.findChessboardCorners(img_gray, patternsize, flags=cv2.CALIB_CB_ADAPTIVE_THRESH+cv2.CALIB_CB_NORMALIZE_IMAGE+cv2.CALIB_CB_FAST_CHECK)\n",
    "    #print(ret)\n",
    "    if ret:\n",
    "        corners = cv2.cornerSubPix(img_gray, corners, (11, 11), (-1, -1), criteria=(cv2.TERM_CRITERIA_EPS+cv2.TERM_CRITERIA_MAX_ITER, 30, 0.1))\n",
    "    img = cv2.drawChessboardCorners(img, patternsize, corners, ret)\n",
    "    return img, corners"
   ]
  },
  {
   "cell_type": "code",
   "execution_count": 150,
   "metadata": {},
   "outputs": [],
   "source": [
    "# prepare images for intrinsic calibration\n",
    "images = glob.glob('intrinsic/*.jpg')\n",
    "objpoints = [] # 3d point in real world space\n",
    "imgpoints = [] # 2d points in image plane\n",
    "for image in images:\n",
    "    img = cv2.imread(image, cv2.IMREAD_COLOR)\n",
    "    img = cv2.resize(img, None, fx=0.25, fy=0.25)\n",
    "    img, corners = find_corners(img)\n",
    "    imgpoints.append(corners)\n",
    "    \n",
    "    # prepare object points\n",
    "    objp = np.zeros((patternsize[1]*patternsize[0],3), np.float32)\n",
    "    objp[:,:2] = np.mgrid[0:patternsize[0],0:patternsize[1]].T.reshape(-1,2)\n",
    "    objpoints.append(objp)"
   ]
  },
  {
   "cell_type": "code",
   "execution_count": 151,
   "metadata": {},
   "outputs": [],
   "source": [
    "# calibrate camera intrinsics\n",
    "retval, K, d, _, _ = cv2.calibrateCamera(objpoints, imgpoints, left_img.shape[:2][::-1], None, None)"
   ]
  },
  {
   "cell_type": "code",
   "execution_count": 152,
   "metadata": {},
   "outputs": [],
   "source": [
    "# undistort images\n",
    "mapx, mapy = cv2.initUndistortRectifyMap(K, d, None, K, left_img.shape[:2][::-1], cv2.CV_32FC1)\n",
    "left_img = cv2.remap(left_img, mapx, mapy, cv2.INTER_CUBIC)\n",
    "right_img = cv2.remap(right_img, mapx, mapy, cv2.INTER_CUBIC)\n",
    "\n",
    "left_img, corners_left = find_corners(left_img)\n",
    "right_img, corners_right = find_corners(right_img)"
   ]
  },
  {
   "cell_type": "code",
   "execution_count": 153,
   "metadata": {},
   "outputs": [],
   "source": [
    "# calibrate as stereo camera\n",
    "retval, K1, d1, K2, d2, R, t, E, F = cv2.stereoCalibrate([objpoints[0]], [corners_left], [corners_right], K, None, K, None, left_img.shape[:2][::-1])"
   ]
  },
  {
   "cell_type": "code",
   "execution_count": 154,
   "metadata": {},
   "outputs": [
    {
     "data": {
      "application/vnd.jupyter.widget-view+json": {
       "model_id": "554dfc19f9104b32bd5b9cf9ccc30e85",
       "version_major": 2,
       "version_minor": 0
      },
      "text/plain": [
       "FigureCanvasNbAgg()"
      ]
     },
     "metadata": {},
     "output_type": "display_data"
    }
   ],
   "source": [
    "fig = plt.figure()\n",
    "ax = fig.add_subplot(111, projection='3d')\n",
    "plot_basis(ax, np.eye(3), np.zeros(3,))\n",
    "plot_basis(ax, R, t.reshape(3,))\n",
    "plot_basis(ax, R.T, -np.matmul(R.T, t.reshape(3,)))\n",
    "ax.set_xlim([-10,10])\n",
    "ax.set_ylim([-10,10])\n",
    "ax.set_zlim([-10,10])\n",
    "plt.show()"
   ]
  },
  {
   "cell_type": "code",
   "execution_count": 155,
   "metadata": {},
   "outputs": [],
   "source": [
    "pts1 = corners_left[:, 0, :]\n",
    "pts2 = corners_right[:, 0, :]"
   ]
  },
  {
   "cell_type": "code",
   "execution_count": 156,
   "metadata": {},
   "outputs": [],
   "source": [
    "# relative camera pose\n",
    "R1 = np.array([[1, 0, 0], [0, 1, 0], [0, 0, 1]]).astype(np.float64)\n",
    "t1 = np.array([[0], [0], [0]]).astype(np.float64)\n",
    "R2 = R.T\n",
    "t2 = -np.matmul(R.T, t.reshape(3,)).reshape(3,1)"
   ]
  },
  {
   "cell_type": "code",
   "execution_count": 157,
   "metadata": {},
   "outputs": [],
   "source": [
    "## create projection matrices\n",
    "proj_matrix1 = np.hstack([R1.T, -R1.T.dot(t1)])\n",
    "proj_matrix2 = np.hstack([R2.T, -R2.T.dot(t2)])\n",
    "proj_matrix1 = K.dot(proj_matrix1)\n",
    "proj_matrix2 = K.dot(proj_matrix2)"
   ]
  },
  {
   "cell_type": "code",
   "execution_count": 220,
   "metadata": {},
   "outputs": [],
   "source": [
    "# recover pose of second (right camera) with respect to first camera by decomposing homography between points\n",
    "# we could also use the essential matrix, however points are planar which is a degenrate case for the essential matrix\n",
    "homography, mask = cv2.findHomography(pts1.reshape(-1, 1, 2), pts2.reshape(-1, 1, 2), cv2.LMEDS)"
   ]
  },
  {
   "cell_type": "code",
   "execution_count": 221,
   "metadata": {},
   "outputs": [],
   "source": [
    "retval, rotations, translations, normals = cv2.decomposeHomographyMat(homography, K)"
   ]
  },
  {
   "cell_type": "code",
   "execution_count": null,
   "metadata": {},
   "outputs": [],
   "source": [
    "# test solution\n",
    "cv2.projectPoints"
   ]
  },
  {
   "cell_type": "code",
   "execution_count": 222,
   "metadata": {},
   "outputs": [
    {
     "data": {
      "text/plain": [
       "[array([[ 0.91228335, -0.08453122,  0.40074126],\n",
       "        [ 0.08167776,  0.99636418,  0.02423165],\n",
       "        [-0.40133257,  0.01062551,  0.91587077]]),\n",
       " array([[ 0.91228335, -0.08453122,  0.40074126],\n",
       "        [ 0.08167776,  0.99636418,  0.02423165],\n",
       "        [-0.40133257,  0.01062551,  0.91587077]]),\n",
       " array([[ 0.98302143, -0.02341461, -0.18199074],\n",
       "        [ 0.023565  ,  0.99972141, -0.00133629],\n",
       "        [ 0.18197133, -0.00297501,  0.98329934]]),\n",
       " array([[ 0.98302143, -0.02341461, -0.18199074],\n",
       "        [ 0.023565  ,  0.99972141, -0.00133629],\n",
       "        [ 0.18197133, -0.00297501,  0.98329934]])]"
      ]
     },
     "execution_count": 222,
     "metadata": {},
     "output_type": "execute_result"
    }
   ],
   "source": [
    "rotations"
   ]
  },
  {
   "cell_type": "code",
   "execution_count": 223,
   "metadata": {},
   "outputs": [
    {
     "data": {
      "text/plain": [
       "[array([[ 0.59841823],\n",
       "        [ 0.03006539],\n",
       "        [-0.10604911]]), array([[-0.59841823],\n",
       "        [-0.03006539],\n",
       "        [ 0.10604911]]), array([[ 0.03918393],\n",
       "        [ 0.06374753],\n",
       "        [-0.6038672 ]]), array([[-0.03918393],\n",
       "        [-0.06374753],\n",
       "        [ 0.6038672 ]])]"
      ]
     },
     "execution_count": 223,
     "metadata": {},
     "output_type": "execute_result"
    }
   ],
   "source": [
    "translations"
   ]
  },
  {
   "cell_type": "code",
   "execution_count": 224,
   "metadata": {},
   "outputs": [
    {
     "name": "stdout",
     "output_type": "stream",
     "text": [
      "[[-5.44058356]\n",
      " [-0.27334275]\n",
      " [ 0.96415688]]\n"
     ]
    },
    {
     "data": {
      "text/plain": [
       "0.06168208529446642"
      ]
     },
     "execution_count": 224,
     "metadata": {},
     "output_type": "execute_result"
    }
   ],
   "source": [
    "tnew23 = translations[0] * np.median(t/translations[0])\n",
    "print(tnew23)\n",
    "np.linalg.norm(tnew23-t)"
   ]
  },
  {
   "cell_type": "code",
   "execution_count": 189,
   "metadata": {},
   "outputs": [
    {
     "data": {
      "text/plain": [
       "(array([[ 0.91861422, -0.07930684,  0.38711541],\n",
       "        [ 0.07853035,  0.9967519 ,  0.01785035],\n",
       "        [-0.38727368,  0.01400272,  0.92185846]]), array([[-5.44058356],\n",
       "        [-0.21562355],\n",
       "        [ 0.98590944]]))"
      ]
     },
     "execution_count": 189,
     "metadata": {},
     "output_type": "execute_result"
    }
   ],
   "source": [
    "R,t"
   ]
  },
  {
   "cell_type": "code",
   "execution_count": 128,
   "metadata": {},
   "outputs": [
    {
     "name": "stdout",
     "output_type": "stream",
     "text": [
      "[[ 0.91861422 -0.07930684  0.38711541]\n",
      " [ 0.07853035  0.9967519   0.01785035]\n",
      " [-0.38727368  0.01400272  0.92185846]]\n",
      "[[-5.44058356]\n",
      " [-0.21562355]\n",
      " [ 0.98590944]]\n",
      "[[ 0.91861422  0.07853035 -0.38727368]\n",
      " [-0.07930684  0.9967519   0.01400272]\n",
      " [ 0.38711541  0.01785035  0.92185846]]\n",
      "[[ 5.39654719]\n",
      " [-0.23035772]\n",
      " [ 1.20111374]]\n"
     ]
    }
   ],
   "source": [
    "print(R)\n",
    "print(t)\n",
    "print(R.T)\n",
    "print(-np.matmul(R.T, t))"
   ]
  },
  {
   "cell_type": "code",
   "execution_count": 158,
   "metadata": {},
   "outputs": [],
   "source": [
    "essential_mat, mask = cv2.findEssentialMat(pts1.reshape(-1, 1, 2), pts2.reshape(-1, 1, 2), K, method=cv2.LMEDS)"
   ]
  },
  {
   "cell_type": "code",
   "execution_count": 159,
   "metadata": {},
   "outputs": [
    {
     "data": {
      "text/plain": [
       "array([[-0.00405732,  0.12562587,  0.03520796],\n",
       "       [ 0.16865019,  0.00322373, -0.68579261],\n",
       "       [ 0.02472118,  0.69539752,  0.00290596]])"
      ]
     },
     "execution_count": 159,
     "metadata": {},
     "output_type": "execute_result"
    }
   ],
   "source": [
    "essential_mat"
   ]
  },
  {
   "cell_type": "code",
   "execution_count": 160,
   "metadata": {},
   "outputs": [
    {
     "data": {
      "text/plain": [
       "array([[ 6.08151143e-03, -9.85726426e-01, -2.16373228e-01],\n",
       "       [-1.20132437e+00, -2.00638602e-03,  5.39710873e+00],\n",
       "       [-2.29176077e-01, -5.44001242e+00, -1.36451346e-02]])"
      ]
     },
     "execution_count": 160,
     "metadata": {},
     "output_type": "execute_result"
    }
   ],
   "source": [
    "E"
   ]
  },
  {
   "cell_type": "code",
   "execution_count": 182,
   "metadata": {},
   "outputs": [],
   "source": [
    "retval, R_re, t_re, mask = cv2.recoverPose(essential_mat, pts1, pts2, K)  #pts2[mask.astype(np.bool).reshape(-1,), :]\n",
    "t_re = t_re*np.mean(t/t_re)"
   ]
  },
  {
   "cell_type": "code",
   "execution_count": 183,
   "metadata": {},
   "outputs": [
    {
     "data": {
      "text/plain": [
       "(array([[ 0.91861422, -0.07930684,  0.38711541],\n",
       "        [ 0.07853035,  0.9967519 ,  0.01785035],\n",
       "        [-0.38727368,  0.01400272,  0.92185846]]), array([[-5.44058356],\n",
       "        [-0.21562355],\n",
       "        [ 0.98590944]]))"
      ]
     },
     "execution_count": 183,
     "metadata": {},
     "output_type": "execute_result"
    }
   ],
   "source": [
    "R, t"
   ]
  },
  {
   "cell_type": "code",
   "execution_count": 218,
   "metadata": {},
   "outputs": [
    {
     "name": "stdout",
     "output_type": "stream",
     "text": [
      "[[ 0.90967639 -0.0845783   0.40661454]\n",
      " [ 0.08157705  0.99635981  0.02474505]\n",
      " [-0.40722728  0.01066042  0.91326464]] [[-5.05154052]\n",
      " [-0.25546949]\n",
      " [ 0.91376184]]\n"
     ]
    }
   ],
   "source": [
    "print(R_re, t_re)"
   ]
  },
  {
   "cell_type": "code",
   "execution_count": 112,
   "metadata": {},
   "outputs": [
    {
     "data": {
      "text/plain": [
       "array([[210.98499, 122.6756 ],\n",
       "       [312.7335 , 125.63492],\n",
       "       [408.71353, 128.25554],\n",
       "       [500.65393, 130.66794],\n",
       "       [587.76917, 132.58319],\n",
       "       [671.16693, 134.18114],\n",
       "       [751.778  , 135.47215],\n",
       "       [829.141  , 136.5749 ],\n",
       "       [902.1669 , 138.61337],\n",
       "       [216.55406, 223.5536 ]], dtype=float32)"
      ]
     },
     "execution_count": 112,
     "metadata": {},
     "output_type": "execute_result"
    }
   ],
   "source": [
    "pts1[:10]"
   ]
  },
  {
   "cell_type": "code",
   "execution_count": 50,
   "metadata": {},
   "outputs": [],
   "source": [
    "# triangulate 3D points from observations in both cameras\n",
    "pts = cv2.triangulatePoints(proj_matrix1, proj_matrix2, pts1.T, pts2.T).T"
   ]
  },
  {
   "cell_type": "code",
   "execution_count": 51,
   "metadata": {},
   "outputs": [],
   "source": [
    "pts = cv2.convertPointsFromHomogeneous(pts).reshape(-1, 3)"
   ]
  },
  {
   "cell_type": "code",
   "execution_count": 52,
   "metadata": {},
   "outputs": [
    {
     "data": {
      "text/plain": [
       "array([[-2.358715  , -2.9733794 ,  8.759449  ],\n",
       "       [-1.35326   , -3.0070436 ,  8.961353  ],\n",
       "       [-0.36058858, -3.0409563 ,  9.143972  ],\n",
       "       [ 0.6284069 , -3.075516  ,  9.315775  ],\n",
       "       [ 1.602491  , -3.1156964 ,  9.49733   ],\n",
       "       [ 2.5711951 , -3.1578894 ,  9.677696  ],\n",
       "       [ 3.5473492 , -3.2072814 ,  9.8702965 ],\n",
       "       [ 4.525114  , -3.2622724 , 10.070582  ],\n",
       "       [ 5.5149913 , -3.3284519 , 10.322598  ],\n",
       "       [-2.336112  , -1.9793094 ,  8.8883505 ],\n",
       "       [-1.328134  , -2.0191875 ,  9.077623  ],\n",
       "       [-0.3273917 , -2.0532718 ,  9.238865  ],\n",
       "       [ 0.6556845 , -2.0946293 ,  9.4281435 ],\n",
       "       [ 1.6274455 , -2.137     ,  9.620763  ],\n",
       "       [ 2.5959144 , -2.1826067 ,  9.800739  ],\n",
       "       [ 3.5724542 , -2.2322624 ,  9.983123  ],\n",
       "       [ 4.550291  , -2.2870748 , 10.181037  ],\n",
       "       [ 5.542968  , -2.34434   , 10.3998165 ],\n",
       "       [-2.317693  , -0.9839    ,  9.012222  ],\n",
       "       [-1.2956791 , -1.0293686 ,  9.17385   ],\n",
       "       [-0.29390737, -1.0715414 ,  9.335463  ],\n",
       "       [ 0.6864308 , -1.1184464 ,  9.543663  ],\n",
       "       [ 1.6535367 , -1.1651062 ,  9.749489  ],\n",
       "       [ 2.6241815 , -1.212012  ,  9.91892   ],\n",
       "       [ 3.599248  , -1.2583768 , 10.084913  ],\n",
       "       [ 4.5812087 , -1.3107969 , 10.285879  ],\n",
       "       [ 5.5770397 , -1.3636767 , 10.503254  ],\n",
       "       [-2.2916944 ,  0.0224344 ,  9.115898  ],\n",
       "       [-1.2658654 , -0.03061217,  9.26783   ],\n",
       "       [-0.26289916, -0.08533951,  9.429821  ],\n",
       "       [ 0.7185349 , -0.1378282 ,  9.640884  ],\n",
       "       [ 1.6884068 , -0.18819627,  9.848984  ],\n",
       "       [ 2.6567461 , -0.23645845, 10.019845  ],\n",
       "       [ 3.6347508 , -0.28184325, 10.189473  ],\n",
       "       [ 4.620347  , -0.3288331 , 10.395282  ],\n",
       "       [ 5.616233  , -0.376785  , 10.6014    ],\n",
       "       [-2.259546  ,  1.0295808 ,  9.201033  ],\n",
       "       [-1.2437259 ,  0.96828985,  9.375922  ],\n",
       "       [-0.2344465 ,  0.90634406,  9.523101  ],\n",
       "       [ 0.7539881 ,  0.847839  ,  9.719817  ],\n",
       "       [ 1.7259405 ,  0.7943813 ,  9.924164  ],\n",
       "       [ 2.699355  ,  0.74548125, 10.112068  ],\n",
       "       [ 3.6806364 ,  0.6989281 , 10.299853  ],\n",
       "       [ 4.667298  ,  0.65521955, 10.503674  ],\n",
       "       [ 5.665802  ,  0.61037433, 10.707421  ],\n",
       "       [-2.2211916 ,  2.037399  ,  9.264907  ],\n",
       "       [-1.2128592 ,  1.9731498 ,  9.463445  ],\n",
       "       [-0.20731875,  1.9086821 ,  9.630736  ],\n",
       "       [ 0.7875393 ,  1.8485602 ,  9.808864  ],\n",
       "       [ 1.7670245 ,  1.7935547 , 10.001373  ],\n",
       "       [ 2.7440064 ,  1.7421271 , 10.204952  ],\n",
       "       [ 3.7291539 ,  1.6929355 , 10.399298  ],\n",
       "       [ 4.717713  ,  1.6476934 , 10.596537  ],\n",
       "       [ 5.72834   ,  1.6102781 , 10.813395  ]], dtype=float32)"
      ]
     },
     "execution_count": 52,
     "metadata": {},
     "output_type": "execute_result"
    }
   ],
   "source": [
    "pts"
   ]
  },
  {
   "cell_type": "code",
   "execution_count": 45,
   "metadata": {},
   "outputs": [
    {
     "name": "stdout",
     "output_type": "stream",
     "text": [
      "True\n",
      "[[ 0.91433936  0.08023536 -0.39692041]\n",
      " [-0.08074068  0.99661512  0.01546756]\n",
      " [ 0.39681793  0.01790502  0.91772269]] [[ 5.45686485]\n",
      " [-0.2535795 ]\n",
      " [ 1.31101294]]\n"
     ]
    }
   ],
   "source": [
    "# given:\n",
    "#   - pts: 3D world points\n",
    "#   - pts2_undistored: undistorted view of the world points in camera C2\n",
    "# results:\n",
    "#   - R, t to map 3D points to camera C2, we need to compute R.T, -R.T*t to retrieve the pose of C2 in world coordinates\n",
    "\n",
    "retval, rvec, tvec, inliers = cv2.solvePnPRansac(pts.reshape(-1, 1, 3), pts2.reshape(-1, 1, 2), K, d, reprojectionError=8, iterationsCount=100)#, flags=cv2.SOLVEPNP_EPNP)\n",
    "#retval, rvec, tvec = cv2.solveP3P(pts.reshape(-1, 1, 3)[:3, :, :], pts2_undistorted.reshape(-1, 1, 2)[:3, :, :], K, None, flags=cv2.SOLVEPNP_P3P)\n",
    "#rvec = rvec[0]\n",
    "#tvec = tvec[0]\n",
    "print(retval)\n",
    "\n",
    "# convert t vector from camera coords to world coords\n",
    "R_recovered = cv2.Rodrigues(rvec)[0].T\n",
    "t_recovered = -np.matmul(cv2.Rodrigues(rvec)[0].T, tvec)\n",
    "\n",
    "print(R_recovered, t_recovered)"
   ]
  },
  {
   "cell_type": "code",
   "execution_count": 46,
   "metadata": {},
   "outputs": [
    {
     "data": {
      "text/plain": [
       "array([[ 4.27485457e-03, -1.70501244e-03,  9.64673488e-03],\n",
       "       [ 1.43384342e-03,  1.36779803e-04, -1.46484025e-03],\n",
       "       [-9.70251742e-03, -5.46722848e-05,  4.13576847e-03]])"
      ]
     },
     "execution_count": 46,
     "metadata": {},
     "output_type": "execute_result"
    }
   ],
   "source": [
    "R2-R_recovered"
   ]
  },
  {
   "cell_type": "code",
   "execution_count": 47,
   "metadata": {},
   "outputs": [
    {
     "data": {
      "text/plain": [
       "array([[-0.06031766],\n",
       "       [ 0.02322178],\n",
       "       [-0.10989919]])"
      ]
     },
     "execution_count": 47,
     "metadata": {},
     "output_type": "execute_result"
    }
   ],
   "source": [
    "t2-t_recovered"
   ]
  },
  {
   "cell_type": "code",
   "execution_count": 48,
   "metadata": {},
   "outputs": [
    {
     "data": {
      "application/vnd.jupyter.widget-view+json": {
       "model_id": "",
       "version_major": 2,
       "version_minor": 0
      },
      "text/plain": [
       "FigureCanvasNbAgg()"
      ]
     },
     "metadata": {},
     "output_type": "display_data"
    }
   ],
   "source": [
    "fig = plt.figure()\n",
    "ax = fig.add_subplot(111, projection='3d')\n",
    "ax.scatter(pts[:, 0], pts[:, 1], pts[:, 2])\n",
    "plot_basis(ax, R1, t1.reshape(3,))\n",
    "plot_basis(ax, R2, t2.reshape(3,))\n",
    "plot_basis(ax, R_recovered, t_recovered.reshape(3,))\n",
    "ax.set_xlim([-10,10])\n",
    "ax.set_ylim([-10,10])\n",
    "ax.set_zlim([-10,10])\n",
    "ax.set_xlabel(\"x\")\n",
    "ax.set_ylabel(\"y\")\n",
    "ax.set_zlabel(\"z\")\n",
    "plt.show()"
   ]
  },
  {
   "cell_type": "code",
   "execution_count": 49,
   "metadata": {},
   "outputs": [
    {
     "name": "stdout",
     "output_type": "stream",
     "text": [
      "world [-2.358715  -2.9733794  8.759449 ] reprojected image [[[ 97.46873556 135.36980783]]]\n",
      "world [-1.35326   -3.0070436  8.961353 ] reprojected image [[[178.8738617  133.70110758]]]\n",
      "world [-0.36058858 -3.0409563   9.143972  ] reprojected image [[[261.96802237 131.42959393]]]\n",
      "world [ 0.6284069 -3.075516   9.315775 ] reprojected image [[[348.35420431 128.67626831]]]\n",
      "world [ 1.602491  -3.1156964  9.49733  ] reprojected image [[[438.38348596 125.61762914]]]\n",
      "world [ 2.5711951 -3.1578894  9.677696 ] reprojected image [[[532.41600371 122.19661367]]]\n",
      "world [ 3.5473492 -3.2072814  9.8702965] reprojected image [[[632.324351   118.24046105]]]\n",
      "world [ 4.525114  -3.2622724 10.070582 ] reprojected image [[[737.57838852 113.76218022]]]\n",
      "world [ 5.5149913 -3.3284519 10.322598 ] reprojected image [[[849.43533926 109.6709347 ]]]\n",
      "world [-2.336112  -1.9793094  8.8883505] reprojected image [[[101.03944574 224.81750706]]]\n",
      "world [-1.328134  -2.0191875  9.077623 ] reprojected image [[[180.95544246 224.32836276]]]\n",
      "world [-0.3273917 -2.0532718  9.238865 ] reprojected image [[[262.59848199 223.7838868 ]]]\n",
      "world [ 0.6556845 -2.0946293  9.4281435] reprojected image [[[348.54917332 223.1257963 ]]]\n",
      "world [ 1.6274455 -2.137      9.620763 ] reprojected image [[[437.75739811 222.4197796 ]]]\n",
      "world [ 2.5959144 -2.1826067  9.800739 ] reprojected image [[[530.51598526 221.09331499]]]\n",
      "world [ 3.5724542 -2.2322624  9.983123 ] reprojected image [[[628.85839966 219.34193545]]]\n",
      "world [ 4.550291  -2.2870748 10.181037 ] reprojected image [[[732.66339853 217.33234113]]]\n",
      "world [ 5.542968  -2.34434   10.3998165] reprojected image [[[843.33343435 215.45012478]]]\n",
      "world [-2.317693 -0.9839    9.012222] reprojected image [[[103.92161206 312.11390874]]]\n",
      "world [-1.2956791 -1.0293686  9.17385  ] reprojected image [[[182.30829058 312.8761044 ]]]\n",
      "world [-0.29390737 -1.0715414   9.335463  ] reprojected image [[[263.36938398 313.91386828]]]\n",
      "world [ 0.6864308 -1.1184464  9.543663 ] reprojected image [[[349.19183166 315.03933371]]]\n",
      "world [ 1.6535367 -1.1651062  9.749489 ] reprojected image [[[437.49338691 316.16579359]]]\n",
      "world [ 2.6241815 -1.212012   9.91892  ] reprojected image [[[528.88417254 316.90195019]]]\n",
      "world [ 3.599248  -1.2583768 10.084913 ] reprojected image [[[625.43456393 317.7041465 ]]]\n",
      "world [ 4.5812087 -1.3107969 10.285879 ] reprojected image [[[728.41185244 318.39184247]]]\n",
      "world [ 5.5770397 -1.3636767 10.503254 ] reprojected image [[[837.99370513 319.32172646]]]\n",
      "world [-2.2916944  0.0224344  9.115898 ] reprojected image [[[105.86930776 398.24187926]]]\n",
      "world [-1.2658654  -0.03061217  9.26783   ] reprojected image [[[183.26637323 400.56282227]]]\n",
      "world [-0.26289916 -0.08533951  9.429821  ] reprojected image [[[263.7966753  402.73966867]]]\n",
      "world [ 0.7185349 -0.1378282  9.640884 ] reprojected image [[[349.07574892 405.21734654]]]\n",
      "world [ 1.6884068  -0.18819627  9.848984  ] reprojected image [[[436.85212447 407.90617618]]]\n",
      "world [ 2.6567461  -0.23645845 10.019845  ] reprojected image [[[527.14137068 410.81563184]]]\n",
      "world [ 3.6347508  -0.28184325 10.189473  ] reprojected image [[[622.96198903 414.22715955]]]\n",
      "world [ 4.620347  -0.3288331 10.395282 ] reprojected image [[[725.10467644 417.78139756]]]\n",
      "world [ 5.616233 -0.376785 10.6014  ] reprojected image [[[833.30043952 421.49569941]]]\n",
      "world [-2.259546   1.0295808  9.201033 ] reprojected image [[[106.99846644 482.90542633]]]\n",
      "world [-1.2437259   0.96828985  9.375922  ] reprojected image [[[184.49566778 486.5522489 ]]]\n",
      "world [-0.2344465   0.90634406  9.523101  ] reprojected image [[[263.93701228 490.40586258]]]\n",
      "world [0.7539881 0.847839  9.719817 ] reprojected image [[[348.3734757  494.27184711]]]\n",
      "world [1.7259405 0.7943813 9.924164 ] reprojected image [[[435.50567032 498.54740221]]]\n",
      "world [ 2.699355    0.74548125 10.112068  ] reprojected image [[[526.02978734 503.56753249]]]\n",
      "world [ 3.6806364  0.6989281 10.299853 ] reprojected image [[[621.61659259 509.14759131]]]\n",
      "world [ 4.667298    0.65521955 10.503674  ] reprojected image [[[722.64554512 515.2135842 ]]]\n",
      "world [ 5.665802    0.61037433 10.707421  ] reprojected image [[[829.83144029 521.61111751]]]\n",
      "world [-2.2211916  2.037399   9.264907 ] reprojected image [[[107.16900151 566.63562978]]]\n",
      "world [-1.2128592  1.9731498  9.463445 ] reprojected image [[[185.08071597 571.62775034]]]\n",
      "world [-0.20731875  1.9086821   9.630736  ] reprojected image [[[264.63892193 577.20026967]]]\n",
      "world [0.7875393 1.8485602 9.808864 ] reprojected image [[[347.87663944 583.13867759]]]\n",
      "world [ 1.7670245  1.7935547 10.001373 ] reprojected image [[[434.42583096 589.39063756]]]\n",
      "world [ 2.7440064  1.7421271 10.204952 ] reprojected image [[[525.02536059 596.04514052]]]\n",
      "world [ 3.7291539  1.6929355 10.399298 ] reprojected image [[[620.2285726  603.49714597]]]\n",
      "world [ 4.717713   1.6476934 10.596537 ] reprojected image [[[720.36869403 611.69594252]]]\n",
      "world [ 5.72834    1.6102781 10.813395 ] reprojected image [[[827.73487672 621.06997766]]]\n"
     ]
    }
   ],
   "source": [
    "# map a world point to a camera point for testing\n",
    "for pt in pts:\n",
    "    test_pts = cv2.convertPointsToHomogeneous(pt.reshape(1, 3))\n",
    "    R_recovered = cv2.Rodrigues(rvec)[0]\n",
    "    t_recovered = tvec\n",
    "    proj_matric_recovered = np.zeros((3, 4))\n",
    "    proj_matric_recovered[:, :3] = R_recovered\n",
    "    proj_matric_recovered[:, -1] = t_recovered.reshape(3,)\n",
    "    proj_matric_recovered = np.matmul(K, proj_matric_recovered)\n",
    "    img_pts = np.matmul(proj_matric_recovered, test_pts[0, 0, :]) \n",
    "    img_pts = cv2.convertPointsFromHomogeneous(img_pts.reshape(1, 3))\n",
    "    print(\"world\", pt, \"reprojected image\", img_pts)"
   ]
  },
  {
   "cell_type": "code",
   "execution_count": 547,
   "metadata": {},
   "outputs": [
    {
     "name": "stdout",
     "output_type": "stream",
     "text": [
      "[[[  11.308057  109.48553 ]]\n",
      "\n",
      " [[ 111.901344  106.63015 ]]\n",
      "\n",
      " [[ 214.93959   101.320244]]\n",
      "\n",
      " [[ 325.12274    95.81196 ]]\n",
      "\n",
      " [[ 442.25693    90.87912 ]]\n",
      "\n",
      " [[ 565.8122     86.42345 ]]\n",
      "\n",
      " [[ 696.351      82.752174]]\n",
      "\n",
      " [[ 833.57587    77.79324 ]]\n",
      "\n",
      " [[1006.23987    55.34331 ]]\n",
      "\n",
      " [[  17.505978  222.61194 ]]]\n",
      "686.7485\n"
     ]
    }
   ],
   "source": [
    "rvec2, _ = cv2.Rodrigues(R2.T)\n",
    "p2, _ = cv2.projectPoints(pts, rvec2, -t2, K, distCoeffs=d)\n",
    "mse2 = np.linalg.norm(p2-pts2.reshape(-1, 1, 2))\n",
    "print(p2[:10])\n",
    "print(mse2)"
   ]
  },
  {
   "cell_type": "code",
   "execution_count": 548,
   "metadata": {},
   "outputs": [
    {
     "name": "stdout",
     "output_type": "stream",
     "text": [
      "[[[211.6582   122.06578 ]]\n",
      "\n",
      " [[312.46432  124.27023 ]]\n",
      "\n",
      " [[408.50275  126.585396]]\n",
      "\n",
      " [[500.57413  128.84879 ]]\n",
      "\n",
      " [[587.4546   131.23679 ]]\n",
      "\n",
      " [[669.55634  133.79903 ]]\n",
      "\n",
      " [[747.62836  136.49435 ]]\n",
      "\n",
      " [[821.47375  138.73965 ]]\n",
      "\n",
      " [[892.5044   139.88567 ]]\n",
      "\n",
      " [[216.15575  222.0639  ]]]\n",
      "6.672421\n"
     ]
    }
   ],
   "source": [
    "rvec1, _ = cv2.Rodrigues(R1.T)\n",
    "p1, _ = cv2.projectPoints(pts, rvec1, -t1, K, distCoeffs=d)\n",
    "mse1 = np.linalg.norm(p1-pts1.reshape(-1, 1, 2))\n",
    "print(p1[:10])\n",
    "print(mse1)"
   ]
  },
  {
   "cell_type": "code",
   "execution_count": null,
   "metadata": {},
   "outputs": [],
   "source": []
  },
  {
   "cell_type": "code",
   "execution_count": null,
   "metadata": {},
   "outputs": [],
   "source": []
  }
 ],
 "metadata": {
  "kernelspec": {
   "display_name": "Python 3",
   "language": "python",
   "name": "python3"
  },
  "language_info": {
   "codemirror_mode": {
    "name": "ipython",
    "version": 3
   },
   "file_extension": ".py",
   "mimetype": "text/x-python",
   "name": "python",
   "nbconvert_exporter": "python",
   "pygments_lexer": "ipython3",
   "version": "3.7.4"
  }
 },
 "nbformat": 4,
 "nbformat_minor": 2
}
