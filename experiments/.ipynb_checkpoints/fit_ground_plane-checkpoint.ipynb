{
 "cells": [
  {
   "cell_type": "code",
   "execution_count": 414,
   "metadata": {},
   "outputs": [],
   "source": [
    "%matplotlib ipympl\n",
    "import pickle\n",
    "import numpy as np\n",
    "import cv2\n",
    "import matplotlib.pyplot as plt\n",
    "from mpl_toolkits.mplot3d import Axes3D"
   ]
  },
  {
   "cell_type": "code",
   "execution_count": 415,
   "metadata": {},
   "outputs": [],
   "source": [
    "# method to map from image plane to estimated groud plane (GP)\n",
    "# 1) for each KF, select visible points from map_points\n",
    "# 2) get four map_points from subset with smallest distance from GP\n",
    "# 3) project these points onto the GP\n",
    "# 4) use cv2.getPerspectiveTransform() to compute a homography between the four selected and projected GP points and their correpsonding image points in the KF\n",
    "# 5) project KF image onto GP by using cv2.warpPerspective()\n",
    "\n",
    "# alternatives:\n",
    "# 2b) get N>4 (e.g. N=10) map_points with smallest distance from GP\n",
    "# 3b) project points onto GP\n",
    "# 4b) use cv2.findHomography() to estimate the best fit homography via RANSAC"
   ]
  },
  {
   "cell_type": "code",
   "execution_count": 416,
   "metadata": {},
   "outputs": [],
   "source": [
    "map_points = pickle.load(open(\"../map_points.pkl\", \"rb\"))\n",
    "kf_visible_map_points = pickle.load(open(\"../kf_visible_map_points.pkl\", \"rb\"))\n",
    "kf_poses = pickle.load(open(\"../kf_poses.pkl\", \"rb\"))\n",
    "kf_frames = pickle.load(open(\"../kf_frames.pkl\", \"rb\"))\n",
    "kf_kp_matched = pickle.load(open(\"../kf_kp_matched.pkl\", \"rb\"))"
   ]
  },
  {
   "cell_type": "markdown",
   "metadata": {},
   "source": [
    "### Fit a Plane into the map points using a RANSAC scheme"
   ]
  },
  {
   "cell_type": "code",
   "execution_count": 417,
   "metadata": {},
   "outputs": [],
   "source": [
    "import numpy as np\n",
    "import numpy.linalg as la\n",
    "\n",
    "eps = 0.00001\n",
    "\n",
    "def svd(A):\n",
    "    u, s, vh = la.svd(A)\n",
    "    S = np.zeros(A.shape)\n",
    "    S[:s.shape[0], :s.shape[0]] = np.diag(s)\n",
    "    return u, S, vh\n",
    "\n",
    "\n",
    "def fit_plane_LSE(points):\n",
    "    # points: Nx4 homogeneous 3d points\n",
    "    # return: 1d array of four elements [a, b, c, d] of\n",
    "    # ax+by+cz+d = 0\n",
    "    assert points.shape[0] >= 3 # at least 3 points needed\n",
    "    U, S, Vt = svd(points)\n",
    "    null_space = Vt[-1, :]\n",
    "    return null_space\n",
    "\n",
    "\n",
    "def get_point_dist(points, plane):\n",
    "    # return: 1d array of size N (number of points)\n",
    "    dists = np.abs(points @ plane) / np.sqrt(plane[0]**2 + plane[1]**2 + plane[2]**2)\n",
    "    return dists\n",
    "\n",
    "\n",
    "def fit_plane_LSE_RANSAC(points, iters=1000, inlier_thresh=0.05, num_support_points=None, return_outlier_list=False):\n",
    "    # points: Nx4 homogeneous 3d points\n",
    "    # num_support_points: If None perform LSE fit with all points, else pick `num_support_points` random points for fitting\n",
    "    # return: \n",
    "    #   plane: 1d array of four elements [a, b, c, d] of ax+by+cz+d = 0\n",
    "    #   inlier_list: 1d array of size N of inlier points\n",
    "    max_inlier_num = -1\n",
    "    max_inlier_list = None\n",
    "    \n",
    "    N = points.shape[0]\n",
    "    assert N >= 3\n",
    "\n",
    "    for i in range(iters):\n",
    "        chose_id = np.random.choice(N, 3, replace=False)\n",
    "        chose_points = points[chose_id, :]\n",
    "        tmp_plane = fit_plane_LSE(chose_points)\n",
    "        \n",
    "        dists = get_point_dist(points, tmp_plane)\n",
    "        tmp_inlier_list = np.where(dists < inlier_thresh)[0]\n",
    "        tmp_inliers = points[tmp_inlier_list, :]\n",
    "        num_inliers = tmp_inliers.shape[0]\n",
    "        if num_inliers > max_inlier_num:\n",
    "            max_inlier_num = num_inliers\n",
    "            max_inlier_list = tmp_inlier_list\n",
    "        \n",
    "        #print('iter %d, %d inliers' % (i, max_inlier_num))\n",
    "\n",
    "    final_points = points[max_inlier_list, :]\n",
    "    if num_support_points:\n",
    "        max_support_points = np.min((num_support_points, final_points.shape[0]))\n",
    "        support_idx = np.random.choice(np.arange(0, final_points.shape[0]), max_support_points, replace=False)\n",
    "        support_points = final_points[support_idx, :]\n",
    "    else:\n",
    "        support_points = final_points\n",
    "    print(final_points.shape)\n",
    "    plane = fit_plane_LSE(support_points)\n",
    "    \n",
    "    fit_variance = np.var(get_point_dist(final_points, plane))\n",
    "    print('RANSAC fit variance: %f' % fit_variance)\n",
    "    print(plane)\n",
    "\n",
    "    dists = get_point_dist(points, plane)\n",
    "\n",
    "    select_thresh = inlier_thresh * 1\n",
    "\n",
    "    inlier_list = np.where(dists < select_thresh)[0]\n",
    "    if not return_outlier_list:\n",
    "        return plane, inlier_list\n",
    "    else:\n",
    "        outlier_list = np.where(dists >= select_thresh)[0]\n",
    "        return plane, inlier_list, outlier_list"
   ]
  },
  {
   "cell_type": "code",
   "execution_count": 418,
   "metadata": {},
   "outputs": [],
   "source": [
    "map_points_h = cv2.convertPointsToHomogeneous(map_points).reshape(-1, 4)"
   ]
  },
  {
   "cell_type": "code",
   "execution_count": 419,
   "metadata": {},
   "outputs": [],
   "source": [
    "import time"
   ]
  },
  {
   "cell_type": "code",
   "execution_count": 420,
   "metadata": {},
   "outputs": [
    {
     "name": "stdout",
     "output_type": "stream",
     "text": [
      "(30891, 4)\n",
      "RANSAC fit variance: 0.042779\n",
      "[-2.57682276e-04  2.87782906e-04 -5.05325584e-02  9.98722339e-01]\n",
      "(30480,) 1.0236213621683419\n"
     ]
    }
   ],
   "source": [
    "t0 = time.perf_counter()\n",
    "plane, inlier_list = fit_plane_LSE_RANSAC(map_points_h, iters=1000, inlier_thresh=1, num_support_points=3000, return_outlier_list=False)\n",
    "dt = time.perf_counter() - t0\n",
    "print(inlier_list.shape, dt)"
   ]
  },
  {
   "cell_type": "markdown",
   "metadata": {},
   "source": [
    "### Project map points onto plane along the plane normal"
   ]
  },
  {
   "cell_type": "code",
   "execution_count": 421,
   "metadata": {},
   "outputs": [],
   "source": [
    "# project all map points onto the plane\n",
    "def plane_to_hessian(plane):\n",
    "    \"\"\"Convert plane to Hessian normal form (n.x + p = 0)\"\"\"\n",
    "    a, b, c, d = plane\n",
    "    nn = np.sqrt(a**2+b**2+c**2)\n",
    "    n = np.array([a/nn, b/nn, c/nn])\n",
    "    p = d/nn\n",
    "    return n, p\n",
    "\n",
    "def project_points(plane, points):\n",
    "    \"\"\"Project points with shape (-1, 3) onto plane (given as coefficients a, b, c, d with ax+by+cz+d=0).\"\"\"\n",
    "    n, p = plane_to_hessian(plane)\n",
    "    p_orig = -n*p\n",
    "    points_proj = points.reshape(-1, 3) - (np.sum(n*(points.reshape(-1, 3) - p_orig.reshape(1, 3)), axis=1)*n.reshape(3, 1)).T\n",
    "    return points_proj"
   ]
  },
  {
   "cell_type": "code",
   "execution_count": 422,
   "metadata": {},
   "outputs": [],
   "source": [
    "map_points_proj = project_points(plane, map_points[inlier_list])"
   ]
  },
  {
   "cell_type": "code",
   "execution_count": 423,
   "metadata": {},
   "outputs": [
    {
     "data": {
      "text/plain": [
       "array([[ -8.23663722,  -0.72573774,  19.80180605],\n",
       "       [-15.15508903,  -3.60271266,  19.82070115],\n",
       "       [  4.93865111,   7.37936134,  19.78077942],\n",
       "       ...,\n",
       "       [ 13.24063593,  -0.78712295,  19.69193672],\n",
       "       [ 28.5774711 ,   2.65779449,  19.63334791],\n",
       "       [  4.9987895 ,   0.84780243,  19.74327553]])"
      ]
     },
     "execution_count": 423,
     "metadata": {},
     "output_type": "execute_result"
    }
   ],
   "source": [
    "map_points_proj"
   ]
  },
  {
   "cell_type": "markdown",
   "metadata": {},
   "source": [
    "### Transform map points from world coordinates to plane coordinates\n",
    "\n",
    "Choose a random orthonormal base inside the plane. Find an affine transformation M that maps 3D world coordinates of the projected map points (projected onto the plane) to 2D plane coordinates. These plane coordinates are defined with respect to the orthonormal base. Based on this stackoverflow question: https://stackoverflow.com/a/18522281"
   ]
  },
  {
   "cell_type": "code",
   "execution_count": 424,
   "metadata": {},
   "outputs": [],
   "source": [
    "# transform points from world to plane coordinates\n",
    "def get_world2plane_transformation(plane, points, return_base=True):\n",
    "    \"\"\"Yields an affine transformation M from 3D world to 2D plane coordinates.\n",
    "\n",
    "    Args:\n",
    "    \n",
    "        plane (`numpy.ndarray`): Shape (4,). Plane coefficients [a, b, c, d] which fullfill\n",
    "            ax + by + cz + d = 0.\n",
    "\n",
    "        points (`numpy.ndarray`): Shape (-1, 3). 3D points on the plane in (x, y, z) world coordinates.\n",
    "        \n",
    "        return_base (`bool`): Wether to return the orthonormal base or not.\n",
    "    \n",
    "    Returns:\n",
    "    \n",
    "        M (`numpy.ndarray`): Shape (4, 4). Affine transformation matrix which maps points on the plane\n",
    "        from 3D world coordinates to 2D points with respect to a randomly chosen orthonormal base on the plane.\n",
    "        Compute point2D = M @ point3D to map a 3D point to 2D coordinates. To retrieve a 3D point from 2D \n",
    "        planes coordinates compute point3D = inv(M) @ point2D.\n",
    "        \n",
    "        base (`numpy.ndarray`) Shape (3, 4). right-handend orthonormal base in which 2D plane points are \n",
    "        expressed. Column vectors of the array correspond to the origin point O of the base, the first and \n",
    "        second base vector u, v and the third base vector n which is the plane normal.  \n",
    "    \"\"\"\n",
    "    # pick a random point on the plane as origin and another one to form first base vector\n",
    "    point_idx = np.arange(0, points.shape[0])\n",
    "    np.random.seed(0)\n",
    "    plane_O, plane_U = points[np.random.choice(point_idx, 2, replace=False), :]\n",
    "    u = (plane_U - plane_O)/np.linalg.norm(plane_U - plane_O)\n",
    "    n, _ = plane_to_hessian(plane)  # plane normal\n",
    "    # compute third base vector\n",
    "    v = np.cross(u, n)/np.linalg.norm(np.cross(u, n))\n",
    "    # get end points of base vectors\n",
    "    U = plane_O + u\n",
    "    V = plane_O + v\n",
    "    N = plane_O + n\n",
    "    # form base quadruplet\n",
    "    D = np.array([[0, 1, 0, 0],\n",
    "                  [0, 0, 1, 0],\n",
    "                  [0, 0, 0, 1],\n",
    "                  [1, 1, 1, 1]])\n",
    "    # form transformation matrix S with M * S = D\n",
    "    S = np.stack((np.append(plane_O, 1), np.append(U, 1), np.append(V, 1), np.append(N, 1)), axis=1)\n",
    "    # compute affine transformation M which maps points from world to plane coordinates\n",
    "    M = np.matmul(D, np.linalg.inv(S))\n",
    "    if return_base:\n",
    "        base = np.stack([plane_O.T, u.T, v.T, n.T], axis=1)\n",
    "        return M, base\n",
    "    else:\n",
    "        return M\n",
    "\n",
    "\n",
    "def map_points_world2plane(points_world, M):\n",
    "    \"\"\"Transforms 3D points on a plane to 2D plane coordinates given the transformation matrix M.\n",
    "    \n",
    "    Args:\n",
    "    \n",
    "        points_world (`numpy.ndarrray`): Shape (-1, 3). 3D points on the plane in (x, y, z) world coordinates.\n",
    "\n",
    "        M (`nnumpy.ndarray`): Shape (4, 4). Affine transformation matrix computed with `get_world2plane_transformation`.\n",
    "    \n",
    "    Returns:\n",
    "    \n",
    "        points_plane (`numpy.ndarrray`): Shape (-1, 2). 2D points on the plane in (xp, yp, z=0) plane coordinates \n",
    "        w.r.t. to a randomly chosen orthonormal base.\n",
    "    \"\"\"\n",
    "    points_world_h = cv2.convertPointsToHomogeneous(points_world).reshape(-1, 4)\n",
    "    points_plane_h = (M @ points_world_h.T).T\n",
    "    points_plane = cv2.convertPointsFromHomogeneous(points_plane_h).reshape(-1, 3)\n",
    "    points_plane = points_plane[:, :2]\n",
    "    return points_plane\n",
    "\n",
    "\n",
    "def map_points_plane2world(points_plane, M):\n",
    "    \"\"\"Transforms 2D plane points into 3D world coordinates given the transformation matrix M.\n",
    "    \n",
    "    Args:\n",
    "    \n",
    "        points_plane (`numpy.ndarrray`): Shape (-1, 2). 2D points on the plane in (xp, yp, z=0) plane coordinates \n",
    "        w.r.t. to a randomly chosen orthonormal base.\n",
    "\n",
    "        M (`nnumpy.ndarray`) Shape (4, 4). Affine transformation matrix computed with `get_world2plane_transformation`.\n",
    "    \n",
    "    Returns:\n",
    "    \n",
    "        points_world (`numpy.ndarrray`): Shape (-1, 3). 3D points on the plane in (x, y, z) world coordinates.\n",
    "    \"\"\"\n",
    "    points_plane_tmp = np.zeros((points_plane.shape[0], 3))\n",
    "    points_plane_tmp[:, :2] = points_plane\n",
    "    points_plane_h = cv2.convertPointsToHomogeneous(points_plane_tmp).reshape(-1, 4)\n",
    "    points_world_h = (np.linalg.inv(M) @ points_plane_h.T).T\n",
    "    points_world = cv2.convertPointsFromHomogeneous(points_world_h).reshape(-1, 3)\n",
    "    return points_world"
   ]
  },
  {
   "cell_type": "code",
   "execution_count": 425,
   "metadata": {},
   "outputs": [
    {
     "name": "stdout",
     "output_type": "stream",
     "text": [
      "[[ -8.23663722  -0.72573774  19.80180605]\n",
      " [-15.15508903  -3.60271266  19.82070115]\n",
      " [  4.93865111   7.37936134  19.78077942]\n",
      " ...\n",
      " [ 13.24063593  -0.78712295  19.69193672]\n",
      " [ 28.5774711    2.65779449  19.63334791]\n",
      " [  4.9987895    0.84780243  19.74327553]]\n",
      "[[ 11.82000098  35.6359641 ]\n",
      " [ 16.0705875   41.80644475]\n",
      " [  5.15034169  21.67899666]\n",
      " ...\n",
      " [ -6.25466693  24.03443486]\n",
      " [-17.26870421  12.8192494 ]\n",
      " [  1.55577407  27.13292813]]\n"
     ]
    }
   ],
   "source": [
    "# test functions\n",
    "points_world = map_points_proj\n",
    "print(points_world)\n",
    "M, base = get_world2plane_transformation(plane, points_world)\n",
    "points_plane = map_points_world2plane(points_world, M)\n",
    "print(points_plane)\n",
    "#points_world = map_points_plane2world(points_plane, M)  # yields the original points which shows the mapping is correct\n",
    "#print(points_world)"
   ]
  },
  {
   "cell_type": "code",
   "execution_count": 426,
   "metadata": {},
   "outputs": [
    {
     "data": {
      "application/vnd.jupyter.widget-view+json": {
       "model_id": "e3247f0c73b24026b667e37f886875fe",
       "version_major": 2,
       "version_minor": 0
      },
      "text/plain": [
       "FigureCanvasNbAgg()"
      ]
     },
     "metadata": {},
     "output_type": "display_data"
    }
   ],
   "source": [
    "fig = plt.figure(figsize=(6, 6))\n",
    "ax = fig.add_subplot(111, projection='3d')\n",
    "ax.scatter(points_world[:1000, 0], points_world[:1000, 1], points_world[:1000, 2], s=1, c=\"red\")\n",
    "ax.scatter(points_plane[:1000, 0], points_plane[:1000, 1], s=1, c=\"green\")\n",
    "ax.set_xlim([-20,20])\n",
    "ax.set_ylim([-20,20])\n",
    "ax.set_zlim([0,40])\n",
    "ax.set_xlabel(\"x\")\n",
    "ax.set_ylabel(\"y\")\n",
    "ax.set_zlabel(\"z\")\n",
    "ax.set_aspect(1.0)\n",
    "\n",
    "# plot base points (point_O, U, V, N)\n",
    "ax.scatter(base[0, 0], base[1, 0], base[2, 0], c=\"orange\")\n",
    "ax.scatter(base[0, 0]+base[0, 1], base[1, 0]+base[1, 1], base[2, 0]+base[2, 1], c=\"red\")\n",
    "ax.scatter(base[0, 0]+base[0, 2], base[1, 0]+base[1, 2], base[2, 0]+base[2, 2], c=\"green\") \n",
    "ax.scatter(base[0, 0]+base[0, 3], base[1, 0]+base[1, 3], base[2, 0]+base[2, 3], c=\"blue\")\n",
    "\n",
    "ax.scatter(0, 0, 0, c=\"black\", s=5)\n",
    "plt.show() "
   ]
  },
  {
   "cell_type": "code",
   "execution_count": 427,
   "metadata": {},
   "outputs": [
    {
     "data": {
      "application/vnd.jupyter.widget-view+json": {
       "model_id": "777cfd6a7dcc4cd5a62ddbe981fa4186",
       "version_major": 2,
       "version_minor": 0
      },
      "text/plain": [
       "FigureCanvasNbAgg()"
      ]
     },
     "metadata": {},
     "output_type": "display_data"
    }
   ],
   "source": [
    "fig = plt.figure(figsize=(6, 4))\n",
    "ax = fig.add_subplot(111)\n",
    "ax.scatter(points_world[:1000, 0], points_world[:1000, 1], s=1, c=\"red\")\n",
    "ax.scatter(points_plane[:1000, 0], points_plane[:1000, 1], s=1, c=\"green\")\n",
    "ax.set_xlim([-30,20])\n",
    "ax.set_ylim([-20,20])\n",
    "ax.set_xlabel(\"x\")\n",
    "ax.set_ylabel(\"y\")\n",
    "ax.set_aspect(1.0)\n",
    "ax.scatter(base[0, 0], base[1, 0], c=\"orange\")\n",
    "ax.scatter(base[0, 0]+base[0, 1], base[1, 0]+base[1, 1], c=\"red\")\n",
    "ax.scatter(base[0, 0]+base[0, 2], base[1, 0]+base[1, 2], c=\"green\") \n",
    "ax.scatter(base[0, 0]+base[0, 3], base[1, 0]+base[1, 3], c=\"blue\")\n",
    "ax.scatter(0, 0, c=\"black\", s=5)\n",
    "\n",
    "# base [[Ox, ux, vx, nx],\n",
    "#       [Oy, uy, vy, ny],\n",
    "#       [Oz, uz, vz, nz]]\n",
    "\n",
    "ax.grid()\n",
    "plt.show() "
   ]
  },
  {
   "cell_type": "markdown",
   "metadata": {},
   "source": [
    "### Find homography between camera plane and ground plane for each keyframe"
   ]
  },
  {
   "cell_type": "code",
   "execution_count": 658,
   "metadata": {},
   "outputs": [],
   "source": [
    "# do computations for kf 1\n",
    "kf_index = 0"
   ]
  },
  {
   "cell_type": "code",
   "execution_count": 659,
   "metadata": {},
   "outputs": [
    {
     "name": "stderr",
     "output_type": "stream",
     "text": [
      "/home/lukas/anaconda3/lib/python3.7/site-packages/matplotlib/pyplot.py:514: RuntimeWarning: More than 20 figures have been opened. Figures created through the pyplot interface (`matplotlib.pyplot.figure`) are retained until explicitly closed and may consume too much memory. (To control this warning, see the rcParam `figure.max_open_warning`).\n",
      "  max_open_warning, RuntimeWarning)\n"
     ]
    },
    {
     "data": {
      "application/vnd.jupyter.widget-view+json": {
       "model_id": "fc8caf83c3574c8bbfd42c77359785eb",
       "version_major": 2,
       "version_minor": 0
      },
      "text/plain": [
       "FigureCanvasNbAgg()"
      ]
     },
     "metadata": {},
     "output_type": "display_data"
    }
   ],
   "source": [
    "fig = plt.figure(figsize=(7, 4))\n",
    "ax = fig.add_subplot(111)\n",
    "ax.imshow(kf_frames[kf_index])\n",
    "plt.show()"
   ]
  },
  {
   "cell_type": "raw",
   "metadata": {},
   "source": [
    "# convert visible map point range to index list\n",
    "vis_map_pts_arr = np.empty((0,), dtype=np.int)\n",
    "for kfs in kf_visible_map_points[kf_index]:\n",
    "    vis_map_pts_arr = np.hstack((vis_map_pts_arr, kfs))\n",
    "    \n",
    "# keep only those points that were marked as inliers during plane fitting\n",
    "vis_map_pts_arr = np.array([v for v in vis_map_pts_arr if v in inlier_list])"
   ]
  },
  {
   "cell_type": "code",
   "execution_count": 660,
   "metadata": {},
   "outputs": [],
   "source": [
    "# convert visible map point range to index list\n",
    "vis_map_pts_arr = np.array(kf_visible_map_points[kf_index][0])\n",
    "# get index of first element\n",
    "first_idx = vis_map_pts_arr[0]\n",
    "# keep only those points that were marked as inliers during plane fitting\n",
    "vis_map_pts_arr = np.array([v for v in vis_map_pts_arr if v in inlier_list])\n",
    "# subtract index of first element to get 0-based indices\n",
    "vis_map_pts_arr = vis_map_pts_arr - first_idx"
   ]
  },
  {
   "cell_type": "code",
   "execution_count": 661,
   "metadata": {},
   "outputs": [
    {
     "data": {
      "text/plain": [
       "(1002,)"
      ]
     },
     "execution_count": 661,
     "metadata": {},
     "output_type": "execute_result"
    }
   ],
   "source": [
    "vis_map_pts_arr.shape"
   ]
  },
  {
   "cell_type": "code",
   "execution_count": 662,
   "metadata": {},
   "outputs": [],
   "source": [
    "kf_points_image = kf_kp_matched[kf_index][vis_map_pts_arr]"
   ]
  },
  {
   "cell_type": "code",
   "execution_count": 663,
   "metadata": {},
   "outputs": [
    {
     "data": {
      "text/plain": [
       "(1002, 2)"
      ]
     },
     "execution_count": 663,
     "metadata": {},
     "output_type": "execute_result"
    }
   ],
   "source": [
    "kf_points_image.shape"
   ]
  },
  {
   "cell_type": "code",
   "execution_count": 664,
   "metadata": {},
   "outputs": [
    {
     "data": {
      "text/plain": [
       "array([[ 493.,  491.],\n",
       "       [  87.,  322.],\n",
       "       [1270.,  969.],\n",
       "       ...,\n",
       "       [1868., 1036.],\n",
       "       [1548.,  394.],\n",
       "       [ 949.,  214.]])"
      ]
     },
     "execution_count": 664,
     "metadata": {},
     "output_type": "execute_result"
    }
   ],
   "source": [
    "kf_points_image"
   ]
  },
  {
   "cell_type": "code",
   "execution_count": 665,
   "metadata": {},
   "outputs": [],
   "source": [
    "kf_points_plane = points_plane[first_idx:first_idx+kf_points_image.shape[0], :]"
   ]
  },
  {
   "cell_type": "code",
   "execution_count": 666,
   "metadata": {},
   "outputs": [
    {
     "data": {
      "text/plain": [
       "(1002, 2)"
      ]
     },
     "execution_count": 666,
     "metadata": {},
     "output_type": "execute_result"
    }
   ],
   "source": [
    "kf_points_plane.shape"
   ]
  },
  {
   "cell_type": "code",
   "execution_count": 667,
   "metadata": {},
   "outputs": [
    {
     "data": {
      "text/plain": [
       "array([[11.82000098, 35.6359641 ],\n",
       "       [16.0705875 , 41.80644475],\n",
       "       [ 5.15034169, 21.67899666],\n",
       "       ...,\n",
       "       [-2.3851145 , 15.88632915],\n",
       "       [-3.49956983, 27.52311549],\n",
       "       [ 2.74924734, 35.36831432]])"
      ]
     },
     "execution_count": 667,
     "metadata": {},
     "output_type": "execute_result"
    }
   ],
   "source": [
    "kf_points_plane"
   ]
  },
  {
   "cell_type": "code",
   "execution_count": 668,
   "metadata": {},
   "outputs": [],
   "source": [
    "# map from image to camera coordinates\n",
    "w = 1920\n",
    "h = 1080\n",
    "fx = 1184.51770\n",
    "fy = 1183.63810\n",
    "cx = 978.30778\n",
    "cy = 533.85598\n",
    "camera_matrix = np.array([[fx, 0, cx], [0, fy, cy], [0, 0, 1]])\n",
    "\n",
    "kf_points_image = cv2.convertPointsToHomogeneous(kf_points_image).reshape(-1, 3)"
   ]
  },
  {
   "cell_type": "code",
   "execution_count": 669,
   "metadata": {},
   "outputs": [],
   "source": [
    "kf_points_camera = (np.linalg.inv(camera_matrix) @ kf_points_image.T).T\n",
    "kf_points_camera = cv2.convertPointsFromHomogeneous(kf_points_camera).reshape(-1, 2)"
   ]
  },
  {
   "cell_type": "code",
   "execution_count": 670,
   "metadata": {},
   "outputs": [
    {
     "name": "stderr",
     "output_type": "stream",
     "text": [
      "/home/lukas/anaconda3/lib/python3.7/site-packages/matplotlib/pyplot.py:514: RuntimeWarning: More than 20 figures have been opened. Figures created through the pyplot interface (`matplotlib.pyplot.figure`) are retained until explicitly closed and may consume too much memory. (To control this warning, see the rcParam `figure.max_open_warning`).\n",
      "  max_open_warning, RuntimeWarning)\n"
     ]
    },
    {
     "data": {
      "application/vnd.jupyter.widget-view+json": {
       "model_id": "5fcf6f924cef4d9396baa68bb60676e1",
       "version_major": 2,
       "version_minor": 0
      },
      "text/plain": [
       "FigureCanvasNbAgg()"
      ]
     },
     "metadata": {},
     "output_type": "display_data"
    },
    {
     "data": {
      "text/plain": [
       "<matplotlib.collections.PathCollection at 0x7fcbd12d3f90>"
      ]
     },
     "execution_count": 670,
     "metadata": {},
     "output_type": "execute_result"
    }
   ],
   "source": [
    "fig = plt.figure(figsize=(6, 4))\n",
    "ax = fig.add_subplot(111)\n",
    "ax.scatter(kf_points_plane[:, 0], kf_points_plane[:, 1], s=1)\n",
    "ax.scatter(kf_points_camera[:, 0], kf_points_camera[:, 1], s=1)"
   ]
  },
  {
   "cell_type": "code",
   "execution_count": 671,
   "metadata": {},
   "outputs": [],
   "source": [
    "# find homography using the plane points and image points (kps)"
   ]
  },
  {
   "cell_type": "code",
   "execution_count": 672,
   "metadata": {},
   "outputs": [],
   "source": [
    "srcPoints = kf_points_camera\n",
    "dstPoints = kf_points_plane\n",
    "H, mask = cv2.findHomography(srcPoints, dstPoints, method=cv2.RANSAC)"
   ]
  },
  {
   "cell_type": "code",
   "execution_count": 673,
   "metadata": {},
   "outputs": [
    {
     "data": {
      "text/plain": [
       "array([[-1.67876255e+01,  1.08897195e+01,  5.28445165e+00],\n",
       "       [-1.06708279e+01, -1.63605324e+01,  3.05448344e+01],\n",
       "       [ 6.05234183e-03,  1.04972577e-02,  1.00000000e+00]])"
      ]
     },
     "execution_count": 673,
     "metadata": {},
     "output_type": "execute_result"
    }
   ],
   "source": [
    "H"
   ]
  },
  {
   "cell_type": "code",
   "execution_count": 674,
   "metadata": {},
   "outputs": [],
   "source": [
    "H1 = H"
   ]
  },
  {
   "cell_type": "code",
   "execution_count": 675,
   "metadata": {},
   "outputs": [
    {
     "name": "stdout",
     "output_type": "stream",
     "text": [
      "Percentage of inliers: 100.0 %\n"
     ]
    }
   ],
   "source": [
    "print(\"Percentage of inliers: {} %\".format(np.sum(mask)/srcPoints.shape[0]*100))"
   ]
  },
  {
   "cell_type": "code",
   "execution_count": 676,
   "metadata": {},
   "outputs": [],
   "source": [
    "warped_frame = cv2.warpPerspective(kf_frames[kf_index], H, kf_frames[kf_index].shape[::-1], cv2.INTER_CUBIC)"
   ]
  },
  {
   "cell_type": "code",
   "execution_count": 677,
   "metadata": {},
   "outputs": [
    {
     "name": "stderr",
     "output_type": "stream",
     "text": [
      "/home/lukas/anaconda3/lib/python3.7/site-packages/matplotlib/pyplot.py:514: RuntimeWarning: More than 20 figures have been opened. Figures created through the pyplot interface (`matplotlib.pyplot.figure`) are retained until explicitly closed and may consume too much memory. (To control this warning, see the rcParam `figure.max_open_warning`).\n",
      "  max_open_warning, RuntimeWarning)\n"
     ]
    },
    {
     "data": {
      "application/vnd.jupyter.widget-view+json": {
       "model_id": "535f3f2c418b4063af3c79cbf90f6bbd",
       "version_major": 2,
       "version_minor": 0
      },
      "text/plain": [
       "FigureCanvasNbAgg()"
      ]
     },
     "metadata": {},
     "output_type": "display_data"
    }
   ],
   "source": [
    "fig = plt.figure(figsize=(7, 4))\n",
    "ax = fig.add_subplot(111)\n",
    "ax.imshow(warped_frame)\n",
    "plt.show()"
   ]
  },
  {
   "cell_type": "code",
   "execution_count": null,
   "metadata": {},
   "outputs": [],
   "source": []
  },
  {
   "cell_type": "code",
   "execution_count": 614,
   "metadata": {},
   "outputs": [],
   "source": [
    "warped_frame_0 = cv2.warpPerspective(kf_frames[0], H0, kf_frames[0].shape[::-1], cv2.INTER_CUBIC)\n",
    "warped_frame_1 = cv2.warpPerspective(kf_frames[1], H1, kf_frames[1].shape[::-1], cv2.INTER_CUBIC)"
   ]
  },
  {
   "cell_type": "code",
   "execution_count": 618,
   "metadata": {},
   "outputs": [
    {
     "name": "stderr",
     "output_type": "stream",
     "text": [
      "/home/lukas/anaconda3/lib/python3.7/site-packages/matplotlib/pyplot.py:514: RuntimeWarning: More than 20 figures have been opened. Figures created through the pyplot interface (`matplotlib.pyplot.figure`) are retained until explicitly closed and may consume too much memory. (To control this warning, see the rcParam `figure.max_open_warning`).\n",
      "  max_open_warning, RuntimeWarning)\n"
     ]
    },
    {
     "data": {
      "application/vnd.jupyter.widget-view+json": {
       "model_id": "c3d5689c54914a43b9765333f868a6e6",
       "version_major": 2,
       "version_minor": 0
      },
      "text/plain": [
       "FigureCanvasNbAgg()"
      ]
     },
     "metadata": {},
     "output_type": "display_data"
    }
   ],
   "source": [
    "fig = plt.figure(figsize=(7, 4))\n",
    "ax = fig.add_subplot(111)\n",
    "ax.imshow(((warped_frame_0+warped_frame_1)/2).astype(np.uint8))\n",
    "plt.show()"
   ]
  },
  {
   "cell_type": "code",
   "execution_count": null,
   "metadata": {},
   "outputs": [],
   "source": []
  }
 ],
 "metadata": {
  "kernelspec": {
   "display_name": "Python 3",
   "language": "python",
   "name": "python3"
  },
  "language_info": {
   "codemirror_mode": {
    "name": "ipython",
    "version": 3
   },
   "file_extension": ".py",
   "mimetype": "text/x-python",
   "name": "python",
   "nbconvert_exporter": "python",
   "pygments_lexer": "ipython3",
   "version": "3.7.4"
  }
 },
 "nbformat": 4,
 "nbformat_minor": 2
}
