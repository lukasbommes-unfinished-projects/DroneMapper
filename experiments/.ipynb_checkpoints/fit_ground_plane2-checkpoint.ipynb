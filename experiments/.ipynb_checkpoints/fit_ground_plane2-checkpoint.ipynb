{
 "cells": [
  {
   "cell_type": "code",
   "execution_count": 104,
   "metadata": {},
   "outputs": [],
   "source": [
    "%matplotlib ipympl\n",
    "import pickle\n",
    "import numpy as np\n",
    "import cv2\n",
    "import matplotlib.pyplot as plt\n",
    "from mpl_toolkits.mplot3d import Axes3D\n",
    "from pytransform3d.rotations import *"
   ]
  },
  {
   "cell_type": "code",
   "execution_count": 105,
   "metadata": {},
   "outputs": [],
   "source": [
    "# method to map from image plane to estimated groud plane (GP)\n",
    "# 1) for each KF, select visible points from map_points\n",
    "# 2) get four map_points from subset with smallest distance from GP\n",
    "# 3) project these points onto the GP\n",
    "# 4) use cv2.getPerspectiveTransform() to compute a homography between the four selected and projected GP points and their correpsonding image points in the KF\n",
    "# 5) project KF image onto GP by using cv2.warpPerspective()\n",
    "\n",
    "# alternatives:\n",
    "# 2b) get N>4 (e.g. N=10) map_points with smallest distance from GP\n",
    "# 3b) project points onto GP\n",
    "# 4b) use cv2.findHomography() to estimate the best fit homography via RANSAC"
   ]
  },
  {
   "cell_type": "code",
   "execution_count": 106,
   "metadata": {},
   "outputs": [],
   "source": [
    "map_points = pickle.load(open(\"../map_points.pkl\", \"rb\"))\n",
    "kf_visible_map_points = pickle.load(open(\"../kf_visible_map_points.pkl\", \"rb\"))\n",
    "kf_poses = pickle.load(open(\"../kf_poses.pkl\", \"rb\"))\n",
    "kf_frames = pickle.load(open(\"../kf_frames.pkl\", \"rb\"))\n",
    "kf_kp_matched = pickle.load(open(\"../kf_kp_matched.pkl\", \"rb\"))"
   ]
  },
  {
   "cell_type": "markdown",
   "metadata": {},
   "source": [
    "### Fit a Plane into the map points using a RANSAC scheme"
   ]
  },
  {
   "cell_type": "code",
   "execution_count": 107,
   "metadata": {},
   "outputs": [],
   "source": [
    "import numpy as np\n",
    "import numpy.linalg as la\n",
    "\n",
    "eps = 0.00001\n",
    "\n",
    "def svd(A):\n",
    "    u, s, vh = la.svd(A)\n",
    "    S = np.zeros(A.shape)\n",
    "    S[:s.shape[0], :s.shape[0]] = np.diag(s)\n",
    "    return u, S, vh\n",
    "\n",
    "\n",
    "def fit_plane_LSE(points):\n",
    "    # points: Nx4 homogeneous 3d points\n",
    "    # return: 1d array of four elements [a, b, c, d] of\n",
    "    # ax+by+cz+d = 0\n",
    "    assert points.shape[0] >= 3 # at least 3 points needed\n",
    "    U, S, Vt = svd(points)\n",
    "    null_space = Vt[-1, :]\n",
    "    return null_space\n",
    "\n",
    "\n",
    "def get_point_dist(points, plane):\n",
    "    # return: 1d array of size N (number of points)\n",
    "    dists = np.abs(points @ plane) / np.sqrt(plane[0]**2 + plane[1]**2 + plane[2]**2)\n",
    "    return dists\n",
    "\n",
    "\n",
    "def fit_plane_LSE_RANSAC(points, iters=1000, inlier_thresh=0.05, num_support_points=None, return_outlier_list=False):\n",
    "    # points: Nx4 homogeneous 3d points\n",
    "    # num_support_points: If None perform LSE fit with all points, else pick `num_support_points` random points for fitting\n",
    "    # return: \n",
    "    #   plane: 1d array of four elements [a, b, c, d] of ax+by+cz+d = 0\n",
    "    #   inlier_list: 1d array of size N of inlier points\n",
    "    max_inlier_num = -1\n",
    "    max_inlier_list = None\n",
    "    \n",
    "    N = points.shape[0]\n",
    "    assert N >= 3\n",
    "\n",
    "    for i in range(iters):\n",
    "        chose_id = np.random.choice(N, 3, replace=False)\n",
    "        chose_points = points[chose_id, :]\n",
    "        tmp_plane = fit_plane_LSE(chose_points)\n",
    "        \n",
    "        dists = get_point_dist(points, tmp_plane)\n",
    "        tmp_inlier_list = np.where(dists < inlier_thresh)[0]\n",
    "        tmp_inliers = points[tmp_inlier_list, :]\n",
    "        num_inliers = tmp_inliers.shape[0]\n",
    "        if num_inliers > max_inlier_num:\n",
    "            max_inlier_num = num_inliers\n",
    "            max_inlier_list = tmp_inlier_list\n",
    "        \n",
    "        #print('iter %d, %d inliers' % (i, max_inlier_num))\n",
    "\n",
    "    final_points = points[max_inlier_list, :]\n",
    "    if num_support_points:\n",
    "        max_support_points = np.min((num_support_points, final_points.shape[0]))\n",
    "        support_idx = np.random.choice(np.arange(0, final_points.shape[0]), max_support_points, replace=False)\n",
    "        support_points = final_points[support_idx, :]\n",
    "    else:\n",
    "        support_points = final_points\n",
    "    print(final_points.shape)\n",
    "    plane = fit_plane_LSE(support_points)\n",
    "    \n",
    "    fit_variance = np.var(get_point_dist(final_points, plane))\n",
    "    print('RANSAC fit variance: %f' % fit_variance)\n",
    "    print(plane)\n",
    "\n",
    "    dists = get_point_dist(points, plane)\n",
    "\n",
    "    select_thresh = inlier_thresh * 1\n",
    "\n",
    "    inlier_list = np.where(dists < select_thresh)[0]\n",
    "    if not return_outlier_list:\n",
    "        return plane, inlier_list\n",
    "    else:\n",
    "        outlier_list = np.where(dists >= select_thresh)[0]\n",
    "        return plane, inlier_list, outlier_list"
   ]
  },
  {
   "cell_type": "code",
   "execution_count": 108,
   "metadata": {},
   "outputs": [],
   "source": [
    "map_points_h = cv2.convertPointsToHomogeneous(map_points).reshape(-1, 4)"
   ]
  },
  {
   "cell_type": "code",
   "execution_count": 109,
   "metadata": {},
   "outputs": [],
   "source": [
    "import time"
   ]
  },
  {
   "cell_type": "code",
   "execution_count": 110,
   "metadata": {},
   "outputs": [
    {
     "name": "stdout",
     "output_type": "stream",
     "text": [
      "(29862, 4)\n",
      "RANSAC fit variance: 0.047503\n",
      "[-1.19081787e-04  3.21561617e-04 -5.06192658e-02  9.98717964e-01]\n",
      "(29467,) 1.2476416120771319\n"
     ]
    }
   ],
   "source": [
    "t0 = time.perf_counter()\n",
    "plane, inlier_list = fit_plane_LSE_RANSAC(map_points_h, iters=1000, inlier_thresh=1, num_support_points=3000, return_outlier_list=False)\n",
    "dt = time.perf_counter() - t0\n",
    "print(inlier_list.shape, dt)"
   ]
  },
  {
   "cell_type": "markdown",
   "metadata": {},
   "source": [
    "### Project map points onto plane along the plane normal"
   ]
  },
  {
   "cell_type": "code",
   "execution_count": 111,
   "metadata": {},
   "outputs": [],
   "source": [
    "# project all map points onto the plane\n",
    "def plane_to_hessian(plane):\n",
    "    \"\"\"Convert plane to Hessian normal form (n.x + p = 0)\"\"\"\n",
    "    a, b, c, d = plane\n",
    "    nn = np.sqrt(a**2+b**2+c**2)\n",
    "    n = np.array([a/nn, b/nn, c/nn])\n",
    "    p = d/nn\n",
    "    return n, p\n",
    "\n",
    "def project_points(plane, points):\n",
    "    \"\"\"Project points with shape (-1, 3) onto plane (given as coefficients a, b, c, d with ax+by+cz+d=0).\"\"\"\n",
    "    n, p = plane_to_hessian(plane)\n",
    "    p_orig = -n*p\n",
    "    points_proj = points.reshape(-1, 3) - (np.sum(n*(points.reshape(-1, 3) - p_orig.reshape(1, 3)), axis=1)*n.reshape(3, 1)).T\n",
    "    return points_proj"
   ]
  },
  {
   "cell_type": "code",
   "execution_count": 112,
   "metadata": {},
   "outputs": [],
   "source": [
    "map_points_proj = project_points(plane, map_points[inlier_list])"
   ]
  },
  {
   "cell_type": "code",
   "execution_count": 113,
   "metadata": {},
   "outputs": [
    {
     "data": {
      "text/plain": [
       "array([[ -8.23596354,  -0.72518199,  19.7447654 ],\n",
       "       [-15.15439958,  -3.60200864,  19.74276582],\n",
       "       [  4.93940285,   7.37964864,  19.76525673],\n",
       "       ...,\n",
       "       [ 18.51001446,   1.46639143,  19.69576759],\n",
       "       [ -0.57625531,  -8.83460476,  19.67523039],\n",
       "       [ 10.92487029,   2.40606333,  19.71958095]])"
      ]
     },
     "execution_count": 113,
     "metadata": {},
     "output_type": "execute_result"
    }
   ],
   "source": [
    "map_points_proj"
   ]
  },
  {
   "cell_type": "markdown",
   "metadata": {},
   "source": [
    "### Transform map points from world coordinates to plane coordinates\n",
    "\n",
    "Choose a random orthonormal base inside the plane. Find an affine transformation M that maps 3D world coordinates of the projected map points (projected onto the plane) to 2D plane coordinates. These plane coordinates are defined with respect to the orthonormal base. Based on this stackoverflow question: https://stackoverflow.com/a/18522281"
   ]
  },
  {
   "cell_type": "code",
   "execution_count": 114,
   "metadata": {},
   "outputs": [],
   "source": [
    "# transform points from world to plane coordinates\n",
    "def get_world2plane_transformation(plane, points, return_base=True):\n",
    "    \"\"\"Yields an affine transformation M from 3D world to 2D plane coordinates.\n",
    "\n",
    "    Args:\n",
    "    \n",
    "        plane (`numpy.ndarray`): Shape (4,). Plane coefficients [a, b, c, d] which fullfill\n",
    "            ax + by + cz + d = 0.\n",
    "\n",
    "        points (`numpy.ndarray`): Shape (-1, 3). 3D points on the plane in (x, y, z) world coordinates.\n",
    "        \n",
    "        return_base (`bool`): Wether to return the orthonormal base or not.\n",
    "    \n",
    "    Returns:\n",
    "    \n",
    "        M (`numpy.ndarray`): Shape (4, 4). Affine transformation matrix which maps points on the plane\n",
    "        from 3D world coordinates to 2D points with respect to a randomly chosen orthonormal base on the plane.\n",
    "        Compute point2D = M @ point3D to map a 3D point to 2D coordinates. To retrieve a 3D point from 2D \n",
    "        planes coordinates compute point3D = inv(M) @ point2D.\n",
    "        \n",
    "        base (`numpy.ndarray`) Shape (3, 4). right-handend orthonormal base in which 2D plane points are \n",
    "        expressed. Column vectors of the array correspond to the origin point O of the base, the first and \n",
    "        second base vector u, v and the third base vector n which is the plane normal.  \n",
    "    \"\"\"\n",
    "    # pick a random point on the plane as origin and another one to form first base vector\n",
    "    point_idx = np.arange(0, points.shape[0])\n",
    "    np.random.seed(0)\n",
    "    plane_O, plane_U = points[np.random.choice(point_idx, 2, replace=False), :]\n",
    "    u = (plane_U - plane_O)/np.linalg.norm(plane_U - plane_O)\n",
    "    n, _ = plane_to_hessian(plane)  # plane normal\n",
    "    # compute third base vector\n",
    "    v = np.cross(u, n)/np.linalg.norm(np.cross(u, n))\n",
    "    # get end points of base vectors\n",
    "    U = plane_O + u\n",
    "    V = plane_O + v\n",
    "    N = plane_O + n\n",
    "    # form base quadruplet\n",
    "    D = np.array([[0, 1, 0, 0],\n",
    "                  [0, 0, 1, 0],\n",
    "                  [0, 0, 0, 1],\n",
    "                  [1, 1, 1, 1]])\n",
    "    # form transformation matrix S with M * S = D\n",
    "    S = np.stack((np.append(plane_O, 1), np.append(U, 1), np.append(V, 1), np.append(N, 1)), axis=1)\n",
    "    # compute affine transformation M which maps points from world to plane coordinates\n",
    "    M = np.matmul(D, np.linalg.inv(S))\n",
    "    if return_base:\n",
    "        base = np.stack([plane_O.T, u.T, v.T, n.T], axis=1)\n",
    "        return M, base\n",
    "    else:\n",
    "        return M\n",
    "\n",
    "\n",
    "def map_points_world2plane(points_world, M):\n",
    "    \"\"\"Transforms 3D points on a plane to 2D plane coordinates given the transformation matrix M.\n",
    "    \n",
    "    Args:\n",
    "    \n",
    "        points_world (`numpy.ndarrray`): Shape (-1, 3). 3D points on the plane in (x, y, z) world coordinates.\n",
    "\n",
    "        M (`nnumpy.ndarray`): Shape (4, 4). Affine transformation matrix computed with `get_world2plane_transformation`.\n",
    "    \n",
    "    Returns:\n",
    "    \n",
    "        points_plane (`numpy.ndarrray`): Shape (-1, 2). 2D points on the plane in (xp, yp, z=0) plane coordinates \n",
    "        w.r.t. to a randomly chosen orthonormal base.\n",
    "    \"\"\"\n",
    "    points_world_h = cv2.convertPointsToHomogeneous(points_world).reshape(-1, 4)\n",
    "    points_plane_h = (M @ points_world_h.T).T\n",
    "    points_plane = cv2.convertPointsFromHomogeneous(points_plane_h).reshape(-1, 3)\n",
    "    points_plane = points_plane[:, :2]\n",
    "    return points_plane\n",
    "\n",
    "\n",
    "def map_points_plane2world(points_plane, M):\n",
    "    \"\"\"Transforms 2D plane points into 3D world coordinates given the transformation matrix M.\n",
    "    \n",
    "    Args:\n",
    "    \n",
    "        points_plane (`numpy.ndarrray`): Shape (-1, 2). 2D points on the plane in (xp, yp, z=0) plane coordinates \n",
    "        w.r.t. to a randomly chosen orthonormal base.\n",
    "\n",
    "        M (`nnumpy.ndarray`) Shape (4, 4). Affine transformation matrix computed with `get_world2plane_transformation`.\n",
    "    \n",
    "    Returns:\n",
    "    \n",
    "        points_world (`numpy.ndarrray`): Shape (-1, 3). 3D points on the plane in (x, y, z) world coordinates.\n",
    "    \"\"\"\n",
    "    points_plane_tmp = np.zeros((points_plane.shape[0], 3))\n",
    "    points_plane_tmp[:, :2] = points_plane\n",
    "    points_plane_h = cv2.convertPointsToHomogeneous(points_plane_tmp).reshape(-1, 4)\n",
    "    points_world_h = (np.linalg.inv(M) @ points_plane_h.T).T\n",
    "    points_world = cv2.convertPointsFromHomogeneous(points_world_h).reshape(-1, 3)\n",
    "    return points_world"
   ]
  },
  {
   "cell_type": "code",
   "execution_count": 115,
   "metadata": {},
   "outputs": [
    {
     "name": "stdout",
     "output_type": "stream",
     "text": [
      "[[ -8.23596354  -0.72518199  19.7447654 ]\n",
      " [-15.15439958  -3.60200864  19.74276582]\n",
      " [  4.93940285   7.37964864  19.76525673]\n",
      " ...\n",
      " [ 18.51001446   1.46639143  19.69576759]\n",
      " [ -0.57625531  -8.83460476  19.67523039]\n",
      " [ 10.92487029   2.40606333  19.71958095]]\n",
      "[[20.51738853  2.53198484]\n",
      " [23.2517449  -4.44398735]\n",
      " [12.68437501 15.87075833]\n",
      " ...\n",
      " [18.87489461 29.31733434]\n",
      " [28.78240108 10.02386514]\n",
      " [17.77980062 21.75302792]]\n"
     ]
    }
   ],
   "source": [
    "# test functions\n",
    "points_world = map_points_proj\n",
    "print(points_world)\n",
    "M, base = get_world2plane_transformation(plane, points_world)\n",
    "points_plane = map_points_world2plane(points_world, M)\n",
    "print(points_plane)\n",
    "#points_world = map_points_plane2world(points_plane, M)  # yields the original points which shows the mapping is correct\n",
    "#print(points_world)"
   ]
  },
  {
   "cell_type": "code",
   "execution_count": 116,
   "metadata": {},
   "outputs": [
    {
     "data": {
      "application/vnd.jupyter.widget-view+json": {
       "model_id": "8f41d29cc5ce4e77abdabcb9ef527d55",
       "version_major": 2,
       "version_minor": 0
      },
      "text/plain": [
       "FigureCanvasNbAgg()"
      ]
     },
     "metadata": {},
     "output_type": "display_data"
    }
   ],
   "source": [
    "fig = plt.figure(figsize=(6, 6))\n",
    "ax = fig.add_subplot(111, projection='3d')\n",
    "ax.scatter(points_world[:1000, 0], points_world[:1000, 1], points_world[:1000, 2], s=1, c=\"red\")\n",
    "ax.scatter(points_plane[:1000, 0], points_plane[:1000, 1], s=1, c=\"green\")\n",
    "ax.set_xlim([-20,20])\n",
    "ax.set_ylim([-20,20])\n",
    "ax.set_zlim([0,40])\n",
    "ax.set_xlabel(\"x\")\n",
    "ax.set_ylabel(\"y\")\n",
    "ax.set_zlabel(\"z\")\n",
    "ax.set_aspect(1.0)\n",
    "\n",
    "# plot base points (point_O, U, V, N)\n",
    "ax.scatter(base[0, 0], base[1, 0], base[2, 0], c=\"orange\")\n",
    "ax.scatter(base[0, 0]+base[0, 1], base[1, 0]+base[1, 1], base[2, 0]+base[2, 1], c=\"red\")\n",
    "ax.scatter(base[0, 0]+base[0, 2], base[1, 0]+base[1, 2], base[2, 0]+base[2, 2], c=\"green\") \n",
    "ax.scatter(base[0, 0]+base[0, 3], base[1, 0]+base[1, 3], base[2, 0]+base[2, 3], c=\"blue\")\n",
    "\n",
    "ax.scatter(0, 0, 0, c=\"black\", s=5)\n",
    "plt.show() "
   ]
  },
  {
   "cell_type": "code",
   "execution_count": 117,
   "metadata": {},
   "outputs": [
    {
     "data": {
      "application/vnd.jupyter.widget-view+json": {
       "model_id": "c0923b5da7284f09a7d612ac8eea2e68",
       "version_major": 2,
       "version_minor": 0
      },
      "text/plain": [
       "FigureCanvasNbAgg()"
      ]
     },
     "metadata": {},
     "output_type": "display_data"
    }
   ],
   "source": [
    "fig = plt.figure(figsize=(6, 4))\n",
    "ax = fig.add_subplot(111)\n",
    "ax.scatter(points_world[:1000, 0], points_world[:1000, 1], s=1, c=\"red\")\n",
    "ax.scatter(points_plane[:1000, 0], points_plane[:1000, 1], s=1, c=\"green\")\n",
    "ax.set_xlim([-30,20])\n",
    "ax.set_ylim([-20,20])\n",
    "ax.set_xlabel(\"x\")\n",
    "ax.set_ylabel(\"y\")\n",
    "ax.set_aspect(1.0)\n",
    "ax.scatter(base[0, 0], base[1, 0], c=\"orange\")\n",
    "ax.scatter(base[0, 0]+base[0, 1], base[1, 0]+base[1, 1], c=\"red\")\n",
    "ax.scatter(base[0, 0]+base[0, 2], base[1, 0]+base[1, 2], c=\"green\") \n",
    "ax.scatter(base[0, 0]+base[0, 3], base[1, 0]+base[1, 3], c=\"blue\")\n",
    "ax.scatter(0, 0, c=\"black\", s=5)\n",
    "\n",
    "# base [[Ox, ux, vx, nx],\n",
    "#       [Oy, uy, vy, ny],\n",
    "#       [Oz, uz, vz, nz]]\n",
    "\n",
    "ax.grid()\n",
    "plt.show() "
   ]
  },
  {
   "cell_type": "markdown",
   "metadata": {},
   "source": [
    "### Convert camera poses from world to plane coordinates"
   ]
  },
  {
   "cell_type": "code",
   "execution_count": 394,
   "metadata": {},
   "outputs": [],
   "source": [
    "def to_twist(R, t):\n",
    "    \"\"\"Convert a 3x3 rotation matrix and translation vector (shape (3,))\n",
    "    into a 6D twist coordinate (shape (6,)).\"\"\"\n",
    "    r, _ = cv2.Rodrigues(R)\n",
    "    twist = np.zeros((6,))\n",
    "    twist[:3] = r.reshape(3,)\n",
    "    twist[3:] = t.reshape(3,)\n",
    "    return twist\n",
    "\n",
    "def from_twist(twist):\n",
    "    \"\"\"Convert a 6D twist coordinate (shape (6,)) into a 3x3 rotation matrix\n",
    "    and translation vector (shape (3,)).\"\"\"\n",
    "    r = twist[:3].reshape(3, 1)\n",
    "    t = twist[3:].reshape(3, 1)\n",
    "    R, _ = cv2.Rodrigues(r)\n",
    "    return R, t"
   ]
  },
  {
   "cell_type": "code",
   "execution_count": 395,
   "metadata": {},
   "outputs": [],
   "source": [
    "# first compute R_plane, t_plane from given coordinate systems\n",
    "# see: https://math.stackexchange.com/questions/1125203/finding-rotation-axis-and-angle-to-align-two-3d-vector-bases\n",
    "def get_plane_pose(plane_O, plane_u, plane_v, plane_n):\n",
    "    \"\"\"Compute the plane pose R_plane, t_plane in world coordinates.\n",
    "    \n",
    "    Assumes the world coordinate system to have rotation R = I and zero translation.\n",
    "    \n",
    "    Args:\n",
    "        plane_O (`numpy.ndarray`): Shape (3,). Origin of the plane coordinate base.\n",
    "        \n",
    "        plane_u (`numpy.ndarray`): Shape (3,). First base vector of the plane coordinate system.\n",
    "        \n",
    "        plane_v (`numpy.ndarray`): Shape (3,). Second base vector of the plane coordinate system.\n",
    "        \n",
    "        plane_n (`numpy.ndarray`): Shape (3,). Third base vector of the plane coordinate system, \n",
    "            corresponds to plane normal.\n",
    "            \n",
    "    Returns:\n",
    "        R_plane (`numpy.ndarray`), t_plane (`numpy.ndarray`): Rotation matrix with shape (3, 3) and \n",
    "        translation vector with shape (3,) which describe the pose of the plane coordinate base in\n",
    "        the world coordinate frame.\n",
    "    \"\"\"\n",
    "    t_plane = plane_O\n",
    "    world_x = np.array([1, 0, 0])\n",
    "    world_y = np.array([0, 1, 0])\n",
    "    world_z = np.array([0, 0, 1])\n",
    "    R_plane = np.outer(plane_u, world_x) + np.outer(plane_v, world_y) + np.outer(plane_n, world_z)\n",
    "    return R_plane, t_plane"
   ]
  },
  {
   "cell_type": "code",
   "execution_count": 396,
   "metadata": {},
   "outputs": [
    {
     "name": "stdout",
     "output_type": "stream",
     "text": [
      "[[ 0.0204988   0.99978711 -0.00235245]\n",
      " [-0.9997694   0.02051339  0.00635241]\n",
      " [-0.00639931 -0.00222169 -0.99997706]] [-11.18799128  19.73553558  19.88168785]\n"
     ]
    }
   ],
   "source": [
    "R_plane, t_plane = get_plane_pose(base[:, 0], base[:, 1], base[:, 2], base[:, 3])\n",
    "print(R_plane, t_plane)"
   ]
  },
  {
   "cell_type": "code",
   "execution_count": 307,
   "metadata": {},
   "outputs": [],
   "source": [
    "def invert_pose(R, t):\n",
    "    \"\"\"Inverts a pose described by 3x3 rotation matrix R and 3d-vector t.\"\"\"\n",
    "    R_inv = R.T\n",
    "    t_inv = -np.matmul(R.T, t.reshape(3,))\n",
    "    return R_inv, t_inv"
   ]
  },
  {
   "cell_type": "code",
   "execution_count": 308,
   "metadata": {},
   "outputs": [],
   "source": [
    "def pose_world_to_plane(R_plane, t_plane, R_pose, t_pose):\n",
    "    \"\"\"\"\"\"\n",
    "    t_plane = t_plane.reshape(3,)\n",
    "    t_pose = t_pose.reshape(3,)\n",
    "    # invert mapping to retrieve a mapping from world to plane coordinates\n",
    "    R_plane_inv, t_plane_inv = invert_pose(R_plane, t_plane)\n",
    "    # now map camera pose from world to plane coordinates\n",
    "    R_pose_plane = R_plane_inv @ R_pose\n",
    "    t_pose_plane = t_pose.reshape(3,) + R_pose @ t_plane_inv\n",
    "    return R_pose_plane, t_pose_plane"
   ]
  },
  {
   "cell_type": "code",
   "execution_count": 397,
   "metadata": {},
   "outputs": [],
   "source": [
    "def pose_world_to_plane(R_plane, t_plane, R_pose, t_pose):\n",
    "    \"\"\"Map keyframe poses from the world to plane coordinate frame.\n",
    "\n",
    "    Args:\n",
    "        R_plane (`numpy.ndarray`): Shape (3, 3). Rotation matrix of plane coordinate system in world coordinate frame.\n",
    "        t_plane (`numpy.ndarray`): Shape (3,). Translation vector of plane coordinate system in world coordinate frame.\n",
    "        \n",
    "        R_pose (`numpy.ndarray`): Shape (3, 3). Rotation matrix of keyframe in world coordinate frame.\n",
    "        t_pose (`numpy.ndarray`): Shape (3,). Translation vector of keyframe in world coordinate frame.\n",
    "\n",
    "    Returns:\n",
    "        R_pose_plane (`numpy.ndarray`), t_pose_plane (`numpy.ndarray`): Rotation matrix with shape (3, 3) and \n",
    "        translation vector with shape (3,) of the keyframe in plane coordinate frame.\n",
    "    \"\"\"\n",
    "    t_pose_plane = t_plane.reshape(3,) + R_plane @ t_pose.reshape(3,)\n",
    "    R_pose_plane = R_plane @ R_pose\n",
    "    return R_pose_plane, t_pose_plane"
   ]
  },
  {
   "cell_type": "code",
   "execution_count": 398,
   "metadata": {},
   "outputs": [],
   "source": [
    "# convert all keyframe poses to plane coordinates\n",
    "kf_poses_plane = []\n",
    "for pose in kf_poses:\n",
    "    R_pose, t_pose = from_twist(pose)\n",
    "    R_kf_plane, t_kf_plane = pose_world_to_plane(R_plane, t_plane, R_pose, t_pose)\n",
    "    kf_poses_plane.append((R_kf_plane, t_kf_plane))"
   ]
  },
  {
   "cell_type": "code",
   "execution_count": 399,
   "metadata": {},
   "outputs": [
    {
     "name": "stderr",
     "output_type": "stream",
     "text": [
      "/home/lukas/anaconda3/lib/python3.7/site-packages/matplotlib/pyplot.py:514: RuntimeWarning: More than 20 figures have been opened. Figures created through the pyplot interface (`matplotlib.pyplot.figure`) are retained until explicitly closed and may consume too much memory. (To control this warning, see the rcParam `figure.max_open_warning`).\n",
      "  max_open_warning, RuntimeWarning)\n"
     ]
    },
    {
     "data": {
      "application/vnd.jupyter.widget-view+json": {
       "model_id": "c880f2a5f18341718c05f1c1de22a815",
       "version_major": 2,
       "version_minor": 0
      },
      "text/plain": [
       "FigureCanvasNbAgg()"
      ]
     },
     "metadata": {},
     "output_type": "display_data"
    }
   ],
   "source": [
    "R_world = np.eye(3)\n",
    "t_world = np.zeros((3,))\n",
    "\n",
    "fig = plt.figure(figsize=(7, 7))\n",
    "ax = fig.add_subplot(111, projection='3d')\n",
    "plot_basis(ax, R_world, t_world)\n",
    "plot_basis(ax, R_plane, t_plane)\n",
    "\n",
    "R_0, t_0 = from_twist(kf_poses[0])\n",
    "plot_basis(ax, R_0, t_0.reshape(3,))\n",
    "R_1, t_1 = from_twist(kf_poses[1])\n",
    "plot_basis(ax, R_1, t_1.reshape(3,))\n",
    "\n",
    "R_0, t_0 = kf_poses_plane[0]\n",
    "plot_basis(ax, R_0, t_0.reshape(3,))\n",
    "R_1, t_1 = kf_poses_plane[1]\n",
    "plot_basis(ax, R_1, t_1.reshape(3,))\n",
    "\n",
    "ax.scatter(base[0, 0], base[1, 0], base[2, 0], c=\"orange\")\n",
    "ax.scatter(base[0, 0]+base[0, 1], base[1, 0]+base[1, 1], base[2, 0]+base[2, 1], c=\"red\")\n",
    "ax.scatter(base[0, 0]+base[0, 2], base[1, 0]+base[1, 2], base[2, 0]+base[2, 2], c=\"green\") \n",
    "ax.scatter(base[0, 0]+base[0, 3], base[1, 0]+base[1, 3], base[2, 0]+base[2, 3], c=\"blue\")\n",
    "ax.set_xlim([-20, 20])\n",
    "ax.set_ylim([-20, 40])\n",
    "ax.set_zlim([0, 40])\n",
    "ax.set_aspect(1.0)\n",
    "ax.set_xlabel(\"x\")\n",
    "ax.set_ylabel(\"y\")\n",
    "ax.set_zlabel(\"z\")\n",
    "plt.show()"
   ]
  },
  {
   "cell_type": "markdown",
   "metadata": {},
   "source": [
    "### Project image corners onto plane"
   ]
  },
  {
   "cell_type": "code",
   "execution_count": 400,
   "metadata": {},
   "outputs": [],
   "source": [
    "w = 1920\n",
    "h = 1080\n",
    "fx = 1184.51770\n",
    "fy = 1183.63810\n",
    "cx = 978.30778\n",
    "cy = 533.85598"
   ]
  },
  {
   "cell_type": "code",
   "execution_count": 401,
   "metadata": {},
   "outputs": [],
   "source": [
    "# corners of the image\n",
    "img_points = np.array([[0, 0],\n",
    "                       [w, 0],\n",
    "                       [0, h],\n",
    "                       [w, h]])"
   ]
  },
  {
   "cell_type": "code",
   "execution_count": 402,
   "metadata": {},
   "outputs": [],
   "source": [
    "def unproject(img_points, fx, fy, cx, cy):\n",
    "    \"\"\"Unproject image points with shape (-1, 2) to camera coordinates.\"\"\"\n",
    "    camera_points = np.zeros((img_points.shape[0], 3))\n",
    "    camera_points[:, 0] = (img_points[:, 0]-cx)/fx\n",
    "    camera_points[:, 1] = (img_points[:, 1]-cy)/fy\n",
    "    camera_points[:, 2] = 1.0\n",
    "    return camera_points"
   ]
  },
  {
   "cell_type": "code",
   "execution_count": 403,
   "metadata": {},
   "outputs": [
    {
     "data": {
      "text/plain": [
       "array([[-0.82591234, -0.45102974,  1.        ],\n",
       "       [ 0.79500055, -0.45102974,  1.        ],\n",
       "       [-0.82591234,  0.46141132,  1.        ],\n",
       "       [ 0.79500055,  0.46141132,  1.        ]])"
      ]
     },
     "execution_count": 403,
     "metadata": {},
     "output_type": "execute_result"
    }
   ],
   "source": [
    "camera_points = unproject(img_points, fx, fy, cx, cy)\n",
    "camera_points  # image corners in camera coordinates"
   ]
  },
  {
   "cell_type": "code",
   "execution_count": 514,
   "metadata": {},
   "outputs": [],
   "source": [
    "warped_frames = []\n",
    "length_pixel = 0.01\n",
    "\n",
    "for pose, frame in zip(kf_poses_plane, kf_frames):\n",
    "    \n",
    "    frame_okay = True\n",
    "    cur_view_min = np.array([1e6, 1e6])\n",
    "    cur_view_max = np.array([-1e6, -1e6])\n",
    "    \n",
    "    if pose[1][-1] < 0:\n",
    "        downlook = np.array([0,0,1])\n",
    "    else:\n",
    "        downlook = np.array([0,0,-1])\n",
    "    \n",
    "    # project image corners from camera to plane coordinates\n",
    "    plane_points = np.zeros((camera_points.shape[0], 2))\n",
    "    for i, camera_point in enumerate(camera_points):\n",
    "        axis = pose[0] @ camera_point\n",
    "        if np.dot(axis, downlook) < 0.4:\n",
    "            print(\"Camera axis is deviating too much from 'down' direction. Skipping to next keyframe.\")\n",
    "            frame_okay = False\n",
    "            break\n",
    "        axis = pose[1] - axis*(pose[1][-1]/axis[-1])\n",
    "        plane_points[i, :] = axis[:2]\n",
    "        \n",
    "    if not frame_okay:\n",
    "        continue\n",
    "    \n",
    "    # expand viewport if necessary\n",
    "    for i, plane_point in enumerate(plane_points):\n",
    "        if plane_point[0] < cur_view_min[0]:\n",
    "            cur_view_min[0] = plane_point[0]\n",
    "        if plane_point[1] < cur_view_min[1]:\n",
    "            cur_view_min[1] = plane_point[1]\n",
    "        if plane_point[0] > cur_view_max[0]:\n",
    "            cur_view_max[0] = plane_point[0]\n",
    "        if plane_point[1] > cur_view_max[1]:\n",
    "            cur_view_max[1] = plane_point[1]\n",
    "\n",
    "    size = ((cur_view_max - cur_view_min)/length_pixel).astype(np.int)    \n",
    "    dst_points = (plane_points - cur_view_min)/length_pixel\n",
    "    \n",
    "    # find homography between camera and ground plane points\n",
    "    transmtx = cv2.getPerspectiveTransform(img_points.astype(np.float32), dst_points.astype(np.float32))\n",
    "    \n",
    "    # warp image\n",
    "    warped_frame = cv2.warpPerspective(frame, transmtx, tuple(size), cv2.INTER_CUBIC, cv2.BORDER_REFLECT)\n",
    "    warped_frames.append(warped_frame)"
   ]
  },
  {
   "cell_type": "code",
   "execution_count": 515,
   "metadata": {},
   "outputs": [
    {
     "name": "stderr",
     "output_type": "stream",
     "text": [
      "/home/lukas/anaconda3/lib/python3.7/site-packages/matplotlib/pyplot.py:514: RuntimeWarning: More than 20 figures have been opened. Figures created through the pyplot interface (`matplotlib.pyplot.figure`) are retained until explicitly closed and may consume too much memory. (To control this warning, see the rcParam `figure.max_open_warning`).\n",
      "  max_open_warning, RuntimeWarning)\n"
     ]
    },
    {
     "data": {
      "application/vnd.jupyter.widget-view+json": {
       "model_id": "3b4b23743f914575a77d8dffd68ad1fd",
       "version_major": 2,
       "version_minor": 0
      },
      "text/plain": [
       "FigureCanvasNbAgg()"
      ]
     },
     "metadata": {},
     "output_type": "display_data"
    }
   ],
   "source": [
    "fig = plt.figure(figsize=(7, 4))\n",
    "ax = fig.add_subplot(111)\n",
    "#alpha = 0.5\n",
    "#dst = cv2.addWeighted(warped_frames[0], alpha, warped_frames[1], 1-alpha, 0.0)\n",
    "#ax.imshow(dst)\n",
    "ax.imshow(warped_frames[12])\n",
    "ax.grid()\n",
    "plt.show()"
   ]
  },
  {
   "cell_type": "code",
   "execution_count": 334,
   "metadata": {},
   "outputs": [
    {
     "name": "stderr",
     "output_type": "stream",
     "text": [
      "/home/lukas/anaconda3/lib/python3.7/site-packages/matplotlib/pyplot.py:514: RuntimeWarning: More than 20 figures have been opened. Figures created through the pyplot interface (`matplotlib.pyplot.figure`) are retained until explicitly closed and may consume too much memory. (To control this warning, see the rcParam `figure.max_open_warning`).\n",
      "  max_open_warning, RuntimeWarning)\n"
     ]
    },
    {
     "data": {
      "application/vnd.jupyter.widget-view+json": {
       "model_id": "983ef90fe267492c94c0c758b9568097",
       "version_major": 2,
       "version_minor": 0
      },
      "text/plain": [
       "FigureCanvasNbAgg()"
      ]
     },
     "metadata": {},
     "output_type": "display_data"
    }
   ],
   "source": [
    "R_world = np.eye(3)\n",
    "t_world = np.zeros((3,))\n",
    "\n",
    "fig = plt.figure(figsize=(7, 7))\n",
    "ax = fig.add_subplot(111, projection='3d')\n",
    "plot_basis(ax, R_world, t_world)\n",
    "plot_basis(ax, R_plane, t_plane)\n",
    "\n",
    "R_0, t_0 = from_twist(kf_poses[0])\n",
    "plot_basis(ax, R_0, t_0.reshape(3,))\n",
    "R_1, t_1 = from_twist(kf_poses[1])\n",
    "plot_basis(ax, R_1, t_1.reshape(3,))\n",
    "\n",
    "R_0, t_0 = kf_poses_plane[0]\n",
    "plot_basis(ax, R_0, t_0.reshape(3,))\n",
    "R_1, t_1 = kf_poses_plane[1]\n",
    "plot_basis(ax, R_1, t_1.reshape(3,))\n",
    "\n",
    "ax.scatter(points_world[:1000, 0], points_world[:1000, 1], points_world[:1000, 2], s=1, c=\"red\")\n",
    "ax.scatter(points_plane[:1000, 0], points_plane[:1000, 1], s=1, c=\"green\")\n",
    "\n",
    "ax.scatter(camera_points[:, 0], camera_points[:, 1], camera_points[:, 2], c=\"cyan\")\n",
    "ax.scatter(plane_points_0[:, 0], plane_points_0[:, 1], c=\"magenta\")\n",
    "ax.scatter(plane_points[:, 0], plane_points[:, 1], c=\"magenta\")\n",
    "\n",
    "ax.scatter(base[0, 0], base[1, 0], base[2, 0], c=\"orange\")\n",
    "ax.scatter(base[0, 0]+base[0, 1], base[1, 0]+base[1, 1], base[2, 0]+base[2, 1], c=\"red\")\n",
    "ax.scatter(base[0, 0]+base[0, 2], base[1, 0]+base[1, 2], base[2, 0]+base[2, 2], c=\"green\") \n",
    "ax.scatter(base[0, 0]+base[0, 3], base[1, 0]+base[1, 3], base[2, 0]+base[2, 3], c=\"blue\")\n",
    "ax.set_xlim([-20, 20])\n",
    "ax.set_ylim([-20, 40])\n",
    "ax.set_zlim([0, 40])\n",
    "ax.set_aspect(1.0)\n",
    "ax.set_xlabel(\"x\")\n",
    "ax.set_ylabel(\"y\")\n",
    "ax.set_zlabel(\"z\")\n",
    "plt.show()"
   ]
  },
  {
   "cell_type": "markdown",
   "metadata": {},
   "source": [
    "### Find homography between camera plane and ground plane for each keyframe"
   ]
  },
  {
   "cell_type": "code",
   "execution_count": null,
   "metadata": {},
   "outputs": [],
   "source": []
  },
  {
   "cell_type": "code",
   "execution_count": null,
   "metadata": {},
   "outputs": [],
   "source": []
  }
 ],
 "metadata": {
  "kernelspec": {
   "display_name": "Python 3",
   "language": "python",
   "name": "python3"
  },
  "language_info": {
   "codemirror_mode": {
    "name": "ipython",
    "version": 3
   },
   "file_extension": ".py",
   "mimetype": "text/x-python",
   "name": "python",
   "nbconvert_exporter": "python",
   "pygments_lexer": "ipython3",
   "version": "3.7.4"
  }
 },
 "nbformat": 4,
 "nbformat_minor": 2
}
