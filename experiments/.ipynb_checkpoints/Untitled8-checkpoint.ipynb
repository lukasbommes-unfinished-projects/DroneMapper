{
 "cells": [
  {
   "cell_type": "code",
   "execution_count": 550,
   "metadata": {},
   "outputs": [],
   "source": [
    "%matplotlib ipympl\n",
    "import glob\n",
    "import cv2\n",
    "import numpy as np\n",
    "import matplotlib.pyplot as plt\n",
    "from mpl_toolkits.mplot3d import Axes3D\n",
    "from pytransform3d.rotations import *"
   ]
  },
  {
   "cell_type": "code",
   "execution_count": 551,
   "metadata": {},
   "outputs": [],
   "source": [
    "# load images and determine chessboard corners\n",
    "left_img = cv2.imread(\"left.jpg\", cv2.IMREAD_COLOR)\n",
    "right_img = cv2.imread(\"right.jpg\", cv2.IMREAD_COLOR)\n",
    "left_img = cv2.resize(left_img, None, fx=0.25, fy=0.25)\n",
    "right_img = cv2.resize(right_img, None, fx=0.25, fy=0.25)"
   ]
  },
  {
   "cell_type": "code",
   "execution_count": 552,
   "metadata": {},
   "outputs": [],
   "source": [
    "def find_corners(img):\n",
    "    patternsize = (9, 6)\n",
    "    img_gray = cv2.cvtColor(img, cv2.COLOR_BGR2GRAY)\n",
    "    ret, corners = cv2.findChessboardCorners(img_gray, patternsize, flags=cv2.CALIB_CB_ADAPTIVE_THRESH+cv2.CALIB_CB_NORMALIZE_IMAGE+cv2.CALIB_CB_FAST_CHECK)\n",
    "    #print(ret)\n",
    "    if ret:\n",
    "        corners = cv2.cornerSubPix(img_gray, corners, (11, 11), (-1, -1), criteria=(cv2.TERM_CRITERIA_EPS+cv2.TERM_CRITERIA_MAX_ITER, 30, 0.1))\n",
    "    img = cv2.drawChessboardCorners(img, patternsize, corners, ret)\n",
    "    return img, corners\n",
    "\n",
    "left_img, corners_left = find_corners(left_img)\n",
    "right_img, corners_right = find_corners(right_img)"
   ]
  },
  {
   "cell_type": "code",
   "execution_count": 553,
   "metadata": {},
   "outputs": [],
   "source": [
    "# prepare images for intrinsic calibration\n",
    "images = glob.glob('intrinsic/*.jpg')\n",
    "objpoints = [] # 3d point in real world space\n",
    "imgpoints = [] # 2d points in image plane\n",
    "for image in images:\n",
    "    img = cv2.imread(image, cv2.IMREAD_COLOR)\n",
    "    img = cv2.resize(img, None, fx=0.25, fy=0.25)\n",
    "    img, corners = find_corners(img)\n",
    "    imgpoints.append(corners)\n",
    "    \n",
    "    # prepare object points\n",
    "    objp = np.zeros((patternsize[1]*patternsize[0],3), np.float32)\n",
    "    objp[:,:2] = np.mgrid[0:patternsize[0],0:patternsize[1]].T.reshape(-1,2)\n",
    "    objpoints.append(objp)    "
   ]
  },
  {
   "cell_type": "code",
   "execution_count": 554,
   "metadata": {},
   "outputs": [],
   "source": [
    "# calibrate camera intrinsics\n",
    "retval, K, d, _, _ = cv2.calibrateCamera(objpoints, imgpoints, left_img.shape[:2][::-1], None, None)"
   ]
  },
  {
   "cell_type": "code",
   "execution_count": 555,
   "metadata": {},
   "outputs": [],
   "source": [
    "# calibrate as stereo camera\n",
    "retval, K1, d1, K2, d2, R, t, E, F = cv2.stereoCalibrate([objpoints[0]], [corners_left], [corners_right], K, d, K, d, left_img.shape[:2][::-1])"
   ]
  },
  {
   "cell_type": "code",
   "execution_count": 556,
   "metadata": {},
   "outputs": [
    {
     "data": {
      "application/vnd.jupyter.widget-view+json": {
       "model_id": "386c7c7eebcf4ca7becdcfc1b32a4122",
       "version_major": 2,
       "version_minor": 0
      },
      "text/plain": [
       "FigureCanvasNbAgg()"
      ]
     },
     "metadata": {},
     "output_type": "display_data"
    }
   ],
   "source": [
    "fig = plt.figure()\n",
    "ax = fig.add_subplot(111, projection='3d')\n",
    "plot_basis(ax, np.eye(3), np.zeros(3,))\n",
    "plot_basis(ax, R, t.reshape(3,))\n",
    "plot_basis(ax, R.T, -np.matmul(R.T, t.reshape(3,)))\n",
    "ax.set_xlim([-10,10])\n",
    "ax.set_ylim([-10,10])\n",
    "ax.set_zlim([-10,10])\n",
    "plt.show()"
   ]
  },
  {
   "cell_type": "code",
   "execution_count": 557,
   "metadata": {},
   "outputs": [],
   "source": [
    "pts1 = corners_left[:, 0, :]\n",
    "pts2 = corners_right[:, 0, :]"
   ]
  },
  {
   "cell_type": "raw",
   "metadata": {},
   "source": [
    "# relative camera pose\n",
    "R1 = np.array([[1, 0, 0], [0, 1, 0], [0, 0, 1]]).astype(np.float64)\n",
    "t1 = np.array([[0], [0], [0]]).astype(np.float64)\n",
    "R2 = np.array([[1, 0, 0], [0, 1, 0], [0, 0, 1]]).astype(np.float64)\n",
    "t2 = np.array([[1], [0], [0]]).astype(np.float64)"
   ]
  },
  {
   "cell_type": "code",
   "execution_count": 558,
   "metadata": {},
   "outputs": [],
   "source": [
    "# relative camera pose\n",
    "R1 = np.array([[1, 0, 0], [0, 1, 0], [0, 0, 1]]).astype(np.float64)\n",
    "t1 = np.array([[0], [0], [0]]).astype(np.float64)\n",
    "R2 = R.T\n",
    "t2 = -np.matmul(R.T, t.reshape(3,)).reshape(3,1)"
   ]
  },
  {
   "cell_type": "code",
   "execution_count": 559,
   "metadata": {},
   "outputs": [],
   "source": [
    "## create projection matrices\n",
    "proj_matrix1 = np.hstack([R1.T, -R1.T.dot(t1)])\n",
    "proj_matrix2 = np.hstack([R2.T, -R2.T.dot(t2)])\n",
    "proj_matrix1 = K.dot(proj_matrix1)\n",
    "proj_matrix2 = K.dot(proj_matrix2)"
   ]
  },
  {
   "cell_type": "code",
   "execution_count": 560,
   "metadata": {},
   "outputs": [
    {
     "data": {
      "text/plain": [
       "array([[211.62093, 122.89432],\n",
       "       [312.4482 , 124.71296],\n",
       "       [408.48947, 127.01697],\n",
       "       [500.55267, 129.6443 ],\n",
       "       [587.4343 , 132.16008],\n",
       "       [669.5428 , 134.70001],\n",
       "       [747.61664, 137.55559],\n",
       "       [821.4467 , 140.0841 ],\n",
       "       [892.38666, 141.99115],\n",
       "       [216.14915, 222.67738]], dtype=float32)"
      ]
     },
     "execution_count": 560,
     "metadata": {},
     "output_type": "execute_result"
    }
   ],
   "source": [
    "pts1[:10]"
   ]
  },
  {
   "cell_type": "code",
   "execution_count": 561,
   "metadata": {},
   "outputs": [],
   "source": [
    "# undistort points prior to triangulation\n",
    "pts1_undistorted = cv2.undistortPoints(pts1.reshape(-1, 1, 2), K, d, None, K).reshape(-1, 2)\n",
    "pts2_undistorted = cv2.undistortPoints(pts2.reshape(-1, 1, 2), K, d, None, K).reshape(-1, 2)\n",
    "pts = cv2.triangulatePoints(proj_matrix1, proj_matrix2, pts1_undistorted.T, pts2_undistorted.T).T\n",
    "#pts = cv2.triangulatePoints(proj_matrix1, proj_matrix2, pts1.T, pts2.T).T"
   ]
  },
  {
   "cell_type": "code",
   "execution_count": 562,
   "metadata": {},
   "outputs": [],
   "source": [
    "pts = cv2.convertPointsFromHomogeneous(pts).reshape(-1, 3)"
   ]
  },
  {
   "cell_type": "code",
   "execution_count": 563,
   "metadata": {},
   "outputs": [
    {
     "data": {
      "text/plain": [
       "array([[-2.3588324 , -2.9734688 ,  8.760485  ],\n",
       "       [-1.3528311 , -3.007264  ,  8.96096   ],\n",
       "       [-0.36004767, -3.041054  ,  9.143721  ],\n",
       "       [ 0.62875146, -3.0760314 ,  9.316667  ],\n",
       "       [ 1.6030538 , -3.1154864 ,  9.496848  ],\n",
       "       [ 2.5711918 , -3.1585531 ,  9.679421  ],\n",
       "       [ 3.547523  , -3.2076178 ,  9.871115  ],\n",
       "       [ 4.525416  , -3.262629  , 10.071691  ],\n",
       "       [ 5.514843  , -3.3283677 , 10.32271   ],\n",
       "       [-2.335406  , -1.979252  ,  8.8876505 ],\n",
       "       [-1.3274802 , -2.0193815 ,  9.077079  ],\n",
       "       [-0.32822645, -2.053373  ,  9.238956  ],\n",
       "       [ 0.65543586, -2.0945582 ,  9.428022  ],\n",
       "       [ 1.6274697 , -2.1371002 ,  9.621111  ],\n",
       "       [ 2.5961926 , -2.1833918 ,  9.801267  ],\n",
       "       [ 3.57245   , -2.2321956 ,  9.983808  ],\n",
       "       [ 4.5505934 , -2.2874625 , 10.182944  ],\n",
       "       [ 5.54368   , -2.3452234 , 10.4024    ],\n",
       "       [-2.318017  , -0.98285836,  9.0119    ],\n",
       "       [-1.2965109 , -1.0296584 ,  9.174084  ],\n",
       "       [-0.29378313, -1.0716931 ,  9.333986  ],\n",
       "       [ 0.6867137 , -1.1182777 ,  9.54445   ],\n",
       "       [ 1.6533988 , -1.1646357 ,  9.750524  ],\n",
       "       [ 2.6239486 , -1.211717  ,  9.919497  ],\n",
       "       [ 3.5995293 , -1.2579519 , 10.085758  ],\n",
       "       [ 4.5818815 , -1.311771  , 10.287354  ],\n",
       "       [ 5.57763   , -1.364158  , 10.503889  ],\n",
       "       [-2.2917035 ,  0.02282953,  9.114804  ],\n",
       "       [-1.266548  , -0.02994233,  9.26812   ],\n",
       "       [-0.2628286 , -0.08537655,  9.430352  ],\n",
       "       [ 0.71858996, -0.13760374,  9.64141   ],\n",
       "       [ 1.6884382 , -0.18828644,  9.848863  ],\n",
       "       [ 2.6572292 , -0.23688729, 10.01929   ],\n",
       "       [ 3.6351984 , -0.28187442, 10.191079  ],\n",
       "       [ 4.620854  , -0.32879373, 10.397318  ],\n",
       "       [ 5.6174045 , -0.37674594, 10.603405  ],\n",
       "       [-2.2592976 ,  1.0299522 ,  9.199996  ],\n",
       "       [-1.2434963 ,  0.9681205 ,  9.374748  ],\n",
       "       [-0.23434414,  0.9069227 ,  9.522582  ],\n",
       "       [ 0.7541633 ,  0.84836274,  9.719549  ],\n",
       "       [ 1.7255473 ,  0.79484665,  9.925478  ],\n",
       "       [ 2.6993454 ,  0.74578685, 10.113151  ],\n",
       "       [ 3.6803827 ,  0.6994549 , 10.299217  ],\n",
       "       [ 4.668155  ,  0.6547696 , 10.503688  ],\n",
       "       [ 5.66738   ,  0.6104766 , 10.708859  ],\n",
       "       [-2.220319  ,  2.037343  ,  9.262763  ],\n",
       "       [-1.2127763 ,  1.9736911 ,  9.462114  ],\n",
       "       [-0.2071667 ,  1.908863  ,  9.629068  ],\n",
       "       [ 0.7878632 ,  1.8484048 ,  9.807617  ],\n",
       "       [ 1.7669885 ,  1.793959  , 10.0011635 ],\n",
       "       [ 2.7446527 ,  1.7427269 , 10.205712  ],\n",
       "       [ 3.729855  ,  1.6934516 , 10.401523  ],\n",
       "       [ 4.7186747 ,  1.6479657 , 10.598324  ],\n",
       "       [ 5.7298493 ,  1.6114634 , 10.816462  ]], dtype=float32)"
      ]
     },
     "execution_count": 563,
     "metadata": {},
     "output_type": "execute_result"
    }
   ],
   "source": [
    "pts"
   ]
  },
  {
   "cell_type": "code",
   "execution_count": 564,
   "metadata": {},
   "outputs": [
    {
     "name": "stdout",
     "output_type": "stream",
     "text": [
      "True\n",
      "[[ 0.92277703  0.09031825 -0.37460001]\n",
      " [-0.07459045  0.99562332  0.05630701]\n",
      " [ 0.37804606 -0.02401724  0.9254752 ]] [[ 5.23926153]\n",
      " [-0.65664922]\n",
      " [ 1.16897665]]\n"
     ]
    }
   ],
   "source": [
    "# given:\n",
    "#   - pts: 3D world points\n",
    "#   - pts2_undistored: undistorted view of the world points in camera C2\n",
    "# results:\n",
    "#   - R, t to map 3D points to camera C2, we need to compute R.T, -R.T*t to retrieve the pose of C2 in world coordinates\n",
    "\n",
    "retval, rvec, tvec, inliers = cv2.solvePnPRansac(pts.reshape(-1, 1, 3), pts2.reshape(-1, 1, 2), K, d, reprojectionError=8, iterationsCount=100)#, flags=cv2.SOLVEPNP_EPNP)\n",
    "#retval, rvec, tvec = cv2.solveP3P(pts.reshape(-1, 1, 3)[:3, :, :], pts2_undistorted.reshape(-1, 1, 2)[:3, :, :], K, None, flags=cv2.SOLVEPNP_P3P)\n",
    "#rvec = rvec[0]\n",
    "#tvec = tvec[0]\n",
    "print(retval)\n",
    "\n",
    "# convert t vector from camera coords to world coords\n",
    "R_recovered = cv2.Rodrigues(rvec)[0].T\n",
    "t_recovered = -np.matmul(cv2.Rodrigues(rvec)[0].T, tvec)\n",
    "\n",
    "print(R_recovered, t_recovered)"
   ]
  },
  {
   "cell_type": "code",
   "execution_count": 565,
   "metadata": {},
   "outputs": [
    {
     "data": {
      "text/plain": [
       "array([[-0.00410069, -0.01165734, -0.01249976],\n",
       "       [-0.00464969,  0.00112692, -0.04181657],\n",
       "       [ 0.00893557,  0.04137905, -0.00355124]])"
      ]
     },
     "execution_count": 565,
     "metadata": {},
     "output_type": "execute_result"
    }
   ],
   "source": [
    "R2-R_recovered"
   ]
  },
  {
   "cell_type": "code",
   "execution_count": 566,
   "metadata": {},
   "outputs": [
    {
     "data": {
      "text/plain": [
       "array([[0.15647524],\n",
       "       [0.4218854 ],\n",
       "       [0.02952677]])"
      ]
     },
     "execution_count": 566,
     "metadata": {},
     "output_type": "execute_result"
    }
   ],
   "source": [
    "t2-t_recovered"
   ]
  },
  {
   "cell_type": "code",
   "execution_count": 546,
   "metadata": {},
   "outputs": [
    {
     "name": "stdout",
     "output_type": "stream",
     "text": [
      "world [-2.3588324 -2.9734688  8.760485 ] reprojected image [[[ 92.20327696 133.51645177]]]\n",
      "world [-1.3528311 -3.007264   8.96096  ] reprojected image [[[175.80074462 132.55704754]]]\n",
      "world [-0.36004767 -3.041054    9.143721  ] reprojected image [[[260.89161402 131.1392425 ]]]\n",
      "world [ 0.62875146 -3.0760314   9.316667  ] reprojected image [[[349.0281238 129.2941897]]]\n",
      "world [ 1.6030538 -3.1154864  9.496848 ] reprojected image [[[440.36963709 127.1687551 ]]]\n",
      "world [ 2.5711918 -3.1585531  9.679421 ] reprojected image [[[535.41460841 124.67219109]]]\n",
      "world [ 3.547523  -3.2076178  9.871115 ] reprojected image [[[635.86591506 121.68157982]]]\n",
      "world [ 4.525416 -3.262629 10.071691] reprojected image [[[741.19240977 118.19298331]]]\n",
      "world [ 5.514843  -3.3283677 10.32271  ] reprojected image [[[852.37186538 114.93486581]]]\n",
      "world [-2.335406  -1.979252   8.8876505] reprojected image [[[ 97.64862822 224.64583125]]]\n",
      "world [-1.3274802 -2.0193815  9.077079 ] reprojected image [[[179.45826262 224.77025091]]]\n",
      "world [-0.32822645 -2.053373    9.238956  ] reprojected image [[[262.66652155 225.00620371]]]\n",
      "world [ 0.65543586 -2.0945582   9.428022  ] reprojected image [[[349.92321344 225.02120508]]]\n",
      "world [ 1.6274697 -2.1371002  9.621111 ] reprojected image [[[440.0816288  224.96683307]]]\n",
      "world [ 2.5961926 -2.1833918  9.801267 ] reprojected image [[[533.41464616 224.31309861]]]\n",
      "world [ 3.57245   -2.2321956  9.983808 ] reprojected image [[[631.82712904 223.42572222]]]\n",
      "world [ 4.5505934 -2.2874625 10.182944 ] reprojected image [[[735.2311379 222.1431327]]]\n",
      "world [ 5.54368   -2.3452234 10.4024   ] reprojected image [[[844.84451978 220.9405757 ]]]\n",
      "world [-2.318017   -0.98285836  9.0119    ] reprojected image [[[102.32114995 312.9333981 ]]]\n",
      "world [-1.2965109 -1.0296584  9.174084 ] reprojected image [[[182.29145438 314.15223559]]]\n",
      "world [-0.29378313 -1.0716931   9.333986  ] reprojected image [[[264.61447672 315.76471866]]]\n",
      "world [ 0.6867137 -1.1182777  9.54445  ] reprojected image [[[351.41310813 317.3163111 ]]]\n",
      "world [ 1.6533988 -1.1646357  9.750524 ] reprojected image [[[440.15656802 318.85266331]]]\n",
      "world [ 2.6239486 -1.211717   9.919497 ] reprojected image [[[531.66607282 320.12033875]]]\n",
      "world [ 3.5995293 -1.2579519 10.085758 ] reprojected image [[[627.95857366 321.53536473]]]\n",
      "world [ 4.5818815 -1.311771  10.287354 ] reprojected image [[[730.05894477 322.55979347]]]\n",
      "world [ 5.57763  -1.364158 10.503889] reprojected image [[[838.0137628 323.9581757]]]\n",
      "world [-2.2917035   0.02282953  9.114804  ] reprojected image [[[106.05674304 399.23971659]]]\n",
      "world [-1.266548   -0.02994233  9.26812   ] reprojected image [[[184.76049362 401.99310238]]]\n",
      "world [-0.2628286  -0.08537655  9.430352  ] reprojected image [[[266.29071214 404.47645871]]]\n",
      "world [ 0.71858996 -0.13760374  9.64141   ] reprojected image [[[352.04532171 407.12854791]]]\n",
      "world [ 1.6884382  -0.18828644  9.848863  ] reprojected image [[[439.88806019 409.93374386]]]\n",
      "world [ 2.6572292  -0.23688729 10.01929   ] reprojected image [[[529.95878693 413.10467657]]]\n",
      "world [ 3.6351984  -0.28187442 10.191079  ] reprojected image [[[625.07890846 416.84676202]]]\n",
      "world [ 4.620854   -0.32879373 10.397318  ] reprojected image [[[725.8116976  420.54898578]]]\n",
      "world [ 5.6174045  -0.37674594 10.603405  ] reprojected image [[[831.97983977 424.40709069]]]\n",
      "world [-2.2592976  1.0299522  9.199996 ] reprojected image [[[108.99260777 483.50159082]]]\n",
      "world [-1.2434963  0.9681205  9.374748 ] reprojected image [[[187.39533464 487.21559319]]]\n",
      "world [-0.23434414  0.9069227   9.522582  ] reprojected image [[[267.50246624 491.32684221]]]\n",
      "world [0.7541633  0.84836274 9.719549  ] reprojected image [[[352.12385602 495.16911416]]]\n",
      "world [1.7255473  0.79484665 9.925478  ] reprojected image [[[439.0041129  499.33175084]]]\n",
      "world [ 2.6993454   0.74578685 10.113151  ] reprojected image [[[528.86996356 504.29132079]]]\n",
      "world [ 3.6803827  0.6994549 10.299217 ] reprojected image [[[623.19287679 509.82741335]]]\n",
      "world [ 4.668155   0.6547696 10.503688 ] reprojected image [[[722.50593581 515.6211342 ]]]\n",
      "world [ 5.66738    0.6104766 10.708859 ] reprojected image [[[827.20516794 521.84113865]]]\n",
      "world [-2.220319  2.037343  9.262763] reprojected image [[[110.92335899 566.22474968]]]\n",
      "world [-1.2127763  1.9736911  9.462114 ] reprojected image [[[189.39035516 571.0438572 ]]]\n",
      "world [-0.2071667  1.908863   9.629068 ] reprojected image [[[269.22731416 576.4719454 ]]]\n",
      "world [0.7878632 1.8484048 9.807617 ] reprojected image [[[352.38465693 582.17216474]]]\n",
      "world [ 1.7669885  1.793959  10.0011635] reprojected image [[[438.35970014 588.13854144]]]\n",
      "world [ 2.7446527  1.7427269 10.205712 ] reprojected image [[[527.95144228 594.3971779 ]]]\n",
      "world [ 3.729855   1.6934516 10.401523 ] reprojected image [[[621.56004839 601.38141202]]]\n",
      "world [ 4.7186747  1.6479657 10.598324 ] reprojected image [[[719.44400114 609.05444717]]]\n",
      "world [ 5.7298493  1.6114634 10.816462 ] reprojected image [[[823.75429903 617.80834176]]]\n"
     ]
    }
   ],
   "source": [
    "# map a world point to a camera point for testing\n",
    "for pt in pts:\n",
    "    test_pts = cv2.convertPointsToHomogeneous(pt.reshape(1, 3))\n",
    "    R_recovered = cv2.Rodrigues(rvec)[0]\n",
    "    t_recovered = tvec\n",
    "    proj_matric_recovered = np.zeros((3, 4))\n",
    "    proj_matric_recovered[:, :3] = R_recovered\n",
    "    proj_matric_recovered[:, -1] = t_recovered.reshape(3,)\n",
    "    proj_matric_recovered = np.matmul(K, proj_matric_recovered)\n",
    "    img_pts = np.matmul(proj_matric_recovered, test_pts[0, 0, :]) \n",
    "    img_pts = cv2.convertPointsFromHomogeneous(img_pts.reshape(1, 3))\n",
    "    print(\"world\", pt, \"reprojected image\", img_pts)"
   ]
  },
  {
   "cell_type": "code",
   "execution_count": 547,
   "metadata": {},
   "outputs": [
    {
     "name": "stdout",
     "output_type": "stream",
     "text": [
      "[[[  11.308057  109.48553 ]]\n",
      "\n",
      " [[ 111.901344  106.63015 ]]\n",
      "\n",
      " [[ 214.93959   101.320244]]\n",
      "\n",
      " [[ 325.12274    95.81196 ]]\n",
      "\n",
      " [[ 442.25693    90.87912 ]]\n",
      "\n",
      " [[ 565.8122     86.42345 ]]\n",
      "\n",
      " [[ 696.351      82.752174]]\n",
      "\n",
      " [[ 833.57587    77.79324 ]]\n",
      "\n",
      " [[1006.23987    55.34331 ]]\n",
      "\n",
      " [[  17.505978  222.61194 ]]]\n",
      "686.7485\n"
     ]
    }
   ],
   "source": [
    "rvec2, _ = cv2.Rodrigues(R2.T)\n",
    "p2, _ = cv2.projectPoints(pts, rvec2, -t2, K, distCoeffs=d)\n",
    "mse2 = np.linalg.norm(p2-pts2.reshape(-1, 1, 2))\n",
    "print(p2[:10])\n",
    "print(mse2)"
   ]
  },
  {
   "cell_type": "code",
   "execution_count": 548,
   "metadata": {},
   "outputs": [
    {
     "name": "stdout",
     "output_type": "stream",
     "text": [
      "[[[211.6582   122.06578 ]]\n",
      "\n",
      " [[312.46432  124.27023 ]]\n",
      "\n",
      " [[408.50275  126.585396]]\n",
      "\n",
      " [[500.57413  128.84879 ]]\n",
      "\n",
      " [[587.4546   131.23679 ]]\n",
      "\n",
      " [[669.55634  133.79903 ]]\n",
      "\n",
      " [[747.62836  136.49435 ]]\n",
      "\n",
      " [[821.47375  138.73965 ]]\n",
      "\n",
      " [[892.5044   139.88567 ]]\n",
      "\n",
      " [[216.15575  222.0639  ]]]\n",
      "6.672421\n"
     ]
    }
   ],
   "source": [
    "rvec1, _ = cv2.Rodrigues(R1.T)\n",
    "p1, _ = cv2.projectPoints(pts, rvec1, -t1, K, distCoeffs=d)\n",
    "mse1 = np.linalg.norm(p1-pts1.reshape(-1, 1, 2))\n",
    "print(p1[:10])\n",
    "print(mse1)"
   ]
  },
  {
   "cell_type": "code",
   "execution_count": 567,
   "metadata": {},
   "outputs": [
    {
     "data": {
      "application/vnd.jupyter.widget-view+json": {
       "model_id": "9dd3de6c172f4e549a6f4f078ae5391f",
       "version_major": 2,
       "version_minor": 0
      },
      "text/plain": [
       "FigureCanvasNbAgg()"
      ]
     },
     "metadata": {},
     "output_type": "display_data"
    }
   ],
   "source": [
    "fig = plt.figure()\n",
    "ax = fig.add_subplot(111, projection='3d')\n",
    "ax.scatter(pts[:, 0], pts[:, 1], pts[:, 2])\n",
    "plot_basis(ax, R1, t1.reshape(3,))\n",
    "plot_basis(ax, R2, t2.reshape(3,))\n",
    "plot_basis(ax, R_recovered, t_recovered.reshape(3,))\n",
    "ax.set_xlim([-10,10])\n",
    "ax.set_ylim([-10,10])\n",
    "ax.set_zlim([-10,10])\n",
    "ax.set_xlabel(\"x\")\n",
    "ax.set_ylabel(\"y\")\n",
    "ax.set_zlabel(\"z\")\n",
    "plt.show()"
   ]
  },
  {
   "cell_type": "code",
   "execution_count": null,
   "metadata": {},
   "outputs": [],
   "source": []
  },
  {
   "cell_type": "code",
   "execution_count": null,
   "metadata": {},
   "outputs": [],
   "source": []
  }
 ],
 "metadata": {
  "kernelspec": {
   "display_name": "Python 3",
   "language": "python",
   "name": "python3"
  },
  "language_info": {
   "codemirror_mode": {
    "name": "ipython",
    "version": 3
   },
   "file_extension": ".py",
   "mimetype": "text/x-python",
   "name": "python",
   "nbconvert_exporter": "python",
   "pygments_lexer": "ipython3",
   "version": "3.7.4"
  }
 },
 "nbformat": 4,
 "nbformat_minor": 2
}
