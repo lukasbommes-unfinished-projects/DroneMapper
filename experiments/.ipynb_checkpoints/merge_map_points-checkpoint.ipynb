{
 "cells": [
  {
   "cell_type": "code",
   "execution_count": 45,
   "metadata": {},
   "outputs": [],
   "source": [
    "import pickle\n",
    "import numpy as np"
   ]
  },
  {
   "cell_type": "code",
   "execution_count": 47,
   "metadata": {},
   "outputs": [],
   "source": [
    "kf_visible_map_points = pickle.load(open(\"../kf_visible_map_points.pkl\", \"rb\"))\n",
    "map_points = pickle.load(open(\"../map_points.pkl\", \"rb\"))"
   ]
  },
  {
   "cell_type": "code",
   "execution_count": 48,
   "metadata": {},
   "outputs": [
    {
     "data": {
      "text/plain": [
       "[[range(0, 1252)],\n",
       " [range(0, 1252), range(1252, 2385)],\n",
       " [range(1252, 2385), range(2385, 3497)],\n",
       " [range(2385, 3497), range(3497, 4520)],\n",
       " [range(3497, 4520), range(4520, 5600)],\n",
       " [range(4520, 5600), range(5600, 6700)],\n",
       " [range(5600, 6700), range(6700, 7803)],\n",
       " [range(6700, 7803), range(7803, 8817)],\n",
       " [range(7803, 8817), range(8817, 9846)],\n",
       " [range(8817, 9846), range(9846, 10847)],\n",
       " [range(9846, 10847), range(10847, 11829)],\n",
       " [range(10847, 11829), range(11829, 12857)],\n",
       " [range(11829, 12857), range(12857, 13934)],\n",
       " [range(12857, 13934), range(13934, 14977)],\n",
       " [range(13934, 14977), range(14977, 16033)],\n",
       " [range(14977, 16033), range(16033, 17179)],\n",
       " [range(16033, 17179)]]"
      ]
     },
     "execution_count": 48,
     "metadata": {},
     "output_type": "execute_result"
    }
   ],
   "source": [
    "kf_visible_map_points"
   ]
  },
  {
   "cell_type": "code",
   "execution_count": 51,
   "metadata": {},
   "outputs": [
    {
     "data": {
      "text/plain": [
       "array([[ -8.23513746,  -0.72741268,  20.09591388],\n",
       "       [-15.15346875,  -3.60452221,  20.13844415],\n",
       "       [  4.94011446,   7.37772704,  20.06774949],\n",
       "       ...,\n",
       "       [ 13.82182535,  52.40335923,  19.36249039],\n",
       "       [  2.84142537,  45.68855635,  -3.69002158],\n",
       "       [  2.28917775,  45.80321121,  -2.97648989]])"
      ]
     },
     "execution_count": 51,
     "metadata": {},
     "output_type": "execute_result"
    }
   ],
   "source": [
    "map_points"
   ]
  },
  {
   "cell_type": "code",
   "execution_count": null,
   "metadata": {},
   "outputs": [],
   "source": [
    "map_points[kf_visible_map_points[2], :]"
   ]
  }
 ],
 "metadata": {
  "kernelspec": {
   "display_name": "Python 3",
   "language": "python",
   "name": "python3"
  },
  "language_info": {
   "codemirror_mode": {
    "name": "ipython",
    "version": 3
   },
   "file_extension": ".py",
   "mimetype": "text/x-python",
   "name": "python",
   "nbconvert_exporter": "python",
   "pygments_lexer": "ipython3",
   "version": "3.7.4"
  }
 },
 "nbformat": 4,
 "nbformat_minor": 2
}
