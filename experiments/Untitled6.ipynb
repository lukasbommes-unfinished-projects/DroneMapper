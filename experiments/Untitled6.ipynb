{
 "cells": [
  {
   "cell_type": "code",
   "execution_count": 33,
   "metadata": {},
   "outputs": [],
   "source": [
    "%matplotlib ipympl\n",
    "import cv2\n",
    "import numpy as np\n",
    "import matplotlib.pyplot as plt\n",
    "from mpl_toolkits.mplot3d import Axes3D\n",
    "from pytransform3d.rotations import *"
   ]
  },
  {
   "cell_type": "code",
   "execution_count": 34,
   "metadata": {},
   "outputs": [],
   "source": [
    "import pickle\n",
    "img_points_kf0 = pickle.load(open(\"DroneMapper/img_points_kf0.pkl\", \"rb\"))\n",
    "img_points_kf1 = pickle.load(open(\"DroneMapper/img_points_kf1.pkl\", \"rb\"))\n",
    "img_points_f0 = pickle.load(open(\"DroneMapper/img_points_f0.pkl\", \"rb\"))\n",
    "pts_3d = pickle.load(open(\"DroneMapper/pts_3d.pkl\", \"rb\"))"
   ]
  },
  {
   "cell_type": "code",
   "execution_count": 35,
   "metadata": {},
   "outputs": [
    {
     "name": "stdout",
     "output_type": "stream",
     "text": [
      "(1283, 2)\n",
      "(1283, 2)\n",
      "(1283, 2)\n"
     ]
    }
   ],
   "source": [
    "print(img_points_kf0.shape)\n",
    "print(img_points_kf1.shape)\n",
    "print(img_points_f0.shape)"
   ]
  },
  {
   "cell_type": "code",
   "execution_count": 36,
   "metadata": {},
   "outputs": [],
   "source": [
    "w = 1920\n",
    "h = 1080\n",
    "fx = 1184.51770\n",
    "fy = 1183.63810\n",
    "cx = 978.30778\n",
    "cy = 533.85598\n",
    "camera_matrix = np.array([[fx, 0, cx], [0, fy, cy], [0, 0, 1]])"
   ]
  },
  {
   "cell_type": "code",
   "execution_count": 37,
   "metadata": {},
   "outputs": [
    {
     "data": {
      "application/vnd.jupyter.widget-view+json": {
       "model_id": "022132a0f28448a2bb77e21766dd39af",
       "version_major": 2,
       "version_minor": 0
      },
      "text/plain": [
       "FigureCanvasNbAgg()"
      ]
     },
     "metadata": {},
     "output_type": "display_data"
    }
   ],
   "source": [
    "fig = plt.figure()\n",
    "ax = fig.add_subplot(111)\n",
    "ax.scatter(img_points_kf0[:, 0], img_points_kf0[:, 1])\n",
    "ax.scatter(img_points_kf1[:, 0], img_points_kf1[:, 1])\n",
    "ax.scatter(img_points_f0[:, 0], img_points_f0[:, 1])\n",
    "ax.legend([\"kf0\", \"kf1\", \"f0\"])\n",
    "plt.show()"
   ]
  },
  {
   "cell_type": "code",
   "execution_count": 38,
   "metadata": {},
   "outputs": [
    {
     "data": {
      "application/vnd.jupyter.widget-view+json": {
       "model_id": "0979cf56d08f4b219bc8b26c6af32f8e",
       "version_major": 2,
       "version_minor": 0
      },
      "text/plain": [
       "FigureCanvasNbAgg()"
      ]
     },
     "metadata": {},
     "output_type": "display_data"
    }
   ],
   "source": [
    "fig = plt.figure()\n",
    "ax = fig.add_subplot(111, projection='3d')\n",
    "ax.scatter(pts_3d[:, 0], pts_3d[:, 1], pts_3d[:, 2])\n",
    "\n",
    "ax.set_xlim([-3,3])\n",
    "ax.set_ylim([-3,3])\n",
    "ax.set_zlim([-10,10])\n",
    "plt.show()"
   ]
  },
  {
   "cell_type": "code",
   "execution_count": 59,
   "metadata": {},
   "outputs": [
    {
     "name": "stdout",
     "output_type": "stream",
     "text": [
      "False\n"
     ]
    }
   ],
   "source": [
    "retval, rvec, tvec, inliers = cv2.solvePnPRansac(pts_3d, img_points_f0, camera_matrix, None, reprojectionError=10, iterationsCount=1000)\n",
    "print(retval)"
   ]
  },
  {
   "cell_type": "code",
   "execution_count": 60,
   "metadata": {},
   "outputs": [],
   "source": [
    "def from_twist(twist):\n",
    "    r = twist[:3]\n",
    "    t = twist[3:]\n",
    "    R, _ = cv2.Rodrigues(r)\n",
    "    return R, t\n",
    "\n",
    "pose = np.hstack((rvec.reshape(3,), tvec.reshape(3,)))\n",
    "R, t = from_twist(pose)"
   ]
  },
  {
   "cell_type": "code",
   "execution_count": 61,
   "metadata": {},
   "outputs": [
    {
     "data": {
      "text/plain": [
       "(array([[-0.2689889 , -0.7853469 ,  0.55756185],\n",
       "        [-0.06074173, -0.56391323, -0.82359718],\n",
       "        [ 0.961226  , -0.25540577,  0.10398307]]),\n",
       " array([-20.89586019,  -4.90223117,  43.53291465]))"
      ]
     },
     "execution_count": 61,
     "metadata": {},
     "output_type": "execute_result"
    }
   ],
   "source": [
    "R, t"
   ]
  },
  {
   "cell_type": "code",
   "execution_count": null,
   "metadata": {},
   "outputs": [],
   "source": []
  }
 ],
 "metadata": {
  "kernelspec": {
   "display_name": "Python 3",
   "language": "python",
   "name": "python3"
  },
  "language_info": {
   "codemirror_mode": {
    "name": "ipython",
    "version": 3
   },
   "file_extension": ".py",
   "mimetype": "text/x-python",
   "name": "python",
   "nbconvert_exporter": "python",
   "pygments_lexer": "ipython3",
   "version": "3.7.4"
  }
 },
 "nbformat": 4,
 "nbformat_minor": 2
}
