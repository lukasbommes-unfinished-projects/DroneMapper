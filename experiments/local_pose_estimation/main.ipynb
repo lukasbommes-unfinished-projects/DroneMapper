{
 "cells": [
  {
   "cell_type": "code",
   "execution_count": 1,
   "metadata": {},
   "outputs": [],
   "source": [
    "%matplotlib ipympl\n",
    "import os\n",
    "import glob\n",
    "import cv2\n",
    "import numpy as np\n",
    "import matplotlib.pyplot as plt\n",
    "import networkx as nx\n",
    "from ssc import ssc"
   ]
  },
  {
   "cell_type": "code",
   "execution_count": 2,
   "metadata": {},
   "outputs": [],
   "source": [
    "frame_files = sorted(glob.glob(\"frames/frame_*.png\"))"
   ]
  },
  {
   "cell_type": "code",
   "execution_count": 3,
   "metadata": {},
   "outputs": [],
   "source": [
    "frames = [cv2.imread(frame_file, cv2.IMREAD_COLOR) for frame_file in frame_files[:300]]    "
   ]
  },
  {
   "cell_type": "code",
   "execution_count": 11,
   "metadata": {},
   "outputs": [
    {
     "data": {
      "text/plain": [
       "<matplotlib.image.AxesImage at 0x7f119fe265d0>"
      ]
     },
     "execution_count": 11,
     "metadata": {},
     "output_type": "execute_result"
    }
   ],
   "source": [
    "plt.imshow(frames[0][:, :, ::-1])"
   ]
  },
  {
   "cell_type": "code",
   "execution_count": 12,
   "metadata": {},
   "outputs": [],
   "source": [
    "w = 1920\n",
    "h = 1080\n",
    "fx = 1184.51770\n",
    "fy = 1183.63810\n",
    "cx = 978.30778\n",
    "cy = 533.85598\n",
    "camera_matrix = np.array([[fx, 0, cx], [0, fy, cy], [0, 0, 1]])\n",
    "\n",
    "orb = cv2.ORB_create()\n",
    "bf = cv2.BFMatcher(cv2.NORM_HAMMING, crossCheck=True)\n",
    "fast = cv2.FastFeatureDetector_create(threshold=12)\n",
    "num_ret_points = 3000\n",
    "tolerance = 0.1\n",
    "num_matches = int(0.8*num_ret_points)  # keep only best 80 % of the matches"
   ]
  },
  {
   "cell_type": "code",
   "execution_count": 13,
   "metadata": {},
   "outputs": [],
   "source": [
    "def extract_kp_des(frame, fast, orb):\n",
    "    kp = fast.detect(frame, None)\n",
    "    kp = sorted(kp, key = lambda x:x.response, reverse=True)\n",
    "    kp = ssc(kp, num_ret_points, tolerance, frame.shape[1], frame.shape[0])\n",
    "    kp, des = orb.compute(frame, kp)\n",
    "    # good features to track lead to cleaner tracks, but much more noisy pose estimates\n",
    "    #kp = cv2.goodFeaturesToTrack(frame, **feature_params)\n",
    "    #kp = cv2.KeyPoint_convert(kp)\n",
    "    #kp, des = orb.compute(frame, kp)\n",
    "    return kp, des\n",
    "\n",
    "\n",
    "def match(bf, last_keyframe, current_frame, last_des, des, last_kp, kp, distance_threshold=25.0, draw=True):\n",
    "    matches = bf.match(last_des, des)\n",
    "    matches = sorted(matches, key = lambda x:x.distance)\n",
    "    # filter out matches with distance (descriptor appearance) greater than threshold\n",
    "    matches = [m for m in matches if m.distance < distance_threshold]\n",
    "    print(\"Found {} matches of current frame with last frame\".format(len(matches)))\n",
    "    last_pts = np.array([last_kp[m.queryIdx].pt for m in matches]).reshape(1, -1, 2)\n",
    "    current_pts = np.array([kp[m.trainIdx].pt for m in matches]).reshape(1, -1, 2)\n",
    "    match_frame = np.zeros_like(current_frame)\n",
    "    if draw:\n",
    "        match_frame = cv2.drawMatches(last_keyframe, last_kp, current_frame, kp, matches[:250], None)\n",
    "    return matches, last_pts, current_pts, match_frame\n",
    "\n",
    "\n",
    "def to_twist(R, t):\n",
    "    \"\"\"Convert a 3x3 rotation matrix and translation vector (shape (3,))\n",
    "    into a 6D twist coordinate (shape (6,)).\"\"\"\n",
    "    r, _ = cv2.Rodrigues(R)\n",
    "    twist = np.zeros((6,))\n",
    "    twist[:3] = r.reshape(3,)\n",
    "    twist[3:] = t.reshape(3,)\n",
    "    return twist\n",
    "\n",
    "\n",
    "def from_twist(twist):\n",
    "    \"\"\"Convert a 6D twist coordinate (shape (6,)) into a 3x3 rotation matrix\n",
    "    and translation vector (shape (3,)).\"\"\"\n",
    "    r = twist[:3].reshape(3, 1)\n",
    "    t = twist[3:].reshape(3, 1)\n",
    "    R, _ = cv2.Rodrigues(r)\n",
    "    return R, t\n",
    "\n",
    "\n",
    "def get_frame(cap, mapx, mapy):\n",
    "    \"\"\"Reads and undistorts next frame from stream.\"\"\"\n",
    "    retc, frame = cap.read()\n",
    "    if not retc:\n",
    "        raise RuntimeError(\"Could not read the first camera frame.\")\n",
    "    frame = cv2.remap(frame, mapx, mapy, cv2.INTER_CUBIC)  # undistort frame\n",
    "    return frame\n",
    "\n",
    "\n",
    "def gray(frame):\n",
    "    \"\"\"Convert BGR frame to gray frame.\"\"\"\n",
    "    frame_gray = cv2.cvtColor(frame, cv2.COLOR_BGR2GRAY)\n",
    "    return frame_gray"
   ]
  },
  {
   "cell_type": "code",
   "execution_count": 14,
   "metadata": {},
   "outputs": [],
   "source": [
    "# TODO: initialization is not very robust and only works for some special cases, need to change to homography initialization"
   ]
  },
  {
   "cell_type": "code",
   "execution_count": 15,
   "metadata": {},
   "outputs": [],
   "source": [
    "def initialize(fast, orb, camera_matrix, min_parallax=60.0):\n",
    "    \"\"\"Initialize two keyframes, the camera poses and a 3D point cloud.\n",
    "\n",
    "    Args:\n",
    "        min_parallax (`float`): Threshold for the median distance of all\n",
    "            keypoint matches between the first keyframe (firs frame) and the\n",
    "            second key frame. Is used to determine which frame is the second\n",
    "            keyframe. This is needed to ensure enough parallax to recover\n",
    "            the camera poses and 3D points.\n",
    "    \"\"\"\n",
    "    pose_graph = nx.Graph()  # stores keyframe poses and data (keypoints, ORB descriptors, etc.)\n",
    "    map_points = np.empty(shape=(0, 3), dtype=np.float64)\n",
    "\n",
    "    # get first key frame\n",
    "    frame = frames[0]\n",
    "    kp, des = extract_kp_des(gray(frame), fast, orb)\n",
    "    pose_graph.add_node(0, frame=frame, kp=kp, des=des)\n",
    "\n",
    "    frame_idx_init = 0\n",
    "\n",
    "    for frame in frames[1:]:\n",
    "        \n",
    "        frame_idx_init += 1\n",
    "\n",
    "        # extract keypoints and match with first key frame\n",
    "        kp, des = extract_kp_des(gray(frame), fast, orb)\n",
    "        matches, last_pts, current_pts, match_frame = match(bf,\n",
    "            gray(pose_graph.nodes[0][\"frame\"]), gray(frame), pose_graph.nodes[0][\"des\"],\n",
    "            des, pose_graph.nodes[0][\"kp\"], kp, num_matches, draw=False)\n",
    "\n",
    "        # determine median distance between all matched feature points\n",
    "        median_dist = np.median(np.linalg.norm(last_pts.reshape(-1, 2)-current_pts.reshape(-1, 2), axis=1))\n",
    "        print(median_dist)\n",
    "\n",
    "        # if distance exceeds threshold choose frame as second keyframe\n",
    "        if median_dist >= min_parallax:# and frame_idx_init >= 20:\n",
    "            pose_graph.add_node(1, frame=frame, kp=kp, des=des)\n",
    "            break\n",
    "\n",
    "    pose_graph.add_edge(0, 1, matches=matches)\n",
    "\n",
    "    # separately store the keypoints in matched order for tracking later\n",
    "    pose_graph.nodes[0][\"kp_idx\"] = np.array([m.queryIdx for m in matches])\n",
    "    pose_graph.nodes[1][\"kp_idx\"] = np.array([m.trainIdx for m in matches])\n",
    "\n",
    "    # compute relative camera pose for second frame\n",
    "    essential_mat, _ = cv2.findEssentialMat(last_pts.reshape(1, -1, 2), current_pts.reshape(1, -1, 2), camera_matrix, method=cv2.LMEDS)  # RANSAC fails here\n",
    "    num_inliers, R, t, mask = cv2.recoverPose(essential_mat, last_pts.reshape(1, -1, 2), current_pts.reshape(1, -1, 2), camera_matrix)\n",
    "    mask = mask.astype(np.bool).reshape(-1,)\n",
    "    print(num_inliers)\n",
    "\n",
    "    if num_inliers >= 0.25*current_pts.reshape(1, -1, 2).shape[1]:\n",
    "        print(\"init R\", R)\n",
    "        print(\"init t\", t)\n",
    "\n",
    "        # relative camera pose\n",
    "        R1 = np.array([[1, 0, 0], [0, 1, 0], [0, 0, 1]]).astype(np.float64)\n",
    "        t1 = np.array([[0], [0], [0]]).astype(np.float64)\n",
    "        R2 = R.T\n",
    "        t2 = -np.matmul(R.T, t.reshape(3,)).reshape(3,1)\n",
    "\n",
    "        # insert pose (in twist coordinates) of KF0 and KF1 into keyframes dict\n",
    "        # poses are w.r.t. KF0 which is the base coordinate system of the entire map\n",
    "        pose_graph.nodes[0][\"pose\"] = to_twist(R1, t1)\n",
    "        pose_graph.nodes[1][\"pose\"] = to_twist(R2, t2)\n",
    "\n",
    "        # create projection matrices needed for triangulation of initial 3D point cloud\n",
    "        proj_matrix1 = np.hstack([R1.T, -R1.T.dot(t1)])\n",
    "        proj_matrix2 = np.hstack([R2.T, -R2.T.dot(t2)])\n",
    "        proj_matrix1 = camera_matrix.dot(proj_matrix1)\n",
    "        proj_matrix2 = camera_matrix.dot(proj_matrix2)\n",
    "\n",
    "        # triangulate initial 3D point cloud\n",
    "        pts_3d = cv2.triangulatePoints(proj_matrix1, proj_matrix2, last_pts.reshape(-1, 2).T, current_pts.reshape(-1, 2).T).T\n",
    "        pts_3d = cv2.convertPointsFromHomogeneous(pts_3d).reshape(-1, 3)\n",
    "\n",
    "        # filter outliers based on mask from recoverPose\n",
    "        #pts_3d = pts_3d[valid_map_points_mask, :].reshape(-1, 3)\n",
    "\n",
    "        # add triangulated points to map points\n",
    "        map_points = np.vstack((map_points, pts_3d))  # map_points stores 3D points w.r.t. KF0\n",
    "        \n",
    "        #map_points_info.append({  # stores keypoints and ORB descriptors associated to each map point\n",
    "        #    0: ([pose_graph.nodes[0][\"kp\"][m.queryIdx] for m in pose_graph.edges[(0, 1)][\"matches\"]],\n",
    "        #        [pose_graph.nodes[0][\"des\"][m.queryIdx] for m in pose_graph.edges[(0, 1)][\"matches\"]]), \n",
    "        #    1: ([pose_graph.nodes[1][\"kp\"][m.trainIdx] for m in pose_graph.edges[(0, 1)][\"matches\"]],\n",
    "        #        [pose_graph.nodes[1][\"des\"][m.trainIdx] for m in pose_graph.edges[(0, 1)][\"matches\"]])})\n",
    "\n",
    "        # store indices of map points belonging to KF0 and KF1 in pose graph node\n",
    "        pose_graph.nodes[0][\"associated_map_points\"] = np.arange(0, pts_3d.shape[0])\n",
    "        pose_graph.nodes[1][\"associated_map_points\"] = np.arange(0, pts_3d.shape[0])\n",
    "\n",
    "        print(\"Initialization successful. Chose frames 0 and {} as key frames\".format(frame_idx_init))\n",
    "\n",
    "    else:\n",
    "        raise RuntimeError(\"Could not recover intial camera pose based on selected keyframes. Insufficient parallax or number of feature points.\")\n",
    "\n",
    "    # TODO: perform full BA to optimize initial camera poses and map points [see. ORB_SLAM IV. 5)]\n",
    "\n",
    "    return pose_graph, map_points, frame_idx_init"
   ]
  },
  {
   "cell_type": "code",
   "execution_count": 16,
   "metadata": {},
   "outputs": [
    {
     "name": "stdout",
     "output_type": "stream",
     "text": [
      "Found 1324 matches of current frame with last frame\n",
      "3.0\n",
      "Found 1422 matches of current frame with last frame\n",
      "7.0\n",
      "Found 1311 matches of current frame with last frame\n",
      "10.04987562112089\n",
      "Found 1411 matches of current frame with last frame\n",
      "13.038404810405298\n",
      "Found 1302 matches of current frame with last frame\n",
      "17.0\n",
      "Found 1333 matches of current frame with last frame\n",
      "20.024984394500787\n",
      "Found 1286 matches of current frame with last frame\n",
      "23.08679276123039\n",
      "Found 1337 matches of current frame with last frame\n",
      "26.076809620810597\n",
      "Found 1261 matches of current frame with last frame\n",
      "30.066592756745816\n",
      "Found 1299 matches of current frame with last frame\n",
      "33.06055050963308\n",
      "Found 1304 matches of current frame with last frame\n",
      "36.124783736376884\n",
      "Found 1292 matches of current frame with last frame\n",
      "40.049968789001575\n",
      "Found 1288 matches of current frame with last frame\n",
      "43.104524124504614\n",
      "Found 1282 matches of current frame with last frame\n",
      "47.042533945356304\n",
      "Found 1287 matches of current frame with last frame\n",
      "50.039984012787215\n",
      "Found 1268 matches of current frame with last frame\n",
      "53.150729063673246\n",
      "Found 1292 matches of current frame with last frame\n",
      "56.22277118748239\n",
      "Found 1233 matches of current frame with last frame\n",
      "60.07495318350236\n",
      "1123\n",
      "init R [[ 9.99999062e-01  1.20892064e-03 -6.43091627e-04]\n",
      " [-1.20936538e-03  9.99999030e-01 -6.91632076e-04]\n",
      " [ 6.42254874e-04  6.92409160e-04  9.99999554e-01]]\n",
      "init t [[-0.05216726]\n",
      " [-0.99835129]\n",
      " [-0.02394329]]\n",
      "Initialization successful. Chose frames 0 and 18 as key frames\n"
     ]
    }
   ],
   "source": [
    "pose_graph, map_points, frame_idx = initialize(fast, orb, camera_matrix, min_parallax=60.0)"
   ]
  },
  {
   "cell_type": "code",
   "execution_count": 17,
   "metadata": {},
   "outputs": [
    {
     "data": {
      "text/plain": [
       "array([   0,    1,    2, ..., 1230, 1231, 1232])"
      ]
     },
     "execution_count": 17,
     "metadata": {},
     "output_type": "execute_result"
    }
   ],
   "source": [
    "pose_graph.nodes[0][\"associated_map_points\"]"
   ]
  },
  {
   "cell_type": "code",
   "execution_count": 18,
   "metadata": {},
   "outputs": [
    {
     "data": {
      "text/plain": [
       "array([[13.31761475,  1.45177197, 19.94844452],\n",
       "       [ 5.00779483,  7.47543074, 20.33402537],\n",
       "       [-8.40211766, -0.74192502, 20.49784261],\n",
       "       ...,\n",
       "       [-0.44074669,  1.12982152, -5.63570685],\n",
       "       [-0.30234757,  0.61048963, -1.0331949 ],\n",
       "       [ 0.05750397,  0.55473557,  0.28256981]])"
      ]
     },
     "execution_count": 18,
     "metadata": {},
     "output_type": "execute_result"
    }
   ],
   "source": [
    "# get map points associated to a KF in the same order as the feature points\n",
    "map_points[pose_graph.nodes[0][\"associated_map_points\"], :]"
   ]
  },
  {
   "cell_type": "code",
   "execution_count": 19,
   "metadata": {},
   "outputs": [],
   "source": [
    "# get KF features & descriptors associated to map points in a KF\n",
    "features_0 = [pose_graph.nodes[0][\"kp\"][idx] for idx in pose_graph.nodes[0][\"kp_idx\"]]\n",
    "features_1 = [pose_graph.nodes[1][\"kp\"][idx] for idx in pose_graph.nodes[1][\"kp_idx\"]]\n",
    "descriptors_0 = [pose_graph.nodes[0][\"des\"][idx] for idx in pose_graph.nodes[0][\"kp_idx\"]]\n",
    "descriptors_1 = [pose_graph.nodes[1][\"des\"][idx] for idx in pose_graph.nodes[1][\"kp_idx\"]]"
   ]
  },
  {
   "cell_type": "raw",
   "metadata": {},
   "source": [
    "diff = cv2.KeyPoint_convert(features_1) - cv2.KeyPoint_convert(features_0)"
   ]
  },
  {
   "cell_type": "raw",
   "metadata": {},
   "source": [
    "fig, (ax1, ax2) = plt.subplots(1, 2, figsize=(16, 4))\n",
    "img0 = cv2.drawKeypoints(np.copy(pose_graph.nodes[0][\"frame\"]), features_0, None)\n",
    "img1 = cv2.drawKeypoints(np.copy(pose_graph.nodes[1][\"frame\"]), features_1, None)\n",
    "ax1.imshow(img0[:, :, ::-1])\n",
    "ax2.imshow(img1[:, :, ::-1])\n",
    "plt.show()"
   ]
  },
  {
   "cell_type": "code",
   "execution_count": null,
   "metadata": {},
   "outputs": [],
   "source": []
  },
  {
   "cell_type": "code",
   "execution_count": null,
   "metadata": {},
   "outputs": [],
   "source": []
  },
  {
   "cell_type": "code",
   "execution_count": 20,
   "metadata": {},
   "outputs": [],
   "source": [
    "def estimate_camera_pose(img_points, pts_3d, camera_matrix):\n",
    "    \"\"\"Estimates the camera world pose of a frame based on 2D-3D\n",
    "    corresponding points.\n",
    "\n",
    "    Args:\n",
    "        img_points (`numpy.ndarray`): A set of keypoints extracted from the\n",
    "            current frame. Shape (-1, 1, 2). These keypoints can also be tracked\n",
    "            from the previous frame.\n",
    "\n",
    "        pts_3d (`numpy.ndarray`): Triangulated 3D points corresponding to\n",
    "            the keypoints in img_points. Shape (-1, 1, 3). Note, that the order\n",
    "            of the points in this array needs to be consistent with the order of\n",
    "            keypoints in img_points.\n",
    "\n",
    "        camera_matrix (`numpy.ndarray`): Camera matrix of the camera which\n",
    "            was used to acquire frames.\n",
    "\n",
    "    Returns:\n",
    "        R (`numpy.ndarray`): Rotation matrix of the camera coordinate system\n",
    "            w.r.t. world coordinate system. Shape (3, 3).\n",
    "        t (`numpy.ndarray`): Translation (x, y, z) of the camera coordinate\n",
    "            system w.r.t. world coordinate system. Shape (3,).\n",
    "\n",
    "    Note:\n",
    "        This function assumes keypoints to be extracted from an undistorted\n",
    "        frame.\n",
    "    \"\"\"\n",
    "    success, rvec, tvec, inliers = cv2.solvePnPRansac(pts_3d.reshape(-1, 1, 3), img_points.reshape(-1, 1, 2), camera_matrix, None, reprojectionError=8, iterationsCount=100)\n",
    "    if not success:\n",
    "        raise RuntimeError(\"Could not compute the camera pose for the new frame with solvePnP.\")\n",
    "    print(\"solvePnP success\", success)\n",
    "    print(\"solvePnP inliers\", inliers.shape)\n",
    "    R = cv2.Rodrigues(rvec)[0].T\n",
    "    t = -np.matmul(cv2.Rodrigues(rvec)[0].T, tvec)\n",
    "    return R, t"
   ]
  },
  {
   "cell_type": "code",
   "execution_count": 47,
   "metadata": {},
   "outputs": [],
   "source": [
    "prev_node_id = sorted(pose_graph.nodes)[-1]\n",
    "last_kf = pose_graph.nodes[prev_node_id][\"frame\"]\n",
    "current_frame = frames[19]"
   ]
  },
  {
   "cell_type": "code",
   "execution_count": 48,
   "metadata": {},
   "outputs": [
    {
     "name": "stdout",
     "output_type": "stream",
     "text": [
      "Found 1206 matches of current frame with last frame\n"
     ]
    }
   ],
   "source": [
    "# match current frame with last key frame\n",
    "current_kp, current_des = extract_kp_des(gray(current_frame), fast, orb)\n",
    "matches, last_pts, current_pts, match_frame = match(bf,\n",
    "        gray(last_kf),\n",
    "        gray(current_frame),\n",
    "        pose_graph.nodes[prev_node_id][\"des\"],\n",
    "        current_des, pose_graph.nodes[prev_node_id][\"kp\"],\n",
    "        current_kp, 25.0, draw=True)"
   ]
  },
  {
   "cell_type": "code",
   "execution_count": 49,
   "metadata": {},
   "outputs": [],
   "source": [
    "# find feature points in last KF associated with the new matches\n",
    "prev_node_id = sorted(pose_graph.nodes)[-1]\n",
    "last_kps = [pose_graph.nodes[prev_node_id][\"kp\"][m.queryIdx] for m in matches]"
   ]
  },
  {
   "cell_type": "code",
   "execution_count": 46,
   "metadata": {},
   "outputs": [
    {
     "data": {
      "text/plain": [
       "1206"
      ]
     },
     "execution_count": 46,
     "metadata": {},
     "output_type": "execute_result"
    }
   ],
   "source": [
    "len(last_kps)"
   ]
  },
  {
   "cell_type": "code",
   "execution_count": 43,
   "metadata": {},
   "outputs": [
    {
     "name": "stdout",
     "output_type": "stream",
     "text": [
      "(1206, 2)\n",
      "[[13.31761475  1.45177197 19.94844452]\n",
      " [ 5.00779483  7.47543074 20.33402537]\n",
      " [-8.40211766 -0.74192502 20.49784261]\n",
      " ...\n",
      " [-0.44074669  1.12982152 -5.63570685]\n",
      " [-0.30234757  0.61048963 -1.0331949 ]\n",
      " [ 0.05750397  0.55473557  0.28256981]]\n",
      "(1233, 3)\n",
      "float64\n"
     ]
    },
    {
     "ename": "error",
     "evalue": "OpenCV(4.2.0) /io/opencv/modules/calib3d/src/solvepnp.cpp:216: error: (-215:Assertion failed) npoints >= 4 && npoints == std::max(ipoints.checkVector(2, CV_32F), ipoints.checkVector(2, CV_64F)) in function 'solvePnPRansac'\n",
     "output_type": "error",
     "traceback": [
      "\u001b[0;31m---------------------------------------------------------------------------\u001b[0m",
      "\u001b[0;31merror\u001b[0m                                     Traceback (most recent call last)",
      "\u001b[0;32m<ipython-input-43-7e6ee3f55cf0>\u001b[0m in \u001b[0;36m<module>\u001b[0;34m\u001b[0m\n\u001b[1;32m      8\u001b[0m \u001b[0mprint\u001b[0m\u001b[0;34m(\u001b[0m\u001b[0mpts_3d\u001b[0m\u001b[0;34m.\u001b[0m\u001b[0mdtype\u001b[0m\u001b[0;34m)\u001b[0m\u001b[0;34m\u001b[0m\u001b[0;34m\u001b[0m\u001b[0m\n\u001b[1;32m      9\u001b[0m \u001b[0;31m#print(\"current_pts before PnP\", img_points, \"len\", img_points.shape)\u001b[0m\u001b[0;34m\u001b[0m\u001b[0;34m\u001b[0m\u001b[0;34m\u001b[0m\u001b[0m\n\u001b[0;32m---> 10\u001b[0;31m \u001b[0mR_current\u001b[0m\u001b[0;34m,\u001b[0m \u001b[0mt_current\u001b[0m \u001b[0;34m=\u001b[0m \u001b[0mestimate_camera_pose\u001b[0m\u001b[0;34m(\u001b[0m\u001b[0mimg_points\u001b[0m\u001b[0;34m,\u001b[0m \u001b[0mpts_3d\u001b[0m\u001b[0;34m,\u001b[0m \u001b[0mcamera_matrix\u001b[0m\u001b[0;34m)\u001b[0m\u001b[0;34m\u001b[0m\u001b[0;34m\u001b[0m\u001b[0m\n\u001b[0m\u001b[1;32m     11\u001b[0m \u001b[0mcurrent_pose\u001b[0m \u001b[0;34m=\u001b[0m \u001b[0mto_twist\u001b[0m\u001b[0;34m(\u001b[0m\u001b[0mR_current\u001b[0m\u001b[0;34m,\u001b[0m \u001b[0mt_current\u001b[0m\u001b[0;34m)\u001b[0m\u001b[0;34m\u001b[0m\u001b[0;34m\u001b[0m\u001b[0m\n\u001b[1;32m     12\u001b[0m \u001b[0mprint\u001b[0m\u001b[0;34m(\u001b[0m\u001b[0mR_current\u001b[0m\u001b[0;34m,\u001b[0m \u001b[0mt_current\u001b[0m\u001b[0;34m)\u001b[0m\u001b[0;34m\u001b[0m\u001b[0;34m\u001b[0m\u001b[0m\n",
      "\u001b[0;32m<ipython-input-20-ba672b0d035c>\u001b[0m in \u001b[0;36mestimate_camera_pose\u001b[0;34m(img_points, pts_3d, camera_matrix)\u001b[0m\n\u001b[1;32m     26\u001b[0m         \u001b[0mframe\u001b[0m\u001b[0;34m.\u001b[0m\u001b[0;34m\u001b[0m\u001b[0;34m\u001b[0m\u001b[0m\n\u001b[1;32m     27\u001b[0m     \"\"\"\n\u001b[0;32m---> 28\u001b[0;31m     \u001b[0msuccess\u001b[0m\u001b[0;34m,\u001b[0m \u001b[0mrvec\u001b[0m\u001b[0;34m,\u001b[0m \u001b[0mtvec\u001b[0m\u001b[0;34m,\u001b[0m \u001b[0minliers\u001b[0m \u001b[0;34m=\u001b[0m \u001b[0mcv2\u001b[0m\u001b[0;34m.\u001b[0m\u001b[0msolvePnPRansac\u001b[0m\u001b[0;34m(\u001b[0m\u001b[0mpts_3d\u001b[0m\u001b[0;34m.\u001b[0m\u001b[0mreshape\u001b[0m\u001b[0;34m(\u001b[0m\u001b[0;34m-\u001b[0m\u001b[0;36m1\u001b[0m\u001b[0;34m,\u001b[0m \u001b[0;36m1\u001b[0m\u001b[0;34m,\u001b[0m \u001b[0;36m3\u001b[0m\u001b[0;34m)\u001b[0m\u001b[0;34m,\u001b[0m \u001b[0mimg_points\u001b[0m\u001b[0;34m.\u001b[0m\u001b[0mreshape\u001b[0m\u001b[0;34m(\u001b[0m\u001b[0;34m-\u001b[0m\u001b[0;36m1\u001b[0m\u001b[0;34m,\u001b[0m \u001b[0;36m1\u001b[0m\u001b[0;34m,\u001b[0m \u001b[0;36m2\u001b[0m\u001b[0;34m)\u001b[0m\u001b[0;34m,\u001b[0m \u001b[0mcamera_matrix\u001b[0m\u001b[0;34m,\u001b[0m \u001b[0;32mNone\u001b[0m\u001b[0;34m,\u001b[0m \u001b[0mreprojectionError\u001b[0m\u001b[0;34m=\u001b[0m\u001b[0;36m8\u001b[0m\u001b[0;34m,\u001b[0m \u001b[0miterationsCount\u001b[0m\u001b[0;34m=\u001b[0m\u001b[0;36m100\u001b[0m\u001b[0;34m)\u001b[0m\u001b[0;34m\u001b[0m\u001b[0;34m\u001b[0m\u001b[0m\n\u001b[0m\u001b[1;32m     29\u001b[0m     \u001b[0;32mif\u001b[0m \u001b[0;32mnot\u001b[0m \u001b[0msuccess\u001b[0m\u001b[0;34m:\u001b[0m\u001b[0;34m\u001b[0m\u001b[0;34m\u001b[0m\u001b[0m\n\u001b[1;32m     30\u001b[0m         \u001b[0;32mraise\u001b[0m \u001b[0mRuntimeError\u001b[0m\u001b[0;34m(\u001b[0m\u001b[0;34m\"Could not compute the camera pose for the new frame with solvePnP.\"\u001b[0m\u001b[0;34m)\u001b[0m\u001b[0;34m\u001b[0m\u001b[0;34m\u001b[0m\u001b[0m\n",
      "\u001b[0;31merror\u001b[0m: OpenCV(4.2.0) /io/opencv/modules/calib3d/src/solvepnp.cpp:216: error: (-215:Assertion failed) npoints >= 4 && npoints == std::max(ipoints.checkVector(2, CV_32F), ipoints.checkVector(2, CV_64F)) in function 'solvePnPRansac'\n"
     ]
    }
   ],
   "source": [
    "img_points = cv2.KeyPoint_convert(last_kps)\n",
    "print(img_points.shape)\n",
    "last_map_points = map_points[pose_graph.nodes[prev_node_id][\"associated_map_points\"], :]  # may contain multiple disconnected index ranges\n",
    "pts_3d = last_map_points\n",
    "\n",
    "print(pts_3d)\n",
    "print(pts_3d.shape)\n",
    "print(pts_3d.dtype)\n",
    "#print(\"current_pts before PnP\", img_points, \"len\", img_points.shape)\n",
    "R_current, t_current = estimate_camera_pose(img_points, pts_3d, camera_matrix)\n",
    "current_pose = to_twist(R_current, t_current)\n",
    "print(R_current, t_current)"
   ]
  },
  {
   "cell_type": "code",
   "execution_count": 24,
   "metadata": {},
   "outputs": [
    {
     "name": "stdout",
     "output_type": "stream",
     "text": [
      "437\n",
      "479\n"
     ]
    }
   ],
   "source": [
    "print(matches[0].queryIdx)  # index of feature point in the last_kf for match[0]\n",
    "print(matches[0].trainIdx)  # index of feature point in the current_frame for match[0]"
   ]
  },
  {
   "cell_type": "raw",
   "metadata": {},
   "source": [
    "fig = plt.figure(figsize=(6, 4))\n",
    "ax = fig.add_subplot(111)\n",
    "ax.imshow(last_kf[:, :, ::-1])\n",
    "plt.show()"
   ]
  },
  {
   "cell_type": "code",
   "execution_count": 270,
   "metadata": {},
   "outputs": [
    {
     "data": {
      "application/vnd.jupyter.widget-view+json": {
       "model_id": "e8f1fffaec264ee6a6f2efb537a9899e",
       "version_major": 2,
       "version_minor": 0
      },
      "text/plain": [
       "FigureCanvasNbAgg()"
      ]
     },
     "metadata": {},
     "output_type": "display_data"
    }
   ],
   "source": [
    "fig = plt.figure(figsize=(16, 4))\n",
    "ax = fig.add_subplot(111)\n",
    "ax.imshow(match_frame[:, :, ::-1])\n",
    "cv2.imwrite(\"match_frame.jpg\", match_frame)\n",
    "plt.show()"
   ]
  },
  {
   "cell_type": "code",
   "execution_count": null,
   "metadata": {},
   "outputs": [],
   "source": [
    "# project map points into image\n",
    "rvec = \n",
    "tvec = \n",
    "imagePoints, jacobian = cv.projectPoints(objectPoints, rvec, tvec, camera_matrix)"
   ]
  },
  {
   "cell_type": "code",
   "execution_count": null,
   "metadata": {},
   "outputs": [],
   "source": []
  },
  {
   "cell_type": "code",
   "execution_count": null,
   "metadata": {},
   "outputs": [],
   "source": []
  },
  {
   "cell_type": "code",
   "execution_count": null,
   "metadata": {},
   "outputs": [],
   "source": []
  },
  {
   "cell_type": "code",
   "execution_count": 184,
   "metadata": {},
   "outputs": [
    {
     "data": {
      "text/plain": [
       "[<matplotlib.lines.Line2D at 0x7f38ec15e810>]"
      ]
     },
     "execution_count": 184,
     "metadata": {},
     "output_type": "execute_result"
    },
    {
     "data": {
      "image/png": "[encoded data removed]",
      "text/plain": [
       "<Figure size 432x288 with 1 Axes>"
      ]
     },
     "metadata": {
      "needs_background": "light"
     },
     "output_type": "display_data"
    }
   ],
   "source": [
    "plt.plot([m.distance for m in matches])"
   ]
  },
  {
   "cell_type": "code",
   "execution_count": null,
   "metadata": {},
   "outputs": [],
   "source": [
    "# TODO: keep only matches with distance smaller than threshold"
   ]
  },
  {
   "cell_type": "code",
   "execution_count": null,
   "metadata": {},
   "outputs": [],
   "source": []
  },
  {
   "cell_type": "code",
   "execution_count": null,
   "metadata": {},
   "outputs": [],
   "source": []
  },
  {
   "cell_type": "code",
   "execution_count": null,
   "metadata": {},
   "outputs": [],
   "source": []
  },
  {
   "cell_type": "code",
   "execution_count": null,
   "metadata": {},
   "outputs": [],
   "source": []
  },
  {
   "cell_type": "code",
   "execution_count": null,
   "metadata": {},
   "outputs": [],
   "source": []
  },
  {
   "cell_type": "code",
   "execution_count": null,
   "metadata": {},
   "outputs": [],
   "source": []
  },
  {
   "cell_type": "code",
   "execution_count": 102,
   "metadata": {},
   "outputs": [
    {
     "name": "stdout",
     "output_type": "stream",
     "text": [
      "Found 1522 matches of current frame with last frame\n",
      "(1, 1522, 2)\n",
      "pts3d\n",
      "[[13.31761475  1.45177197 19.94844452]\n",
      " [ 5.00779483  7.47543074 20.33402537]\n",
      " [-8.40211766 -0.74192502 20.49784261]\n",
      " ...\n",
      " [-0.44074669  1.12982152 -5.63570685]\n",
      " [-0.30234757  0.61048963 -1.0331949 ]\n",
      " [ 0.05750397  0.55473557  0.28256981]]\n",
      "(1233, 3)\n",
      "float64\n"
     ]
    },
    {
     "ename": "error",
     "evalue": "OpenCV(4.2.0) /io/opencv/modules/calib3d/src/solvepnp.cpp:216: error: (-215:Assertion failed) npoints >= 4 && npoints == std::max(ipoints.checkVector(2, CV_32F), ipoints.checkVector(2, CV_64F)) in function 'solvePnPRansac'\n",
     "output_type": "error",
     "traceback": [
      "\u001b[0;31m---------------------------------------------------------------------------\u001b[0m",
      "\u001b[0;31merror\u001b[0m                                     Traceback (most recent call last)",
      "\u001b[0;32m<ipython-input-102-07f525a393f5>\u001b[0m in \u001b[0;36m<module>\u001b[0;34m\u001b[0m\n\u001b[1;32m     26\u001b[0m     \u001b[0mprint\u001b[0m\u001b[0;34m(\u001b[0m\u001b[0mpts_3d\u001b[0m\u001b[0;34m.\u001b[0m\u001b[0mdtype\u001b[0m\u001b[0;34m)\u001b[0m\u001b[0;34m\u001b[0m\u001b[0;34m\u001b[0m\u001b[0m\n\u001b[1;32m     27\u001b[0m     \u001b[0;31m#print(\"current_pts before PnP\", img_points, \"len\", img_points.shape)\u001b[0m\u001b[0;34m\u001b[0m\u001b[0;34m\u001b[0m\u001b[0;34m\u001b[0m\u001b[0m\n\u001b[0;32m---> 28\u001b[0;31m     \u001b[0mR_current\u001b[0m\u001b[0;34m,\u001b[0m \u001b[0mt_current\u001b[0m \u001b[0;34m=\u001b[0m \u001b[0mestimate_camera_pose\u001b[0m\u001b[0;34m(\u001b[0m\u001b[0mimg_points\u001b[0m\u001b[0;34m,\u001b[0m \u001b[0mpts_3d\u001b[0m\u001b[0;34m,\u001b[0m \u001b[0mcamera_matrix\u001b[0m\u001b[0;34m)\u001b[0m\u001b[0;34m\u001b[0m\u001b[0;34m\u001b[0m\u001b[0m\n\u001b[0m\u001b[1;32m     29\u001b[0m     \u001b[0mcurrent_pose\u001b[0m \u001b[0;34m=\u001b[0m \u001b[0mto_twist\u001b[0m\u001b[0;34m(\u001b[0m\u001b[0mR_current\u001b[0m\u001b[0;34m,\u001b[0m \u001b[0mt_current\u001b[0m\u001b[0;34m)\u001b[0m\u001b[0;34m\u001b[0m\u001b[0;34m\u001b[0m\u001b[0m\n\u001b[1;32m     30\u001b[0m     \u001b[0mprint\u001b[0m\u001b[0;34m(\u001b[0m\u001b[0mR_current\u001b[0m\u001b[0;34m,\u001b[0m \u001b[0mt_current\u001b[0m\u001b[0;34m)\u001b[0m\u001b[0;34m\u001b[0m\u001b[0;34m\u001b[0m\u001b[0m\n",
      "\u001b[0;32m<ipython-input-100-ba672b0d035c>\u001b[0m in \u001b[0;36mestimate_camera_pose\u001b[0;34m(img_points, pts_3d, camera_matrix)\u001b[0m\n\u001b[1;32m     26\u001b[0m         \u001b[0mframe\u001b[0m\u001b[0;34m.\u001b[0m\u001b[0;34m\u001b[0m\u001b[0;34m\u001b[0m\u001b[0m\n\u001b[1;32m     27\u001b[0m     \"\"\"\n\u001b[0;32m---> 28\u001b[0;31m     \u001b[0msuccess\u001b[0m\u001b[0;34m,\u001b[0m \u001b[0mrvec\u001b[0m\u001b[0;34m,\u001b[0m \u001b[0mtvec\u001b[0m\u001b[0;34m,\u001b[0m \u001b[0minliers\u001b[0m \u001b[0;34m=\u001b[0m \u001b[0mcv2\u001b[0m\u001b[0;34m.\u001b[0m\u001b[0msolvePnPRansac\u001b[0m\u001b[0;34m(\u001b[0m\u001b[0mpts_3d\u001b[0m\u001b[0;34m.\u001b[0m\u001b[0mreshape\u001b[0m\u001b[0;34m(\u001b[0m\u001b[0;34m-\u001b[0m\u001b[0;36m1\u001b[0m\u001b[0;34m,\u001b[0m \u001b[0;36m1\u001b[0m\u001b[0;34m,\u001b[0m \u001b[0;36m3\u001b[0m\u001b[0;34m)\u001b[0m\u001b[0;34m,\u001b[0m \u001b[0mimg_points\u001b[0m\u001b[0;34m.\u001b[0m\u001b[0mreshape\u001b[0m\u001b[0;34m(\u001b[0m\u001b[0;34m-\u001b[0m\u001b[0;36m1\u001b[0m\u001b[0;34m,\u001b[0m \u001b[0;36m1\u001b[0m\u001b[0;34m,\u001b[0m \u001b[0;36m2\u001b[0m\u001b[0;34m)\u001b[0m\u001b[0;34m,\u001b[0m \u001b[0mcamera_matrix\u001b[0m\u001b[0;34m,\u001b[0m \u001b[0;32mNone\u001b[0m\u001b[0;34m,\u001b[0m \u001b[0mreprojectionError\u001b[0m\u001b[0;34m=\u001b[0m\u001b[0;36m8\u001b[0m\u001b[0;34m,\u001b[0m \u001b[0miterationsCount\u001b[0m\u001b[0;34m=\u001b[0m\u001b[0;36m100\u001b[0m\u001b[0;34m)\u001b[0m\u001b[0;34m\u001b[0m\u001b[0;34m\u001b[0m\u001b[0m\n\u001b[0m\u001b[1;32m     29\u001b[0m     \u001b[0;32mif\u001b[0m \u001b[0;32mnot\u001b[0m \u001b[0msuccess\u001b[0m\u001b[0;34m:\u001b[0m\u001b[0;34m\u001b[0m\u001b[0;34m\u001b[0m\u001b[0m\n\u001b[1;32m     30\u001b[0m         \u001b[0;32mraise\u001b[0m \u001b[0mRuntimeError\u001b[0m\u001b[0;34m(\u001b[0m\u001b[0;34m\"Could not compute the camera pose for the new frame with solvePnP.\"\u001b[0m\u001b[0;34m)\u001b[0m\u001b[0;34m\u001b[0m\u001b[0;34m\u001b[0m\u001b[0m\n",
      "\u001b[0;31merror\u001b[0m: OpenCV(4.2.0) /io/opencv/modules/calib3d/src/solvepnp.cpp:216: error: (-215:Assertion failed) npoints >= 4 && npoints == std::max(ipoints.checkVector(2, CV_32F), ipoints.checkVector(2, CV_64F)) in function 'solvePnPRansac'\n"
     ]
    }
   ],
   "source": [
    "for current_frame in frames[frame_idx+1:]:\n",
    "    # get initial pose estimate by matching keypoints with previous KF\n",
    "    current_kp, current_des = extract_kp_des(gray(current_frame), fast, orb)\n",
    "    prev_node_id = sorted(pose_graph.nodes)[-1]\n",
    "    matches, last_pts, current_pts, match_frame = match(bf,\n",
    "        gray(pose_graph.nodes[prev_node_id][\"frame\"]),\n",
    "        gray(current_frame),\n",
    "        pose_graph.nodes[prev_node_id][\"des\"],\n",
    "        current_des, pose_graph.nodes[prev_node_id][\"kp\"],\n",
    "        current_kp, num_matches, draw=False)\n",
    "\n",
    "    vis_current_frame = cv2.drawKeypoints(np.copy(current_frame), current_kp, None, flags=cv2.DRAW_MATCHES_FLAGS_DRAW_RICH_KEYPOINTS)\n",
    "\n",
    "    # recover initial camera pose of current frame by solving PnP\n",
    "    img_points = current_pts\n",
    "    print(img_points.shape)\n",
    "    visible_map_points = pose_graph.nodes[prev_node_id][\"visible_map_points\"]  # may contain multiple disconnected index ranges\n",
    "    try:\n",
    "        pts_3d = np.vstack([map_points[vs, :] for vs in visible_map_points])\n",
    "    except ValueError:\n",
    "        raise ValueError (\"Last keyframe did not contain any visible map points.\")\n",
    "\n",
    "    print(\"pts3d\")\n",
    "    print(pts_3d)\n",
    "    print(pts_3d.shape)\n",
    "    print(pts_3d.dtype)\n",
    "    #print(\"current_pts before PnP\", img_points, \"len\", img_points.shape)\n",
    "    R_current, t_current = estimate_camera_pose(img_points, pts_3d, camera_matrix)\n",
    "    current_pose = to_twist(R_current, t_current)\n",
    "    print(R_current, t_current)\n"
   ]
  },
  {
   "cell_type": "code",
   "execution_count": null,
   "metadata": {},
   "outputs": [],
   "source": []
  },
  {
   "cell_type": "code",
   "execution_count": null,
   "metadata": {},
   "outputs": [],
   "source": []
  },
  {
   "cell_type": "code",
   "execution_count": null,
   "metadata": {},
   "outputs": [],
   "source": []
  },
  {
   "cell_type": "code",
   "execution_count": null,
   "metadata": {},
   "outputs": [],
   "source": []
  },
  {
   "cell_type": "code",
   "execution_count": null,
   "metadata": {},
   "outputs": [],
   "source": []
  },
  {
   "cell_type": "code",
   "execution_count": null,
   "metadata": {},
   "outputs": [],
   "source": []
  }
 ],
 "metadata": {
  "kernelspec": {
   "display_name": "Python 3",
   "language": "python",
   "name": "python3"
  },
  "language_info": {
   "codemirror_mode": {
    "name": "ipython",
    "version": 3
   },
   "file_extension": ".py",
   "mimetype": "text/x-python",
   "name": "python",
   "nbconvert_exporter": "python",
   "pygments_lexer": "ipython3",
   "version": "3.7.4"
  }
 },
 "nbformat": 4,
 "nbformat_minor": 2
}
