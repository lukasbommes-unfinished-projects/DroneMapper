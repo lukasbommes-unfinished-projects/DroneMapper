{
 "cells": [
  {
   "cell_type": "code",
   "execution_count": 3,
   "metadata": {},
   "outputs": [],
   "source": [
    "%matplotlib ipympl\n",
    "import numpy as np\n",
    "import cv2\n",
    "import pickle\n",
    "from matplotlib import pyplot as plt\n",
    "from mpl_toolkits.mplot3d import Axes3D\n",
    "from pytransform3d.rotations import *"
   ]
  },
  {
   "cell_type": "code",
   "execution_count": 7,
   "metadata": {},
   "outputs": [
    {
     "data": {
      "application/vnd.jupyter.widget-view+json": {
       "model_id": "5d1d4b238bba41b481cdadeb32c6205f",
       "version_major": 2,
       "version_minor": 0
      },
      "text/plain": [
       "FigureCanvasNbAgg()"
      ]
     },
     "metadata": {},
     "output_type": "display_data"
    }
   ],
   "source": [
    "Rs = pickle.load(open(\"../Rs.pkl\", \"rb\"))\n",
    "ts = pickle.load(open(\"../ts.pkl\", \"rb\"))\n",
    "map_points = pickle.load(open(\"../map_points.pkl\", \"rb\"))\n",
    "\n",
    "fig = plt.figure()\n",
    "ax = fig.add_subplot(111, projection='3d')\n",
    "ax.set_xlim([-15,15])\n",
    "ax.set_ylim([-15,15])\n",
    "ax.set_zlim([-25,25])\n",
    "ax.set_xlabel(\"x\")\n",
    "ax.set_ylabel(\"y\")\n",
    "ax.set_zlabel(\"z\")\n",
    "\n",
    "plot_basis(ax, np.eye(3), np.zeros(3,))\n",
    "for R, t in zip(Rs, ts):\n",
    "    plot_basis(ax, R, t.reshape(3,))\n",
    "    \n",
    "m = map_points[0][\"mask\"]\n",
    "ax.scatter(map_points[0][\"pts_3d\"][m, 0], map_points[0][\"pts_3d\"][m, 1], map_points[0][\"pts_3d\"][m, 2], s=1)\n",
    "\n",
    "plt.show()"
   ]
  },
  {
   "cell_type": "code",
   "execution_count": 5,
   "metadata": {},
   "outputs": [
    {
     "data": {
      "text/plain": [
       "array([[ -2.94850682,   0.80231726,  19.32300943],\n",
       "       [ 10.98307193,   1.33775226,  19.51356268],\n",
       "       [  5.63523702,   2.24292049,  19.35714455],\n",
       "       ..., \n",
       "       [  0.29409611,  -1.44233714,   2.06248084],\n",
       "       [ -2.79667254,  -2.26016737,  -4.89183778],\n",
       "       [-23.29283717,  15.15935244, -47.97762623]])"
      ]
     },
     "execution_count": 5,
     "metadata": {},
     "output_type": "execute_result"
    }
   ],
   "source": [
    "map_points[0][\"pts_3d\"]"
   ]
  },
  {
   "cell_type": "code",
   "execution_count": 6,
   "metadata": {},
   "outputs": [
    {
     "data": {
      "text/plain": [
       "(1134,)"
      ]
     },
     "execution_count": 6,
     "metadata": {},
     "output_type": "execute_result"
    }
   ],
   "source": [
    "map_points[0][\"mask\"][map_points[0][\"mask\"]==True].shape"
   ]
  },
  {
   "cell_type": "code",
   "execution_count": 7,
   "metadata": {},
   "outputs": [
    {
     "data": {
      "text/plain": [
       "array([ 19.32300943,  19.51356268,  19.35714455, ...,  19.98336336,\n",
       "        19.30982126,   2.06248084])"
      ]
     },
     "execution_count": 7,
     "metadata": {},
     "output_type": "execute_result"
    }
   ],
   "source": [
    "map_points[0][\"pts_3d\"][map_points[0][\"mask\"], 2]"
   ]
  },
  {
   "cell_type": "code",
   "execution_count": 8,
   "metadata": {},
   "outputs": [
    {
     "ename": "NameError",
     "evalue": "name 'valid_map_pts' is not defined",
     "output_type": "error",
     "traceback": [
      "\u001b[0;31m---------------------------------------------------------------------------\u001b[0m",
      "\u001b[0;31mNameError\u001b[0m                                 Traceback (most recent call last)",
      "\u001b[0;32m<ipython-input-8-dfc9a9422027>\u001b[0m in \u001b[0;36m<module>\u001b[0;34m\u001b[0m\n\u001b[0;32m----> 1\u001b[0;31m \u001b[0mvalid_map_pts\u001b[0m\u001b[0;34m.\u001b[0m\u001b[0mshape\u001b[0m\u001b[0;34m\u001b[0m\u001b[0;34m\u001b[0m\u001b[0m\n\u001b[0m",
      "\u001b[0;31mNameError\u001b[0m: name 'valid_map_pts' is not defined"
     ]
    }
   ],
   "source": [
    "valid_map_pts.shape"
   ]
  },
  {
   "cell_type": "code",
   "execution_count": 9,
   "metadata": {},
   "outputs": [
    {
     "data": {
      "text/plain": [
       "(array([[  9.99999197e-01,   5.07508409e-04,  -1.16156474e-03],\n",
       "        [ -5.09694735e-04,   9.99998098e-01,  -1.88270327e-03],\n",
       "        [  1.16060704e-03,   1.88329380e-03,   9.99997553e-01]]),\n",
       " array([[-0.01696952],\n",
       "        [-0.99771767],\n",
       "        [-0.09221447]]))"
      ]
     },
     "execution_count": 9,
     "metadata": {},
     "output_type": "execute_result"
    }
   ],
   "source": [
    "Rs[0], ts[0]"
   ]
  },
  {
   "cell_type": "code",
   "execution_count": 10,
   "metadata": {},
   "outputs": [],
   "source": [
    "def to_twist(R, t):\n",
    "    \"\"\"Convert a 3x3 rotation matrix and translation vector (shape (3,))\n",
    "    into a 6D twist coordinate (shape (6,)).\"\"\"\n",
    "    r, _ = cv2.Rodrigues(R)\n",
    "    twist = np.zeros((6,))\n",
    "    twist[:3] = r.reshape(3,)\n",
    "    twist[3:] = t.reshape(3,)\n",
    "    return twist"
   ]
  },
  {
   "cell_type": "code",
   "execution_count": 11,
   "metadata": {},
   "outputs": [
    {
     "data": {
      "image/png": "[encoded data removed]",
      "text/plain": [
       "<Figure size 432x288 with 1 Axes>"
      ]
     },
     "metadata": {
      "needs_background": "light"
     },
     "output_type": "display_data"
    }
   ],
   "source": [
    "# the weights are chosen to make the difference more sensitive to changes in rotation and z-coordinate\n",
    "pose_distance_weights = np.array([[10, 0, 0, 0, 0, 0],  # r1\n",
    "                                  [0, 10, 0, 0, 0, 0],  # r2\n",
    "                                  [0, 0, 10, 0, 0, 0],  # r3\n",
    "                                  [0, 0, 0, 1, 0, 0],   # t1 = x\n",
    "                                  [0, 0, 0, 0, 1, 0],   # t2 = y\n",
    "                                  [0, 0, 0, 0, 0, 10]]) # t3 = z\n",
    "pose_distance_threshold = 15\n",
    "\n",
    "fig = plt.figure()\n",
    "ax = fig.add_subplot(111)\n",
    "ax.set_ylim([0, 1000])\n",
    "\n",
    "dists = []\n",
    "for R_rel, t_rel in zip(Rs, ts):\n",
    "    curent_pose = to_twist(R_rel, t_rel).reshape(6, 1)\n",
    "    dist = np.matmul(np.matmul(curent_pose.T, pose_distance_weights), curent_pose)\n",
    "    dists.append(float(dist))\n",
    "    \n",
    "ax.plot(dists)\n",
    "ax.plot([0, 250],[pose_distance_threshold, pose_distance_threshold])\n",
    "plt.show()"
   ]
  },
  {
   "cell_type": "code",
   "execution_count": 12,
   "metadata": {},
   "outputs": [
    {
     "data": {
      "text/plain": [
       "[1.080815112864561,\n",
       " 1.099635895042237,\n",
       " 1.1020899114215992,\n",
       " 1.1317393523860697,\n",
       " 1.1638362250042316,\n",
       " 1.1868185010974048,\n",
       " 1.2143778330193047,\n",
       " 1.242084987603421,\n",
       " 2.042548646527278,\n",
       " 2.1811113337894343,\n",
       " 2.3287561118774147,\n",
       " 2.489528912157104,\n",
       " 2.6515645909211427,\n",
       " 2.791505546639665,\n",
       " 2.9500926577360387,\n",
       " 3.1090695651838014,\n",
       " 3.277922956273807,\n",
       " 3.4520244727668636,\n",
       " 3.6230544740011017,\n",
       " 3.7898222735219362,\n",
       " 4.038830740112527,\n",
       " 4.248640163110414,\n",
       " 4.456448617912029,\n",
       " 4.677271714787187,\n",
       " 4.881421471869882,\n",
       " 5.0961962881951015,\n",
       " 5.341642156123,\n",
       " 5.584539576116799,\n",
       " 5.844196011335136,\n",
       " 6.0610715790921486,\n",
       " 6.286235423133577,\n",
       " 6.516060952953086,\n",
       " 6.802652104271481,\n",
       " 7.039489498362957,\n",
       " 7.339180707631333,\n",
       " 7.586334944149103,\n",
       " 7.871505639629514,\n",
       " 8.141807317515443,\n",
       " 8.482437791868234,\n",
       " 8.803607970942881,\n",
       " 9.100644258182053,\n",
       " 9.453306680774054,\n",
       " 9.81613888164111,\n",
       " 10.21170169079852,\n",
       " 10.567619486892672,\n",
       " 10.85362431508068,\n",
       " 11.177088207676398,\n",
       " 11.542145032656675,\n",
       " 11.945884142266122,\n",
       " 12.283871757075776,\n",
       " 12.679429749747673,\n",
       " 13.026260159602842,\n",
       " 13.40141497809787,\n",
       " 13.843929791769298,\n",
       " 14.169949050408514,\n",
       " 14.83414383535603,\n",
       " 14.980156681695224,\n",
       " 15.472948878813966]"
      ]
     },
     "execution_count": 12,
     "metadata": {},
     "output_type": "execute_result"
    }
   ],
   "source": [
    "dists"
   ]
  },
  {
   "cell_type": "code",
   "execution_count": null,
   "metadata": {},
   "outputs": [],
   "source": []
  }
 ],
 "metadata": {
  "kernelspec": {
   "display_name": "Python 3",
   "language": "python",
   "name": "python3"
  },
  "language_info": {
   "codemirror_mode": {
    "name": "ipython",
    "version": 3
   },
   "file_extension": ".py",
   "mimetype": "text/x-python",
   "name": "python",
   "nbconvert_exporter": "python",
   "pygments_lexer": "ipython3",
   "version": "3.7.4"
  }
 },
 "nbformat": 4,
 "nbformat_minor": 4
}
