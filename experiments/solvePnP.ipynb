{
 "cells": [
  {
   "cell_type": "code",
   "execution_count": 2,
   "metadata": {},
   "outputs": [],
   "source": [
    "%matplotlib ipympl\n",
    "import glob\n",
    "import cv2\n",
    "import numpy as np\n",
    "import matplotlib.pyplot as plt\n",
    "from mpl_toolkits.mplot3d import Axes3D\n",
    "from pytransform3d.rotations import *"
   ]
  },
  {
   "cell_type": "code",
   "execution_count": 3,
   "metadata": {},
   "outputs": [],
   "source": [
    "# load images and determine chessboard corners\n",
    "left_img = cv2.imread(\"left.jpg\", cv2.IMREAD_COLOR)\n",
    "right_img = cv2.imread(\"right.jpg\", cv2.IMREAD_COLOR)\n",
    "left_img = cv2.resize(left_img, None, fx=0.25, fy=0.25)\n",
    "right_img = cv2.resize(right_img, None, fx=0.25, fy=0.25)"
   ]
  },
  {
   "cell_type": "code",
   "execution_count": 4,
   "metadata": {},
   "outputs": [],
   "source": [
    "patternsize = (9, 6)\n",
    "\n",
    "def find_corners(img):\n",
    "    img_gray = cv2.cvtColor(img, cv2.COLOR_BGR2GRAY)\n",
    "    ret, corners = cv2.findChessboardCorners(img_gray, patternsize, flags=cv2.CALIB_CB_ADAPTIVE_THRESH+cv2.CALIB_CB_NORMALIZE_IMAGE+cv2.CALIB_CB_FAST_CHECK)\n",
    "    #print(ret)\n",
    "    if ret:\n",
    "        corners = cv2.cornerSubPix(img_gray, corners, (11, 11), (-1, -1), criteria=(cv2.TERM_CRITERIA_EPS+cv2.TERM_CRITERIA_MAX_ITER, 30, 0.1))\n",
    "    img = cv2.drawChessboardCorners(img, patternsize, corners, ret)\n",
    "    return img, corners\n",
    "\n",
    "left_img, corners_left = find_corners(left_img)\n",
    "right_img, corners_right = find_corners(right_img)"
   ]
  },
  {
   "cell_type": "code",
   "execution_count": 5,
   "metadata": {},
   "outputs": [],
   "source": [
    "# prepare images for intrinsic calibration\n",
    "images = glob.glob('intrinsic/*.jpg')\n",
    "objpoints = [] # 3d point in real world space\n",
    "imgpoints = [] # 2d points in image plane\n",
    "for image in images:\n",
    "    img = cv2.imread(image, cv2.IMREAD_COLOR)\n",
    "    img = cv2.resize(img, None, fx=0.25, fy=0.25)\n",
    "    img, corners = find_corners(img)\n",
    "    imgpoints.append(corners)\n",
    "    \n",
    "    # prepare object points\n",
    "    objp = np.zeros((patternsize[1]*patternsize[0],3), np.float32)\n",
    "    objp[:,:2] = np.mgrid[0:patternsize[0],0:patternsize[1]].T.reshape(-1,2)\n",
    "    objpoints.append(objp)    "
   ]
  },
  {
   "cell_type": "code",
   "execution_count": 6,
   "metadata": {},
   "outputs": [],
   "source": [
    "# calibrate camera intrinsics\n",
    "retval, K, d, _, _ = cv2.calibrateCamera(objpoints, imgpoints, left_img.shape[:2][::-1], None, None)"
   ]
  },
  {
   "cell_type": "code",
   "execution_count": 7,
   "metadata": {},
   "outputs": [],
   "source": [
    "# calibrate as stereo camera\n",
    "retval, K1, d1, K2, d2, R, t, E, F = cv2.stereoCalibrate([objpoints[0]], [corners_left], [corners_right], K, d, K, d, left_img.shape[:2][::-1])"
   ]
  },
  {
   "cell_type": "code",
   "execution_count": 8,
   "metadata": {},
   "outputs": [
    {
     "data": {
      "application/vnd.jupyter.widget-view+json": {
       "model_id": "565844c6b6d443308e0f275fcbd64efc",
       "version_major": 2,
       "version_minor": 0
      },
      "text/plain": [
       "FigureCanvasNbAgg()"
      ]
     },
     "metadata": {},
     "output_type": "display_data"
    }
   ],
   "source": [
    "fig = plt.figure()\n",
    "ax = fig.add_subplot(111, projection='3d')\n",
    "plot_basis(ax, np.eye(3), np.zeros(3,))\n",
    "plot_basis(ax, R, t.reshape(3,))\n",
    "plot_basis(ax, R.T, -np.matmul(R.T, t.reshape(3,)))\n",
    "ax.set_xlim([-10,10])\n",
    "ax.set_ylim([-10,10])\n",
    "ax.set_zlim([-10,10])\n",
    "plt.show()"
   ]
  },
  {
   "cell_type": "code",
   "execution_count": 9,
   "metadata": {},
   "outputs": [],
   "source": [
    "pts1 = corners_left[:, 0, :]\n",
    "pts2 = corners_right[:, 0, :]"
   ]
  },
  {
   "cell_type": "code",
   "execution_count": 10,
   "metadata": {},
   "outputs": [],
   "source": [
    "# relative camera pose\n",
    "R1 = np.array([[1, 0, 0], [0, 1, 0], [0, 0, 1]]).astype(np.float64)\n",
    "t1 = np.array([[0], [0], [0]]).astype(np.float64)\n",
    "R2 = R.T\n",
    "t2 = -np.matmul(R.T, t.reshape(3,)).reshape(3,1)"
   ]
  },
  {
   "cell_type": "code",
   "execution_count": 11,
   "metadata": {},
   "outputs": [],
   "source": [
    "## create projection matrices\n",
    "proj_matrix1 = np.hstack([R1.T, -R1.T.dot(t1)])\n",
    "proj_matrix2 = np.hstack([R2.T, -R2.T.dot(t2)])\n",
    "proj_matrix1 = K.dot(proj_matrix1)\n",
    "proj_matrix2 = K.dot(proj_matrix2)"
   ]
  },
  {
   "cell_type": "code",
   "execution_count": 12,
   "metadata": {},
   "outputs": [
    {
     "data": {
      "text/plain": [
       "array([[211.62093, 122.89432],\n",
       "       [312.4482 , 124.71296],\n",
       "       [408.48947, 127.01697],\n",
       "       [500.55267, 129.6443 ],\n",
       "       [587.4343 , 132.16008],\n",
       "       [669.5428 , 134.70001],\n",
       "       [747.61664, 137.55559],\n",
       "       [821.4467 , 140.0841 ],\n",
       "       [892.38666, 141.99115],\n",
       "       [216.14915, 222.67738]], dtype=float32)"
      ]
     },
     "execution_count": 12,
     "metadata": {},
     "output_type": "execute_result"
    }
   ],
   "source": [
    "pts1[:10]"
   ]
  },
  {
   "cell_type": "code",
   "execution_count": 13,
   "metadata": {},
   "outputs": [],
   "source": [
    "# undistort points prior to triangulation\n",
    "pts1_undistorted = cv2.undistortPoints(pts1.reshape(-1, 1, 2), K, d, None, K).reshape(-1, 2)\n",
    "pts2_undistorted = cv2.undistortPoints(pts2.reshape(-1, 1, 2), K, d, None, K).reshape(-1, 2)\n",
    "pts = cv2.triangulatePoints(proj_matrix1, proj_matrix2, pts1_undistorted.T, pts2_undistorted.T).T\n",
    "#pts = cv2.triangulatePoints(proj_matrix1, proj_matrix2, pts1.T, pts2.T).T"
   ]
  },
  {
   "cell_type": "code",
   "execution_count": 22,
   "metadata": {},
   "outputs": [],
   "source": [
    "pts = cv2.convertPointsFromHomogeneous(pts).reshape(-1, 3)"
   ]
  },
  {
   "cell_type": "code",
   "execution_count": 23,
   "metadata": {},
   "outputs": [
    {
     "data": {
      "text/plain": [
       "array([[-2.3588324 , -2.9734688 ,  8.760485  ],\n",
       "       [-1.3528311 , -3.007264  ,  8.96096   ],\n",
       "       [-0.36004767, -3.041054  ,  9.143721  ],\n",
       "       [ 0.62875146, -3.0760314 ,  9.316667  ],\n",
       "       [ 1.6030538 , -3.1154864 ,  9.496848  ],\n",
       "       [ 2.5711918 , -3.1585531 ,  9.679421  ],\n",
       "       [ 3.547523  , -3.2076178 ,  9.871115  ],\n",
       "       [ 4.525416  , -3.262629  , 10.071691  ],\n",
       "       [ 5.514843  , -3.3283677 , 10.32271   ],\n",
       "       [-2.335406  , -1.979252  ,  8.8876505 ],\n",
       "       [-1.3274802 , -2.0193815 ,  9.077079  ],\n",
       "       [-0.32822645, -2.053373  ,  9.238956  ],\n",
       "       [ 0.65543586, -2.0945582 ,  9.428022  ],\n",
       "       [ 1.6274697 , -2.1371002 ,  9.621111  ],\n",
       "       [ 2.5961926 , -2.1833918 ,  9.801267  ],\n",
       "       [ 3.57245   , -2.2321956 ,  9.983808  ],\n",
       "       [ 4.5505934 , -2.2874625 , 10.182944  ],\n",
       "       [ 5.54368   , -2.3452234 , 10.4024    ],\n",
       "       [-2.318017  , -0.98285836,  9.0119    ],\n",
       "       [-1.2965109 , -1.0296584 ,  9.174084  ],\n",
       "       [-0.29378313, -1.0716931 ,  9.333986  ],\n",
       "       [ 0.6867137 , -1.1182777 ,  9.54445   ],\n",
       "       [ 1.6533988 , -1.1646357 ,  9.750524  ],\n",
       "       [ 2.6239486 , -1.211717  ,  9.919497  ],\n",
       "       [ 3.5995293 , -1.2579519 , 10.085758  ],\n",
       "       [ 4.5818815 , -1.311771  , 10.287354  ],\n",
       "       [ 5.57763   , -1.364158  , 10.503889  ],\n",
       "       [-2.2917035 ,  0.02282953,  9.114804  ],\n",
       "       [-1.266548  , -0.02994233,  9.26812   ],\n",
       "       [-0.2628286 , -0.08537655,  9.430352  ],\n",
       "       [ 0.71858996, -0.13760374,  9.64141   ],\n",
       "       [ 1.6884382 , -0.18828644,  9.848863  ],\n",
       "       [ 2.6572292 , -0.23688729, 10.01929   ],\n",
       "       [ 3.6351984 , -0.28187442, 10.191079  ],\n",
       "       [ 4.620854  , -0.32879373, 10.397318  ],\n",
       "       [ 5.6174045 , -0.37674594, 10.603405  ],\n",
       "       [-2.2592976 ,  1.0299522 ,  9.199996  ],\n",
       "       [-1.2434963 ,  0.9681205 ,  9.374748  ],\n",
       "       [-0.23434414,  0.9069227 ,  9.522582  ],\n",
       "       [ 0.7541633 ,  0.84836274,  9.719549  ],\n",
       "       [ 1.7255473 ,  0.79484665,  9.925478  ],\n",
       "       [ 2.6993454 ,  0.74578685, 10.113151  ],\n",
       "       [ 3.6803827 ,  0.6994549 , 10.299217  ],\n",
       "       [ 4.668155  ,  0.6547696 , 10.503688  ],\n",
       "       [ 5.66738   ,  0.6104766 , 10.708859  ],\n",
       "       [-2.220319  ,  2.037343  ,  9.262763  ],\n",
       "       [-1.2127763 ,  1.9736911 ,  9.462114  ],\n",
       "       [-0.2071667 ,  1.908863  ,  9.629068  ],\n",
       "       [ 0.7878632 ,  1.8484048 ,  9.807617  ],\n",
       "       [ 1.7669885 ,  1.793959  , 10.0011635 ],\n",
       "       [ 2.7446527 ,  1.7427269 , 10.205712  ],\n",
       "       [ 3.729855  ,  1.6934516 , 10.401523  ],\n",
       "       [ 4.7186747 ,  1.6479657 , 10.598324  ],\n",
       "       [ 5.7298493 ,  1.6114634 , 10.816462  ]], dtype=float32)"
      ]
     },
     "execution_count": 23,
     "metadata": {},
     "output_type": "execute_result"
    }
   ],
   "source": [
    "pts"
   ]
  },
  {
   "cell_type": "code",
   "execution_count": 24,
   "metadata": {},
   "outputs": [
    {
     "name": "stdout",
     "output_type": "stream",
     "text": [
      "True\n",
      "[[ 0.91591607  0.08015953 -0.39328388]\n",
      " [-0.08066949  0.99662405  0.01526233]\n",
      " [ 0.39317959  0.017747    0.91929041]] [[ 5.45086946]\n",
      " [-0.24347585]\n",
      " [ 1.24470032]]\n"
     ]
    }
   ],
   "source": [
    "# given:\n",
    "#   - pts: 3D world points\n",
    "#   - pts2_undistored: undistorted view of the world points in camera C2\n",
    "# results:\n",
    "#   - R, t to map 3D points to camera C2, we need to compute R.T, -R.T*t to retrieve the pose of C2 in world coordinates\n",
    "\n",
    "retval, rvec, tvec, inliers = cv2.solvePnPRansac(pts.reshape(-1, 1, 3), pts2.reshape(-1, 1, 2), K, d, reprojectionError=8, iterationsCount=100)#, flags=cv2.SOLVEPNP_EPNP)\n",
    "#retval, rvec, tvec = cv2.solveP3P(pts.reshape(-1, 1, 3)[:3, :, :], pts2_undistorted.reshape(-1, 1, 2)[:3, :, :], K, None, flags=cv2.SOLVEPNP_P3P)\n",
    "#rvec = rvec[0]\n",
    "#tvec = tvec[0]\n",
    "print(retval)\n",
    "\n",
    "# convert t vector from camera coords to world coords\n",
    "R_recovered = cv2.Rodrigues(rvec)[0].T\n",
    "t_recovered = -np.matmul(cv2.Rodrigues(rvec)[0].T, tvec)\n",
    "\n",
    "print(R_recovered, t_recovered)"
   ]
  },
  {
   "cell_type": "code",
   "execution_count": 25,
   "metadata": {},
   "outputs": [
    {
     "data": {
      "text/plain": [
       "array([[ 0.00276028, -0.00149861,  0.0061841 ],\n",
       "       [ 0.00142936,  0.00012618, -0.00077189],\n",
       "       [-0.00619797, -0.00038519,  0.00263355]])"
      ]
     },
     "execution_count": 25,
     "metadata": {},
     "output_type": "execute_result"
    }
   ],
   "source": [
    "R2-R_recovered"
   ]
  },
  {
   "cell_type": "code",
   "execution_count": 26,
   "metadata": {},
   "outputs": [
    {
     "data": {
      "text/plain": [
       "array([[-0.05513268],\n",
       "       [ 0.00871203],\n",
       "       [-0.04619691]])"
      ]
     },
     "execution_count": 26,
     "metadata": {},
     "output_type": "execute_result"
    }
   ],
   "source": [
    "t2-t_recovered"
   ]
  },
  {
   "cell_type": "code",
   "execution_count": 27,
   "metadata": {},
   "outputs": [
    {
     "data": {
      "application/vnd.jupyter.widget-view+json": {
       "model_id": "44a663d955fb4789aa62f5fca2f38216",
       "version_major": 2,
       "version_minor": 0
      },
      "text/plain": [
       "FigureCanvasNbAgg()"
      ]
     },
     "metadata": {},
     "output_type": "display_data"
    }
   ],
   "source": [
    "fig = plt.figure()\n",
    "ax = fig.add_subplot(111, projection='3d')\n",
    "ax.scatter(pts[:, 0], pts[:, 1], pts[:, 2])\n",
    "plot_basis(ax, R1, t1.reshape(3,))\n",
    "plot_basis(ax, R2, t2.reshape(3,))\n",
    "plot_basis(ax, R_recovered, t_recovered.reshape(3,))\n",
    "ax.set_xlim([-10,10])\n",
    "ax.set_ylim([-10,10])\n",
    "ax.set_zlim([-10,10])\n",
    "ax.set_xlabel(\"x\")\n",
    "ax.set_ylabel(\"y\")\n",
    "ax.set_zlabel(\"z\")\n",
    "plt.show()"
   ]
  },
  {
   "cell_type": "code",
   "execution_count": 28,
   "metadata": {},
   "outputs": [
    {
     "name": "stdout",
     "output_type": "stream",
     "text": [
      "world [-2.3588324 -2.9734688  8.760485 ] reprojected image [[[ 98.37130053 135.79725302]]]\n",
      "world [-1.3528311 -3.007264   8.96096  ] reprojected image [[[179.5710102  134.19668607]]]\n",
      "world [-0.36004767 -3.041054    9.143721  ] reprojected image [[[262.45248347 132.06975572]]]\n",
      "world [ 0.62875146 -3.0760314   9.316667  ] reprojected image [[[348.55311829 129.45369559]]]\n",
      "world [ 1.6030538 -3.1154864  9.496848 ] reprojected image [[[438.08961503 126.57091941]]]\n",
      "world [ 2.5711918 -3.1585531  9.679421 ] reprojected image [[[531.57065128 123.30006984]]]\n",
      "world [ 3.547523  -3.2076178  9.871115 ] reprojected image [[[630.72278916 119.52366832]]]\n",
      "world [ 4.525416 -3.262629 10.071691] reprojected image [[[735.07523815 115.24644456]]]\n",
      "world [ 5.514843  -3.3283677 10.32271  ] reprojected image [[[845.75147378 111.36801946]]]\n",
      "world [-2.335406  -1.979252   8.8876505] reprojected image [[[101.82738375 224.83480287]]]\n",
      "world [-1.3274802 -2.0193815  9.077079 ] reprojected image [[[181.61606535 224.39687807]]]\n",
      "world [-0.32822645 -2.053373    9.238956  ] reprojected image [[[262.97165577 223.94759558]]]\n",
      "world [ 0.65543586 -2.0945582   9.428022  ] reprojected image [[[348.62069425 223.37793081]]]\n",
      "world [ 1.6274697 -2.1371002  9.621111 ] reprojected image [[[437.42661812 222.74638034]]]\n",
      "world [ 2.5961926 -2.1833918  9.801267 ] reprojected image [[[529.65409117 221.44686153]]]\n",
      "world [ 3.57245   -2.2321956  9.983808 ] reprojected image [[[627.24845339 219.88104716]]]\n",
      "world [ 4.5505934 -2.2874625 10.182944 ] reprojected image [[[730.20748852 217.96108676]]]\n",
      "world [ 5.54368   -2.3452234 10.4024   ] reprojected image [[[839.81638487 216.15712183]]]\n",
      "world [-2.318017   -0.98285836  9.0119    ] reprojected image [[[104.61227958 311.86024055]]]\n",
      "world [-1.2965109 -1.0296584  9.174084 ] reprojected image [[[182.88185729 312.53369068]]]\n",
      "world [-0.29378313 -1.0716931   9.333986  ] reprojected image [[[263.70605431 313.58559839]]]\n",
      "world [ 0.6867137 -1.1182777  9.54445  ] reprojected image [[[349.31431617 314.78557653]]]\n",
      "world [ 1.6533988 -1.1646357  9.750524 ] reprojected image [[[437.14296115 315.96103192]]]\n",
      "world [ 2.6239486 -1.211717   9.919497 ] reprojected image [[[527.9599988  316.69670292]]]\n",
      "world [ 3.5995293 -1.2579519 10.085758 ] reprojected image [[[623.86968247 317.538011  ]]]\n",
      "world [ 4.5818815 -1.311771  10.287354 ] reprojected image [[[726.03006689 318.11881634]]]\n",
      "world [ 5.57763  -1.364158 10.503889] reprojected image [[[834.52280639 319.10850273]]]\n",
      "world [-2.2917035   0.02282953  9.114804  ] reprojected image [[[106.50032147 397.58144729]]]\n",
      "world [-1.266548   -0.02994233  9.26812   ] reprojected image [[[183.81959553 399.89608479]]]\n",
      "world [-0.2628286  -0.08537655  9.430352  ] reprojected image [[[264.20790396 401.9850205 ]]]\n",
      "world [ 0.71858996 -0.13760374  9.64141   ] reprojected image [[[349.14762239 404.45232307]]]\n",
      "world [ 1.6884382  -0.18828644  9.848863  ] reprojected image [[[436.463455   407.07261158]]]\n",
      "world [ 2.6572292  -0.23688729 10.01929   ] reprojected image [[[526.25222056 409.90619104]]]\n",
      "world [ 3.6351984  -0.28187442 10.191079  ] reprojected image [[[621.44049115 413.30421206]]]\n",
      "world [ 4.620854   -0.32879373 10.397318  ] reprojected image [[[722.72664899 416.80670676]]]\n",
      "world [ 5.6174045  -0.37674594 10.603405  ] reprojected image [[[829.93631751 420.45859839]]]\n",
      "world [-2.2592976  1.0299522  9.199996 ] reprojected image [[[107.62591323 481.9108335 ]]]\n",
      "world [-1.2434963  0.9681205  9.374748 ] reprojected image [[[184.99828431 485.43680393]]]\n",
      "world [-0.23434414  0.9069227   9.522582  ] reprojected image [[[264.26978147 489.26519495]]]\n",
      "world [0.7541633  0.84836274 9.719549  ] reprojected image [[[348.40724211 493.03953836]]]\n",
      "world [1.7255473  0.79484665 9.925478  ] reprojected image [[[435.12808713 497.20029237]]]\n",
      "world [ 2.6993454   0.74578685 10.113151  ] reprojected image [[[525.13378844 502.10218457]]]\n",
      "world [ 3.6803827  0.6994549 10.299217 ] reprojected image [[[619.97972595 507.58995007]]]\n",
      "world [ 4.668155   0.6547696 10.503688 ] reprojected image [[[720.30517589 513.43370943]]]\n",
      "world [ 5.66738    0.6104766 10.708859 ] reprojected image [[[826.54824584 519.72884444]]]\n",
      "world [-2.220319  2.037343  9.262763] reprojected image [[[107.75830713 565.29829466]]]\n",
      "world [-1.2127763  1.9736911  9.462114 ] reprojected image [[[185.53777201 570.20262202]]]\n",
      "world [-0.2071667  1.908863   9.629068 ] reprojected image [[[264.89027453 575.61670142]]]\n",
      "world [0.7878632 1.8484048 9.807617 ] reprojected image [[[347.86922414 581.37842461]]]\n",
      "world [ 1.7669885  1.793959  10.0011635] reprojected image [[[434.01922947 587.5066085 ]]]\n",
      "world [ 2.7446527  1.7427269 10.205712 ] reprojected image [[[524.17138611 594.00762254]]]\n",
      "world [ 3.729855   1.6934516 10.401523 ] reprojected image [[[618.73974911 601.23950936]]]\n",
      "world [ 4.7186747  1.6479657 10.598324 ] reprojected image [[[718.06668591 609.21560795]]]\n",
      "world [ 5.7298493  1.6114634 10.816462 ] reprojected image [[[824.45403509 618.42505208]]]\n"
     ]
    }
   ],
   "source": [
    "# map a world point to a camera point for testing\n",
    "for pt in pts:\n",
    "    test_pts = cv2.convertPointsToHomogeneous(pt.reshape(1, 3))\n",
    "    R_recovered = cv2.Rodrigues(rvec)[0]\n",
    "    t_recovered = tvec\n",
    "    proj_matric_recovered = np.zeros((3, 4))\n",
    "    proj_matric_recovered[:, :3] = R_recovered\n",
    "    proj_matric_recovered[:, -1] = t_recovered.reshape(3,)\n",
    "    proj_matric_recovered = np.matmul(K, proj_matric_recovered)\n",
    "    img_pts = np.matmul(proj_matric_recovered, test_pts[0, 0, :]) \n",
    "    img_pts = cv2.convertPointsFromHomogeneous(img_pts.reshape(1, 3))\n",
    "    print(\"world\", pt, \"reprojected image\", img_pts)"
   ]
  },
  {
   "cell_type": "code",
   "execution_count": 29,
   "metadata": {},
   "outputs": [
    {
     "name": "stdout",
     "output_type": "stream",
     "text": [
      "[[[  11.308057  109.48553 ]]\n",
      "\n",
      " [[ 111.901344  106.63015 ]]\n",
      "\n",
      " [[ 214.93959   101.320244]]\n",
      "\n",
      " [[ 325.12274    95.81196 ]]\n",
      "\n",
      " [[ 442.25693    90.87912 ]]\n",
      "\n",
      " [[ 565.8122     86.42345 ]]\n",
      "\n",
      " [[ 696.351      82.752174]]\n",
      "\n",
      " [[ 833.57587    77.79324 ]]\n",
      "\n",
      " [[1006.23987    55.34331 ]]\n",
      "\n",
      " [[  17.505978  222.61194 ]]]\n",
      "686.7485\n"
     ]
    }
   ],
   "source": [
    "rvec2, _ = cv2.Rodrigues(R2.T)\n",
    "p2, _ = cv2.projectPoints(pts, rvec2, -t2, K, distCoeffs=d)\n",
    "mse2 = np.linalg.norm(p2-pts2.reshape(-1, 1, 2))\n",
    "print(p2[:10])\n",
    "print(mse2)"
   ]
  },
  {
   "cell_type": "code",
   "execution_count": 30,
   "metadata": {},
   "outputs": [
    {
     "name": "stdout",
     "output_type": "stream",
     "text": [
      "[[[211.6582   122.06578 ]]\n",
      "\n",
      " [[312.46432  124.27023 ]]\n",
      "\n",
      " [[408.50275  126.585396]]\n",
      "\n",
      " [[500.57413  128.84879 ]]\n",
      "\n",
      " [[587.4546   131.23679 ]]\n",
      "\n",
      " [[669.55634  133.79903 ]]\n",
      "\n",
      " [[747.62836  136.49435 ]]\n",
      "\n",
      " [[821.47375  138.73965 ]]\n",
      "\n",
      " [[892.5044   139.88567 ]]\n",
      "\n",
      " [[216.15575  222.0639  ]]]\n",
      "6.672421\n"
     ]
    }
   ],
   "source": [
    "rvec1, _ = cv2.Rodrigues(R1.T)\n",
    "p1, _ = cv2.projectPoints(pts, rvec1, -t1, K, distCoeffs=d)\n",
    "mse1 = np.linalg.norm(p1-pts1.reshape(-1, 1, 2))\n",
    "print(p1[:10])\n",
    "print(mse1)"
   ]
  }
 ],
 "metadata": {
  "kernelspec": {
   "display_name": "Python 3",
   "language": "python",
   "name": "python3"
  },
  "language_info": {
   "codemirror_mode": {
    "name": "ipython",
    "version": 3
   },
   "file_extension": ".py",
   "mimetype": "text/x-python",
   "name": "python",
   "nbconvert_exporter": "python",
   "pygments_lexer": "ipython3",
   "version": "3.7.4"
  }
 },
 "nbformat": 4,
 "nbformat_minor": 2
}
