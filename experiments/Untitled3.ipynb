{
 "cells": [
  {
   "cell_type": "code",
   "execution_count": 38,
   "metadata": {},
   "outputs": [],
   "source": [
    "%matplotlib ipympl\n",
    "import cv2\n",
    "import numpy as np\n",
    "import matplotlib.pyplot as plt\n",
    "from mpl_toolkits.mplot3d import Axes3D\n",
    "from pytransform3d.rotations import *"
   ]
  },
  {
   "cell_type": "code",
   "execution_count": 39,
   "metadata": {},
   "outputs": [],
   "source": [
    "# create two views of points\n",
    "#pts1 = np.array([[0.5, 0.5],[0.7, 0.7],[0.5, 0.7],[0.7, 0.5],[0.4, 0.3]])\n",
    "#pts2 = np.array([[0.6, 0.4],[0.3, 0.2],[0.8, 0.9],[0.2, 0.1],[0.1, 0.3]])\n",
    "pts1 = np.array([[0.6, 0.6]])\n",
    "pts2 = np.array([[0.5, 0.6]])"
   ]
  },
  {
   "cell_type": "code",
   "execution_count": 40,
   "metadata": {},
   "outputs": [
    {
     "data": {
      "text/plain": [
       "array([[0.5],\n",
       "       [0.6]])"
      ]
     },
     "execution_count": 40,
     "metadata": {},
     "output_type": "execute_result"
    }
   ],
   "source": [
    "pts2.T"
   ]
  },
  {
   "cell_type": "code",
   "execution_count": 41,
   "metadata": {},
   "outputs": [],
   "source": [
    "# camera matrix\n",
    "K = np.array([[1,0,0.5],[0,1,0.5],[0,0,1]])"
   ]
  },
  {
   "cell_type": "code",
   "execution_count": 42,
   "metadata": {},
   "outputs": [],
   "source": [
    "# relative camera pose\n",
    "R1 = np.array([[1, 0, 0], [0, 1, 0], [0, 0, 1]]).astype(np.float64)\n",
    "t1 = np.array([[0], [0], [0]]).astype(np.float64)\n",
    "R2 = np.array([[1, 0, 0], [0, 1, 0], [0, 0, 1]]).astype(np.float64)\n",
    "t2 = np.array([[1], [0], [0]]).astype(np.float64)"
   ]
  },
  {
   "cell_type": "code",
   "execution_count": 43,
   "metadata": {},
   "outputs": [],
   "source": [
    "# create projection matrices\n",
    "proj_matrix1 = np.hstack([R1.T, -R1.T.dot(t1)])\n",
    "proj_matrix2 = np.hstack([R2.T, -R2.T.dot(t2)])\n",
    "proj_matrix1 = K.dot(proj_matrix1)\n",
    "proj_matrix2 = K.dot(proj_matrix2)"
   ]
  },
  {
   "cell_type": "raw",
   "metadata": {},
   "source": [
    "# create projection matrices\n",
    "proj_matrix1 = np.array([[1, 0, 0, 0],[0, 1, 0, 0],[0, 0, 1, 0]])\n",
    "proj_matrix2 = np.zeros((3, 4))\n",
    "proj_matrix2[:, :3] = R\n",
    "proj_matrix2[:, -1] = t\n",
    "proj_matrix1 = np.matmul(K, proj_matrix1).astype(np.float64)\n",
    "proj_matrix2 = np.matmul(K, proj_matrix2).astype(np.float64)"
   ]
  },
  {
   "cell_type": "code",
   "execution_count": 44,
   "metadata": {},
   "outputs": [
    {
     "data": {
      "text/plain": [
       "array([[1. , 0. , 0.5, 0. ],\n",
       "       [0. , 1. , 0.5, 0. ],\n",
       "       [0. , 0. , 1. , 0. ]])"
      ]
     },
     "execution_count": 44,
     "metadata": {},
     "output_type": "execute_result"
    }
   ],
   "source": [
    "proj_matrix1"
   ]
  },
  {
   "cell_type": "code",
   "execution_count": 45,
   "metadata": {},
   "outputs": [
    {
     "data": {
      "text/plain": [
       "array([[ 1. ,  0. ,  0.5, -1. ],\n",
       "       [ 0. ,  1. ,  0.5,  0. ],\n",
       "       [ 0. ,  0. ,  1. ,  0. ]])"
      ]
     },
     "execution_count": 45,
     "metadata": {},
     "output_type": "execute_result"
    }
   ],
   "source": [
    "proj_matrix2"
   ]
  },
  {
   "cell_type": "code",
   "execution_count": 46,
   "metadata": {},
   "outputs": [],
   "source": [
    "pts = cv2.triangulatePoints(proj_matrix1, proj_matrix2, pts1.T, pts2.T).T"
   ]
  },
  {
   "cell_type": "code",
   "execution_count": 47,
   "metadata": {},
   "outputs": [],
   "source": [
    "pts = cv2.convertPointsFromHomogeneous(pts).reshape(-1, 3)"
   ]
  },
  {
   "cell_type": "code",
   "execution_count": 48,
   "metadata": {},
   "outputs": [
    {
     "data": {
      "text/plain": [
       "array([[ 1.,  1., 10.]])"
      ]
     },
     "execution_count": 48,
     "metadata": {},
     "output_type": "execute_result"
    }
   ],
   "source": [
    "pts"
   ]
  },
  {
   "cell_type": "code",
   "execution_count": 49,
   "metadata": {},
   "outputs": [
    {
     "data": {
      "application/vnd.jupyter.widget-view+json": {
       "model_id": "6c2bf2e8872d4e12b76c3fdbb7b49dae",
       "version_major": 2,
       "version_minor": 0
      },
      "text/plain": [
       "FigureCanvasNbAgg()"
      ]
     },
     "metadata": {},
     "output_type": "display_data"
    }
   ],
   "source": [
    "fig = plt.figure()\n",
    "ax = fig.add_subplot(111, projection='3d')\n",
    "ax.scatter(pts[:, 0], pts[:, 1], pts[:, 2])\n",
    "plot_basis(ax, R1, t1.reshape(3,))\n",
    "plot_basis(ax, R2, t2.reshape(3,))\n",
    "ax.set_xlim([-1,1])\n",
    "ax.set_ylim([-1,1])\n",
    "ax.set_zlim([-10,10])\n",
    "plt.show()"
   ]
  },
  {
   "cell_type": "code",
   "execution_count": 50,
   "metadata": {},
   "outputs": [
    {
     "name": "stdout",
     "output_type": "stream",
     "text": [
      "[[[0.6 0.6]]]\n",
      "[[[0.5 0.6]]]\n"
     ]
    }
   ],
   "source": [
    "rvec1, _ = cv2.Rodrigues(R1.T)\n",
    "p1, _ = cv2.projectPoints(pts, rvec1, -t1, K, distCoeffs=None)\n",
    "print(p1)\n",
    "\n",
    "rvec2, _ = cv2.Rodrigues(R2.T)\n",
    "p2, _ = cv2.projectPoints(pts, rvec2, -t2, K, distCoeffs=None)\n",
    "print(p2)"
   ]
  },
  {
   "cell_type": "code",
   "execution_count": null,
   "metadata": {},
   "outputs": [],
   "source": []
  }
 ],
 "metadata": {
  "kernelspec": {
   "display_name": "Python 3",
   "language": "python",
   "name": "python3"
  },
  "language_info": {
   "codemirror_mode": {
    "name": "ipython",
    "version": 3
   },
   "file_extension": ".py",
   "mimetype": "text/x-python",
   "name": "python",
   "nbconvert_exporter": "python",
   "pygments_lexer": "ipython3",
   "version": "3.7.4"
  }
 },
 "nbformat": 4,
 "nbformat_minor": 2
}
